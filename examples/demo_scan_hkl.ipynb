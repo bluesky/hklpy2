{
 "cells": [
  {
   "cell_type": "markdown",
   "metadata": {},
   "source": [
    "# Scan in $(hkl)$ coordinates\n",
    "\n",
    "This notebook demonstrates how to scan in $(hkl)$ coordinates. It uses the\n",
    "simulated 4-circle geometry from the `\"hkl_soleil\"` solver. The wavelength and\n",
    "sample are whatever the simulator provides as defaults.\n",
    "\n",
    "**Important**:  It is possible to scan in any combination of reciprocal axes or to\n",
    "scan in any combination of real-space axes.  You are not allowed to scan in a\n",
    "mix of reciprocal and real-space axes.\n",
    "\n",
    "## Setup\n",
    "\n",
    "First, create the simulated 4-circle diffractometer object (`e4cv`)."
   ]
  },
  {
   "cell_type": "code",
   "execution_count": 1,
   "metadata": {},
   "outputs": [],
   "source": [
    "from hklpy2 import SimulatedE4CV\n",
    "\n",
    "e4cv = SimulatedE4CV(\"\", name=\"e4cv\")"
   ]
  },
  {
   "cell_type": "markdown",
   "metadata": {},
   "source": [
    "Setup Bluesky for running the scans with the `RE` object.  The `bec` object will\n",
    "show a table of the data collected for each scan.  \n",
    "\n",
    "For this simple demonstration, we won't add a databroker catalog."
   ]
  },
  {
   "cell_type": "code",
   "execution_count": 2,
   "metadata": {},
   "outputs": [],
   "source": [
    "from bluesky import RunEngine, plans as bp\n",
    "from bluesky.callbacks.best_effort import BestEffortCallback\n",
    "\n",
    "bec = BestEffortCallback()\n",
    "RE = RunEngine()\n",
    "RE.subscribe(bec)\n",
    "bec.disable_plots()"
   ]
  },
  {
   "cell_type": "markdown",
   "metadata": {},
   "source": [
    "We'll **import a simulator** (ready to use) from the `ophyd` package as a noisy detector."
   ]
  },
  {
   "cell_type": "code",
   "execution_count": 3,
   "metadata": {},
   "outputs": [],
   "source": [
    "from ophyd.sim import noisy_det"
   ]
  },
  {
   "cell_type": "markdown",
   "metadata": {},
   "source": [
    "## (h10) scan\n",
    "\n",
    "Scan the (reciprocal space) $h$ axis from -0.5 to +0.5 with $k=1$ and $l=0$.\n",
    "This is called an $(h10)$ scan.\n",
    "\n",
    "<details>\n",
    "\n",
    "The computation to convert reciprocal-space values $(h,k,l)$ into real-space\n",
    "angles ($\\omega$, $\\chi$, $\\phi$, $2\\theta$) is called the `forward()`\n",
    "transformation.  The transformation is not necessarily unique.  The most common\n",
    "way to reduce the number of *solutions* is to tell the solver which `mode` to\n",
    "use.  The `mode` adds an additional pre-designed rule that constrains the\n",
    "acceptable solutions.  The solver's geometry (in this case `E4CV`) provides the\n",
    "list of known modes.\n",
    "\n",
    "Note: Even with a chosen mode, the solution might not be unique.  In such cases,\n",
    "the first solution returned by the `forward()` transformation is chosen.  The\n",
    "user can change this by providing a different function for the diffractometer's\n",
    "`_forward_solution` attribute.  The default is the\n",
    "`hklpy2.diffract.pick_first_item()` function.\n",
    "\n",
    "</details>\n",
    "\n",
    "Here, the diffractometer starts with `\"bissector\"` mode (requires `tth = 2*omega`)."
   ]
  },
  {
   "cell_type": "code",
   "execution_count": 4,
   "metadata": {},
   "outputs": [
    {
     "name": "stdout",
     "output_type": "stream",
     "text": [
      "e4cv.operator.solver.mode='bissector'\n",
      "\n",
      "\n",
      "Transient Scan ID: 1     Time: 2024-06-18 10:59:21\n",
      "Persistent Unique Scan ID: '5f4fc0a9-17e2-4ae3-9fd6-f1e7a4b9b775'\n",
      "New stream: 'primary'\n",
      "+-----------+------------+------------+------------+\n",
      "|   seq_num |       time |     e4cv_h |  noisy_det |\n",
      "+-----------+------------+------------+------------+\n",
      "|         1 | 10:59:21.9 |     -0.500 |      0.977 |\n",
      "|         2 | 10:59:21.9 |     -0.400 |      1.038 |\n",
      "|         3 | 10:59:21.9 |     -0.300 |      0.941 |\n",
      "|         4 | 10:59:21.9 |     -0.200 |      1.077 |\n",
      "|         5 | 10:59:21.9 |     -0.100 |      1.079 |\n",
      "|         6 | 10:59:21.9 |      0.000 |      1.061 |\n",
      "|         7 | 10:59:21.9 |      0.100 |      1.085 |\n",
      "|         8 | 10:59:21.9 |      0.200 |      0.972 |\n",
      "|         9 | 10:59:21.9 |      0.300 |      1.028 |\n",
      "|        10 | 10:59:22.0 |      0.400 |      0.970 |\n",
      "|        11 | 10:59:22.0 |      0.500 |      1.015 |\n",
      "+-----------+------------+------------+------------+\n",
      "generator scan ['5f4fc0a9'] (scan num: 1)\n",
      "\n",
      "\n",
      "\n"
     ]
    },
    {
     "data": {
      "text/plain": [
       "('5f4fc0a9-17e2-4ae3-9fd6-f1e7a4b9b775',)"
      ]
     },
     "execution_count": 4,
     "metadata": {},
     "output_type": "execute_result"
    }
   ],
   "source": [
    "print(f\"{e4cv.operator.solver.mode=!r}\")\n",
    "e4cv.k.move(1)\n",
    "e4cv.l.move(0)\n",
    "RE(bp.scan([noisy_det], e4cv.h, -0.5, 0.5, 11))"
   ]
  },
  {
   "cell_type": "markdown",
   "metadata": {},
   "source": [
    "**Clearly we see** that $h$ has been stepped across the range of -0.5 to +0.5.\n",
    "Values for the noisy detector have been reported at each step.  But we want to\n",
    "know about *all* the $hkl$ and angle values so we can observe the effects of\n",
    "`\"bissector\"` mode.\n",
    "\n",
    "### Scan again, showing all $(hkl)$ and real-space axes\n",
    "\n",
    "Repeat the scan, same as before with a slight variation.  This time, add the\n",
    "`e4cv` object as an additional detector."
   ]
  },
  {
   "cell_type": "code",
   "execution_count": 5,
   "metadata": {},
   "outputs": [
    {
     "name": "stdout",
     "output_type": "stream",
     "text": [
      "e4cv.operator.solver.mode='bissector'\n",
      "\n",
      "\n",
      "Transient Scan ID: 2     Time: 2024-06-18 10:59:22\n",
      "Persistent Unique Scan ID: 'ece958ca-2c83-4391-829d-b542094a508e'\n",
      "New stream: 'primary'\n",
      "+-----------+------------+------------+------------+------------+------------+------------+------------+------------+------------+\n",
      "|   seq_num |       time |     e4cv_h |  noisy_det |     e4cv_k |     e4cv_l | e4cv_omega |   e4cv_chi |   e4cv_phi |   e4cv_tth |\n",
      "+-----------+------------+------------+------------+------------+------------+------------+------------+------------+------------+\n",
      "|         1 | 10:59:22.2 |     -0.500 |      0.957 |      1.000 |      0.000 |    -33.988 |    -63.435 |     90.000 |    -67.976 |\n",
      "|         2 | 10:59:22.2 |     -0.400 |      1.031 |      1.000 |      0.000 |    -32.583 |    -68.199 |     90.000 |    -65.165 |\n",
      "|         3 | 10:59:22.2 |     -0.300 |      1.063 |      1.000 |     -0.000 |    -31.468 |    -73.301 |     90.000 |    -62.935 |\n",
      "|         4 | 10:59:22.2 |     -0.200 |      1.028 |      1.000 |     -0.000 |    -30.657 |    -78.690 |     90.000 |    -61.315 |\n",
      "|         5 | 10:59:22.2 |     -0.100 |      1.005 |      1.000 |     -0.000 |    -30.165 |    -84.289 |     90.000 |    -60.330 |\n",
      "|         6 | 10:59:22.2 |      0.000 |      1.072 |      1.000 |      0.000 |    -30.000 |    -90.000 |     90.000 |    -60.000 |\n",
      "|         7 | 10:59:22.2 |      0.100 |      1.091 |      1.000 |      0.000 |    -30.165 |    -95.711 |     90.000 |    -60.330 |\n",
      "|         8 | 10:59:22.2 |      0.200 |      0.952 |      1.000 |     -0.000 |    -30.657 |   -101.310 |     90.000 |    -61.315 |\n",
      "|         9 | 10:59:22.2 |      0.300 |      1.098 |      1.000 |     -0.000 |    -31.468 |   -106.699 |     90.000 |    -62.935 |\n",
      "|        10 | 10:59:22.3 |      0.400 |      1.019 |      1.000 |     -0.000 |    -32.583 |   -111.801 |     90.000 |    -65.165 |\n",
      "|        11 | 10:59:22.3 |      0.500 |      0.904 |      1.000 |     -0.000 |    -33.988 |   -116.565 |     90.000 |    -67.976 |\n",
      "+-----------+------------+------------+------------+------------+------------+------------+------------+------------+------------+\n",
      "generator scan ['ece958ca'] (scan num: 2)\n",
      "\n",
      "\n",
      "\n"
     ]
    },
    {
     "data": {
      "text/plain": [
       "('ece958ca-2c83-4391-829d-b542094a508e',)"
      ]
     },
     "execution_count": 5,
     "metadata": {},
     "output_type": "execute_result"
    }
   ],
   "source": [
    "print(f\"{e4cv.operator.solver.mode=!r}\")\n",
    "e4cv.k.move(1)\n",
    "e4cv.l.move(0)\n",
    "RE(bp.scan([noisy_det, e4cv], e4cv.h, -0.5, 0.5, 11))"
   ]
  },
  {
   "cell_type": "markdown",
   "metadata": {},
   "source": [
    "## What other modes are available?"
   ]
  },
  {
   "cell_type": "code",
   "execution_count": 6,
   "metadata": {},
   "outputs": [
    {
     "data": {
      "text/plain": [
       "['bissector',\n",
       " 'constant_omega',\n",
       " 'constant_chi',\n",
       " 'constant_phi',\n",
       " 'double_diffraction',\n",
       " 'psi_constant']"
      ]
     },
     "execution_count": 6,
     "metadata": {},
     "output_type": "execute_result"
    }
   ],
   "source": [
    "e4cv.operator.solver.modes"
   ]
  },
  {
   "cell_type": "markdown",
   "metadata": {},
   "source": [
    "## Scan $(h10)$ holding $\\omega$ at -30 degrees\n",
    "\n",
    "Set the mode to `\"constant_omega\"`, then set $\\omega=-30$ degrees."
   ]
  },
  {
   "cell_type": "code",
   "execution_count": 7,
   "metadata": {},
   "outputs": [
    {
     "name": "stdout",
     "output_type": "stream",
     "text": [
      "e4cv.omega.position=-30\n"
     ]
    }
   ],
   "source": [
    "e4cv.operator.solver.mode = \"constant_omega\"\n",
    "e4cv.omega.move(-30)\n",
    "print(f\"{e4cv.omega.position=!r}\")"
   ]
  },
  {
   "cell_type": "markdown",
   "metadata": {},
   "source": [
    "**Run the scan again** with the same command."
   ]
  },
  {
   "cell_type": "code",
   "execution_count": 8,
   "metadata": {},
   "outputs": [
    {
     "name": "stdout",
     "output_type": "stream",
     "text": [
      "e4cv.operator.solver.mode='constant_omega'\n",
      "\n",
      "\n",
      "Transient Scan ID: 3     Time: 2024-06-18 10:59:22\n",
      "Persistent Unique Scan ID: '3f5684c0-a076-4c3a-a496-ccec3d9f7a69'\n",
      "New stream: 'primary'\n",
      "+-----------+------------+------------+------------+------------+------------+------------+------------+------------+------------+\n",
      "|   seq_num |       time |     e4cv_h |  noisy_det |     e4cv_k |     e4cv_l | e4cv_omega |   e4cv_chi |   e4cv_phi |   e4cv_tth |\n",
      "+-----------+------------+------------+------------+------------+------------+------------+------------+------------+------------+\n",
      "|         1 | 10:59:22.5 |     -0.500 |      0.933 |      1.000 |      0.000 |    -30.000 |    -63.714 |     81.054 |    -67.976 |\n",
      "|         2 | 10:59:22.5 |     -0.400 |      1.018 |      1.000 |     -0.000 |    -30.000 |    -68.345 |     83.031 |    -65.165 |\n",
      "|         3 | 10:59:22.5 |     -0.300 |      1.096 |      1.000 |     -0.000 |    -30.000 |    -73.364 |     84.887 |    -62.935 |\n",
      "|         4 | 10:59:22.5 |     -0.200 |      1.084 |      1.000 |     -0.000 |    -30.000 |    -78.709 |     86.647 |    -61.315 |\n",
      "|         5 | 10:59:22.5 |     -0.100 |      0.940 |      1.000 |     -0.000 |    -30.000 |    -84.292 |     88.340 |    -60.330 |\n",
      "|         6 | 10:59:22.5 |     -0.000 |      0.982 |      1.000 |     -0.000 |    -30.000 |    -90.000 |     88.340 |    -60.000 |\n",
      "|         7 | 10:59:22.5 |      0.100 |      0.907 |      1.000 |     -0.000 |    -30.000 |    -95.708 |     91.660 |    -60.330 |\n",
      "|         8 | 10:59:22.5 |      0.200 |      1.051 |      1.000 |     -0.000 |    -30.000 |   -101.291 |     93.353 |    -61.315 |\n",
      "|         9 | 10:59:22.5 |      0.300 |      0.952 |      1.000 |     -0.000 |    -30.000 |   -106.636 |     95.113 |    -62.935 |\n",
      "|        10 | 10:59:22.5 |      0.400 |      0.945 |      1.000 |     -0.000 |    -30.000 |   -111.655 |     96.969 |    -65.165 |\n",
      "|        11 | 10:59:22.6 |      0.500 |      1.057 |      1.000 |      0.000 |    -30.000 |   -116.286 |     98.946 |    -67.976 |\n",
      "+-----------+------------+------------+------------+------------+------------+------------+------------+------------+------------+\n",
      "generator scan ['3f5684c0'] (scan num: 3)\n",
      "\n",
      "\n",
      "\n"
     ]
    },
    {
     "data": {
      "text/plain": [
       "('3f5684c0-a076-4c3a-a496-ccec3d9f7a69',)"
      ]
     },
     "execution_count": 8,
     "metadata": {},
     "output_type": "execute_result"
    }
   ],
   "source": [
    "print(f\"{e4cv.operator.solver.mode=!r}\")\n",
    "e4cv.k.move(1)\n",
    "e4cv.l.move(0)\n",
    "RE(bp.scan([noisy_det, e4cv], e4cv.h, -0.5, 0.5, 11))"
   ]
  },
  {
   "cell_type": "markdown",
   "metadata": {},
   "source": [
    "## Scan $(\\bar{1}kl)$ holding $\\omega$ at -30 degrees\n",
    "\n",
    "Keep mode as `\"constant_omega\"` and $\\omega=-30$.  Set $h=-1$ and scan $k$ & $l$."
   ]
  },
  {
   "cell_type": "code",
   "execution_count": 9,
   "metadata": {},
   "outputs": [
    {
     "name": "stdout",
     "output_type": "stream",
     "text": [
      "e4cv.operator.solver.mode='constant_omega'\n",
      "\n",
      "\n",
      "Transient Scan ID: 4     Time: 2024-06-18 10:59:22\n",
      "Persistent Unique Scan ID: '53cb8642-060a-4e88-a115-e4ba3143f595'\n",
      "New stream: 'primary'\n",
      "+-----------+------------+------------+------------+------------+------------+------------+------------+------------+------------+\n",
      "|   seq_num |       time |     e4cv_k |     e4cv_l |  noisy_det |     e4cv_h | e4cv_omega |   e4cv_chi |   e4cv_phi |   e4cv_tth |\n",
      "+-----------+------------+------------+------------+------------+------------+------------+------------+------------+------------+\n",
      "|         1 | 10:59:22.7 |      0.900 |     -0.600 |      0.993 |     -1.000 |    -30.000 |    -39.821 |     36.793 |    -94.876 |\n",
      "|         2 | 10:59:22.7 |      0.920 |     -0.580 |      1.086 |     -1.000 |    -30.000 |    -40.796 |     37.124 |    -95.244 |\n",
      "|         3 | 10:59:22.7 |      0.940 |     -0.560 |      1.032 |     -1.000 |    -30.000 |    -41.770 |     37.424 |    -95.659 |\n",
      "|         4 | 10:59:22.7 |      0.960 |     -0.540 |      1.097 |     -1.000 |    -30.000 |    -42.745 |     37.689 |    -96.119 |\n",
      "|         5 | 10:59:22.7 |      0.980 |     -0.520 |      0.984 |     -1.000 |    -30.000 |    -43.721 |     37.920 |    -96.627 |\n",
      "|         6 | 10:59:22.7 |      1.000 |     -0.500 |      0.927 |     -1.000 |    -30.000 |    -44.698 |     38.112 |    -97.181 |\n",
      "|         7 | 10:59:22.7 |      1.020 |     -0.480 |      1.074 |     -1.000 |    -30.000 |    -45.677 |     38.265 |    -97.782 |\n",
      "|         8 | 10:59:22.7 |      1.040 |     -0.460 |      0.927 |     -1.000 |    -30.000 |    -46.660 |     38.375 |    -98.430 |\n",
      "|         9 | 10:59:22.7 |      1.060 |     -0.440 |      1.042 |     -1.000 |    -30.000 |    -47.647 |     38.440 |    -99.126 |\n",
      "|        10 | 10:59:22.7 |      1.080 |     -0.420 |      1.073 |     -1.000 |    -30.000 |    -48.640 |     38.457 |    -99.869 |\n",
      "|        11 | 10:59:22.7 |      1.100 |     -0.400 |      0.947 |     -1.000 |    -30.000 |    -49.641 |     38.422 |   -100.661 |\n",
      "+-----------+------------+------------+------------+------------+------------+------------+------------+------------+------------+\n",
      "generator scan ['53cb8642'] (scan num: 4)\n",
      "\n",
      "\n",
      "\n"
     ]
    },
    {
     "data": {
      "text/plain": [
       "('53cb8642-060a-4e88-a115-e4ba3143f595',)"
      ]
     },
     "execution_count": 9,
     "metadata": {},
     "output_type": "execute_result"
    }
   ],
   "source": [
    "e4cv.h.move(-1)\n",
    "print(f\"{e4cv.operator.solver.mode=!r}\")\n",
    "RE(bp.scan([noisy_det, e4cv], e4cv.k, 0.9, 1.1, e4cv.l, -0.6, -0.4, 11))"
   ]
  },
  {
   "cell_type": "markdown",
   "metadata": {},
   "source": [
    "## Scan $(h10)$ holding $\\psi$ at 25 degrees\n",
    "\n",
    "Set the mode to `\"psi_constant\"`, then set $\\psi=25$ degrees.\n",
    "\n",
    "TODO: What is $\\psi$?  What is $(h_2, k_2, l_2)$?  Is enabled by solver yet?"
   ]
  }
 ],
 "metadata": {
  "kernelspec": {
   "display_name": "bluesky_2024_2",
   "language": "python",
   "name": "python3"
  },
  "language_info": {
   "codemirror_mode": {
    "name": "ipython",
    "version": 3
   },
   "file_extension": ".py",
   "mimetype": "text/x-python",
   "name": "python",
   "nbconvert_exporter": "python",
   "pygments_lexer": "ipython3",
   "version": "3.11.0"
  }
 },
 "nbformat": 4,
 "nbformat_minor": 2
}

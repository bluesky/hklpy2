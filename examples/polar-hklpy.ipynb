{
 "cells": [
  {
   "cell_type": "markdown",
   "metadata": {},
   "source": [
    "# Compute $\\psi$ with APS POLAR geometry\n",
    "\n",
    "Needs a custom build of `libhkl` with the `\"APS POLAR\"` geometry."
   ]
  },
  {
   "cell_type": "code",
   "execution_count": 1,
   "metadata": {},
   "outputs": [
    {
     "name": "stdout",
     "output_type": "stream",
     "text": [
      "libhkl.VERSION='5.0.0.3511'\n",
      "'APS POLAR' in libhkl.factories()=True\n"
     ]
    }
   ],
   "source": [
    "from hkl import Lattice\n",
    "from hkl.calc import CalcRecip\n",
    "from hkl.diffract import Diffractometer\n",
    "from hkl.util import libhkl\n",
    "from ophyd import Component as Cpt\n",
    "from ophyd import PseudoSingle\n",
    "from ophyd import SoftPositioner\n",
    "\n",
    "print(f\"{libhkl.VERSION=}\")\n",
    "print(f\"{'APS POLAR' in libhkl.factories()=}\")"
   ]
  },
  {
   "cell_type": "code",
   "execution_count": 2,
   "metadata": {},
   "outputs": [],
   "source": [
    "class CalcApsPolar(CalcRecip):\n",
    "    \"\"\"Geometry: E6C\"\"\"\n",
    "\n",
    "    def __init__(self, **kwargs):\n",
    "        super().__init__(\"APS POLAR\", **kwargs)\n",
    "\n",
    "class SimulatedApsPolar(Diffractometer):\n",
    "    \"\"\"SimulatedApsPolar: APS POLAR 6-circle diffractometer, hkl engine\"\"\"\n",
    "\n",
    "    calc_class = CalcApsPolar\n",
    "\n",
    "    h = Cpt(PseudoSingle, \"\", kind=\"hinted\")\n",
    "    k = Cpt(PseudoSingle, \"\", kind=\"hinted\")\n",
    "    l = Cpt(PseudoSingle, \"\", kind=\"hinted\")\n",
    "\n",
    "    tau = Cpt(SoftPositioner, limits=(-180, 180), init_pos=0, kind=\"normal\")\n",
    "    mu = Cpt(SoftPositioner, limits=(-180, 180), init_pos=0, kind=\"normal\")\n",
    "    chi = Cpt(SoftPositioner, limits=(-180, 180), init_pos=0, kind=\"normal\")\n",
    "    phi = Cpt(SoftPositioner, limits=(-180, 180), init_pos=0, kind=\"normal\")\n",
    "    gamma = Cpt(SoftPositioner, limits=(-180, 180), init_pos=0, kind=\"normal\")\n",
    "    delta = Cpt(SoftPositioner, limits=(-180, 180), init_pos=0, kind=\"normal\")\n",
    "\n",
    "    def __init__(self, prefix, **kwargs):\n",
    "        super().__init__(prefix, engine=\"hkl\", **kwargs)\n"
   ]
  },
  {
   "cell_type": "code",
   "execution_count": 3,
   "metadata": {},
   "outputs": [
    {
     "name": "stdout",
     "output_type": "stream",
     "text": [
      "===================== ================================= =========\n",
      "term                  value                             axis_type\n",
      "===================== ================================= =========\n",
      "diffractometer        polar                                      \n",
      "sample name           main                                       \n",
      "energy (keV)          8.05092                                    \n",
      "wavelength (angstrom) 1.54000                                    \n",
      "calc engine           hkl                                        \n",
      "mode                  4-circles constant phi horizontal          \n",
      "h                     0.0                               pseudo   \n",
      "k                     0.0                               pseudo   \n",
      "l                     0.0                               pseudo   \n",
      "tau                   0                                 real     \n",
      "mu                    0                                 real     \n",
      "chi                   0                                 real     \n",
      "phi                   0                                 real     \n",
      "gamma                 0                                 real     \n",
      "delta                 0                                 real     \n",
      "===================== ================================= =========\n",
      "\n"
     ]
    },
    {
     "data": {
      "text/plain": [
       "<pyRestTable.rest_table.Table at 0x7fd1c33265d0>"
      ]
     },
     "execution_count": 3,
     "metadata": {},
     "output_type": "execute_result"
    }
   ],
   "source": [
    "polar = SimulatedApsPolar(\"\", name=\"polar\")\n",
    "polar.wh()"
   ]
  },
  {
   "cell_type": "markdown",
   "metadata": {},
   "source": [
    "Check the `\"psi constant vertical\"` mode is available."
   ]
  },
  {
   "cell_type": "code",
   "execution_count": 4,
   "metadata": {},
   "outputs": [
    {
     "data": {
      "text/plain": [
       "True"
      ]
     },
     "execution_count": 4,
     "metadata": {},
     "output_type": "execute_result"
    }
   ],
   "source": [
    "\"psi constant vertical\" in polar.engine.modes"
   ]
  },
  {
   "cell_type": "markdown",
   "metadata": {},
   "source": [
    "## Define a sample"
   ]
  },
  {
   "cell_type": "code",
   "execution_count": 5,
   "metadata": {},
   "outputs": [
    {
     "data": {
      "text/plain": [
       "array([[-0.09059697, -0.63502298,  0.76716231],\n",
       "       [ 0.48177505, -0.70213807, -0.52430423],\n",
       "       [ 0.8715991 ,  0.32209928,  0.36954981]])"
      ]
     },
     "execution_count": 5,
     "metadata": {},
     "output_type": "execute_result"
    }
   ],
   "source": [
    "a0 = 2 * 3.141592653589793\n",
    "crystalline_vibranium = Lattice(a=a0, b=a0, c=a0, alpha=90, beta=90, gamma=90)\n",
    "sample = polar.calc.new_sample(\"vibranium\", lattice=crystalline_vibranium)\n",
    "sample.compute_UB(\n",
    "    sample.add_reflection(4, 0, 0, [0, 29.35, 0, 50, 0, 58.71]),\n",
    "    sample.add_reflection(0, 4, 0, [0, 29.35, 0, -40, 0, 58.71]),\n",
    ")"
   ]
  },
  {
   "cell_type": "markdown",
   "metadata": {},
   "source": [
    "## Move to (111)"
   ]
  },
  {
   "cell_type": "code",
   "execution_count": 6,
   "metadata": {},
   "outputs": [
    {
     "name": "stdout",
     "output_type": "stream",
     "text": [
      "polar.engine.parameters=['h2', 'k2', 'l2', 'psi']\n"
     ]
    }
   ],
   "source": [
    "polar.move(1, 1, 1)\n",
    "polar.engine.mode = \"psi constant vertical\"\n",
    "print(f\"{polar.engine.parameters=}\")"
   ]
  },
  {
   "cell_type": "markdown",
   "metadata": {},
   "source": [
    "Set azimuthal reflection $(110)$ and $\\psi=12$."
   ]
  },
  {
   "cell_type": "code",
   "execution_count": 7,
   "metadata": {},
   "outputs": [
    {
     "name": "stdout",
     "output_type": "stream",
     "text": [
      "polar.engine._engine.parameters_values_get(1)=[1.0, 1.0, 0.0, 12.0]\n"
     ]
    }
   ],
   "source": [
    "polar.engine._engine.parameters_values_set([1, 1, 0, 12], 1)\n",
    "print(f\"{polar.engine._engine.parameters_values_get(1)=}\")"
   ]
  },
  {
   "cell_type": "markdown",
   "metadata": {},
   "source": [
    "Compute the real-axis motor values with the $(111)$ reflection oriented and $\\psi$ rotation around the azimuthal reflection."
   ]
  },
  {
   "cell_type": "code",
   "execution_count": 8,
   "metadata": {},
   "outputs": [
    {
     "name": "stdout",
     "output_type": "stream",
     "text": [
      "p_111=PosCalcApsPolar(tau=-32.90008532040592, mu=-13.629264133644595, chi=63.55364766315855, phi=-108.99636837096102, gamma=-24.509844491665444, delta=49.32236362782608)\n"
     ]
    }
   ],
   "source": [
    "p_111 = polar.forward(1, 1, 1)\n",
    "print(f\"{p_111=}\")"
   ]
  },
  {
   "cell_type": "markdown",
   "metadata": {},
   "source": [
    "Move all reals to the $(111)$ reflection."
   ]
  },
  {
   "cell_type": "code",
   "execution_count": 9,
   "metadata": {},
   "outputs": [
    {
     "name": "stdout",
     "output_type": "stream",
     "text": [
      "polar.position=SimulatedApsPolarPseudoPos(h=1.0000000014935722, k=0.9999999989977246, l=0.9999999962820191)\n",
      "polar.real_position=SimulatedApsPolarRealPos(tau=-32.90008532040592, mu=-13.629264133644595, chi=63.55364766315855, phi=-108.99636837096102, gamma=-24.509844491665444, delta=49.32236362782608)\n",
      "polar.engine._engine.parameters_values_get(1)=[1.0, 1.0, 0.0, 12.0]\n"
     ]
    }
   ],
   "source": [
    "for axis in p_111._fields:\n",
    "    getattr(polar, axis).move(getattr(p_111, axis))\n",
    "print(f\"{polar.position=}\")\n",
    "print(f\"{polar.real_position=}\")\n",
    "print(f\"{polar.engine._engine.parameters_values_get(1)=}\")"
   ]
  },
  {
   "cell_type": "markdown",
   "metadata": {},
   "source": [
    "## Calculate $\\psi$\n",
    "\n",
    "Check the `\"psi\"` engine is available."
   ]
  },
  {
   "cell_type": "code",
   "execution_count": 10,
   "metadata": {},
   "outputs": [
    {
     "name": "stdout",
     "output_type": "stream",
     "text": [
      "engines=\n"
     ]
    },
    {
     "data": {
      "text/plain": [
       "True"
      ]
     },
     "execution_count": 10,
     "metadata": {},
     "output_type": "execute_result"
    }
   ],
   "source": [
    "engines = [engine.name_get() for engine in polar.engine._engine_list.engines_get()]\n",
    "print(f\"engines=\")\n",
    "\"psi\" in engines"
   ]
  },
  {
   "cell_type": "code",
   "execution_count": 11,
   "metadata": {},
   "outputs": [],
   "source": [
    "class SimulatedApsPolarPsi(Diffractometer):\n",
    "    \"\"\"SimulatedApsPolar: APS POLAR 6-circle diffractometer, psi engine\"\"\"\n",
    "\n",
    "    calc_class = CalcApsPolar\n",
    "\n",
    "    psi = Cpt(PseudoSingle, \"\", kind=\"hinted\")\n",
    "\n",
    "    tau = Cpt(SoftPositioner, limits=(-180, 180), init_pos=0, kind=\"normal\")\n",
    "    mu = Cpt(SoftPositioner, limits=(-180, 180), init_pos=0, kind=\"normal\")\n",
    "    chi = Cpt(SoftPositioner, limits=(-180, 180), init_pos=0, kind=\"normal\")\n",
    "    phi = Cpt(SoftPositioner, limits=(-180, 180), init_pos=0, kind=\"normal\")\n",
    "    gamma = Cpt(SoftPositioner, limits=(-180, 180), init_pos=0, kind=\"normal\")\n",
    "    delta = Cpt(SoftPositioner, limits=(-180, 180), init_pos=0, kind=\"normal\")\n",
    "\n",
    "    def __init__(self, prefix, **kwargs):\n",
    "        super().__init__(prefix, engine=\"psi\", **kwargs)\n"
   ]
  },
  {
   "cell_type": "code",
   "execution_count": 12,
   "metadata": {},
   "outputs": [
    {
     "name": "stdout",
     "output_type": "stream",
     "text": [
      "polar_psi.engine.mode='psi_vertical'\n",
      "polar_psi.engine.parameters=['h2', 'k2', 'l2']\n"
     ]
    }
   ],
   "source": [
    "polar_psi = SimulatedApsPolarPsi(\"\", name=\"polar_psi\")\n",
    "print(f\"{polar_psi.engine.mode=}\")\n",
    "print(f\"{polar_psi.engine.parameters=}\")"
   ]
  },
  {
   "cell_type": "code",
   "execution_count": 13,
   "metadata": {},
   "outputs": [
    {
     "name": "stdout",
     "output_type": "stream",
     "text": [
      "polar_psi.position=SimulatedApsPolarPsiPseudoPos(psi=12.000080866657878)\n",
      "polar_psi.real_position=SimulatedApsPolarPsiRealPos(tau=-32.90008532040592, mu=-13.629264133644595, chi=63.55364766315855, phi=-108.99636837096102, gamma=-24.509844491665444, delta=49.32236362782608)\n"
     ]
    }
   ],
   "source": [
    "polar_psi.calc.new_sample(polar.calc.sample.name, lattice=polar.calc.sample.lattice)\n",
    "polar_psi.calc.sample.UB = polar.UB.get()\n",
    "polar_psi.engine._engine.parameters_values_set([1, 1, 0], 1)\n",
    "for axis in p_111._fields:  # move all reals to the (111) reflection\n",
    "    getattr(polar_psi, axis).move(getattr(p_111, axis))\n",
    "print(f\"{polar_psi.position=}\")\n",
    "print(f\"{polar_psi.real_position=}\")"
   ]
  }
 ],
 "metadata": {
  "kernelspec": {
   "display_name": "bluesky_2024_2",
   "language": "python",
   "name": "python3"
  },
  "language_info": {
   "codemirror_mode": {
    "name": "ipython",
    "version": 3
   },
   "file_extension": ".py",
   "mimetype": "text/x-python",
   "name": "python",
   "nbconvert_exporter": "python",
   "pygments_lexer": "ipython3",
   "version": "3.11.0"
  }
 },
 "nbformat": 4,
 "nbformat_minor": 2
}

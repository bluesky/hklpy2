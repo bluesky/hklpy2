{
 "cells": [
  {
   "cell_type": "markdown",
   "metadata": {},
   "source": [
    "# E6C $\\psi$ (psi) axis\n",
    "\n",
    "Show how to set, compute, and scan $\\psi$ with the E6C diffractometer geometry using\n",
    "the `hkl_soleil` solver.  Scan $\\psi$ at fixed $Q$ and $hkl_2$.\n",
    "\n",
    "Virtual axes, such as $\\psi$, are features provided by the solver and are not necessarily available in every solver.  Consult the solver documentation for details.\n",
    "\n",
    "NOTE: The demonstrations below rely on features provided by the `hkl_soleil` solver.\n",
    "\n",
    "## Overview\n",
    "\n",
    "To set and compute $\\psi$, we'll use two instances of the E6C diffractometer\n",
    "geometry, each with a different calculation engine, described in the next table.\n",
    "\n",
    "engine | how it is used\n",
    "--- | ---\n",
    "`\"hkl\"` | work in reciprocal-space coordinates $h, k, l$\n",
    "`\"psi\"` | work with the $\\psi$ rotation\n",
    "\n",
    "<!--\n",
    "See J. Appl. Cryst. (1999). 32, 943-950, https://doi.org/10.1107/S0021889899007347\n",
    "\"Angle calculations for a six-circle κ diffractometer\"\n",
    "G. Thorkildsen, R. H. Mathiesen and H. B. Larsen\n",
    "\n",
    "Also, DLS has a K6C at I16\n",
    "https://indico.psi.ch/event/12738/contributions/38939/attachments/22657/39873/NOBUGS2022_diffcalc_v2.pdf\n",
    "-->\n",
    "\n",
    "$\\psi$ is the rotation of reference vector $hkl_2$ perpendicular to scattering\n",
    "vector $Q$:\n",
    "\n",
    "<img src=\"../_static/psi-angle.png\" width=\"400\" />\n",
    "\n",
    "color | description\n",
    "--- | ---\n",
    "blue | incident and exit X-ray beams\n",
    "green | scattering vector ($Q$)\n",
    "red | reference vector ($hkl_2$)\n",
    "yellow | rotation ($\\psi$) from $hkl_2$ around $Q$\n",
    "black | principle cartesian axes\n",
    "gray | sample\n",
    "\n",
    "## Steps\n",
    "\n",
    "1. With the `\"hkl\"` engine:\n",
    "    1. Orient a crystalline sample with the `\"hkl\"` engine.\n",
    "    1. Define the azimuthal reflection $h_2, k_2, l_2$ and a $\\psi$ rotation around\n",
    "    that azimuthal reflection.\n",
    "    1. Position the diffractometer for the $h, k, l$ reflection.\n",
    "1. With the `\"psi\"` engine:\n",
    "    1. Copy sample, orientation, and position information from the `\"hkl\"` instance.\n",
    "    1. Compare the computed `psi` value with the value we set previously.\n",
    "1. Scan $\\psi$ at fixed $Q$ and $hkl_2$."
   ]
  },
  {
   "cell_type": "markdown",
   "metadata": {},
   "source": [
    "# SimulatedE6C\n",
    "\n",
    "Create instances of (simulated) E6C for the `\"hkl\"` and `\"psi\"` solver engines.\n",
    "Pre-defined simulator classes are available for both engines."
   ]
  },
  {
   "cell_type": "code",
   "execution_count": 1,
   "metadata": {},
   "outputs": [],
   "source": [
    "from hklpy2 import SimulatedE6C, SimulatedE6C_Psi\n",
    "\n",
    "e6c_hkl = SimulatedE6C(name=\"e6c_hkl\")\n",
    "e6c_psi = SimulatedE6C_Psi(name=\"e6c_psi\")"
   ]
  },
  {
   "cell_type": "markdown",
   "metadata": {},
   "source": [
    "Show the different calculation engines available for the E6C geometry."
   ]
  },
  {
   "cell_type": "code",
   "execution_count": 2,
   "metadata": {},
   "outputs": [
    {
     "name": "stdout",
     "output_type": "stream",
     "text": [
      "e6c_hkl.operator.solver.engines=['hkl', 'psi', 'q2', 'qper_qpar', 'tth2', 'incidence', 'emergence']\n"
     ]
    }
   ],
   "source": [
    "print(f\"{e6c_hkl.operator.solver.engines=}\")"
   ]
  },
  {
   "cell_type": "markdown",
   "metadata": {},
   "source": [
    "Show the different operation modes available with each engine for the E6C geometry.\n",
    "\n",
    "The `hkl` engine has a `\"psi_constant_vertical\"` mode that can be used to calculate reals given some fixed parameters (UB, wavelength, $(hkl)$, $(hkl)_2$, $\\psi$).  The `psi` engine has only one mode."
   ]
  },
  {
   "cell_type": "code",
   "execution_count": 3,
   "metadata": {},
   "outputs": [
    {
     "name": "stdout",
     "output_type": "stream",
     "text": [
      "e6c_hkl.operator.solver.modes=['bissector_vertical', 'constant_omega_vertical', 'constant_chi_vertical', 'constant_phi_vertical', 'lifting_detector_phi', 'lifting_detector_omega', 'lifting_detector_mu', 'double_diffraction_vertical', 'bissector_horizontal', 'double_diffraction_horizontal', 'psi_constant_vertical', 'psi_constant_horizontal', 'constant_mu_horizontal']\n",
      "e6c_psi.operator.solver.modes=['psi_vertical']\n"
     ]
    }
   ],
   "source": [
    "print(f\"{e6c_hkl.operator.solver.modes=}\")\n",
    "print(f\"{e6c_psi.operator.solver.modes=}\")"
   ]
  },
  {
   "cell_type": "markdown",
   "metadata": {},
   "source": [
    "Show the extra axes available with each mode used by this notebook.\n",
    "\n",
    "The `psi` engine has a pseudo axis `\"psi\"` that can be used to calculate $\\psi$ given some fixed parameters (reals, UB, wavelength, $(hkl)$, $(hkl)_2$)"
   ]
  },
  {
   "cell_type": "code",
   "execution_count": 4,
   "metadata": {},
   "outputs": [
    {
     "name": "stdout",
     "output_type": "stream",
     "text": [
      "e6c_hkl.operator.solver.mode='bissector_vertical'\n",
      "e6c_hkl.operator.solver.extras={}\n",
      "e6c_hkl.operator.solver.mode='psi_constant_vertical'\n",
      "e6c_hkl.operator.solver.extras={'h2': 1.0, 'k2': 0.0, 'l2': 0.0, 'psi': 0.0}\n",
      "e6c_psi.operator.solver.mode='psi_vertical'\n",
      "e6c_psi.operator.solver.extras={'h2': 1.0, 'k2': 1.0, 'l2': 1.0}\n"
     ]
    }
   ],
   "source": [
    "e6c_hkl.operator.solver.mode = \"bissector_vertical\"\n",
    "print(f\"{e6c_hkl.operator.solver.mode=}\")\n",
    "print(f\"{e6c_hkl.operator.solver.extras=}\")\n",
    "\n",
    "e6c_hkl.operator.solver.mode = \"psi_constant_vertical\"\n",
    "print(f\"{e6c_hkl.operator.solver.mode=}\")\n",
    "print(f\"{e6c_hkl.operator.solver.extras=}\")\n",
    "\n",
    "# \"psi\" engine has only one mode, do not need to set it\n",
    "print(f\"{e6c_psi.operator.solver.mode=}\")\n",
    "print(f\"{e6c_psi.operator.solver.extras=}\")"
   ]
  },
  {
   "cell_type": "markdown",
   "metadata": {},
   "source": [
    "## Define and orient a sample"
   ]
  },
  {
   "cell_type": "markdown",
   "metadata": {},
   "source": [
    "The sample for this notebook is crystalline vibranium, with a cubic lattice of exactly $2\\pi$.  With it mounted on oru diffractometer, we have identified two reflections which define its orientation."
   ]
  },
  {
   "cell_type": "code",
   "execution_count": 5,
   "metadata": {},
   "outputs": [
    {
     "name": "stdout",
     "output_type": "stream",
     "text": [
      "Reflection(name='r400', geometry='E6C', pseudos={'h': 4, 'k': 0, 'l': 0}, reals={'mu': 0, 'omega': 29.354, 'chi': 0, 'phi': 2, 'gamma': 0, 'delta': 58.71}, wavelength=1.0, digits=4)\n",
      "Reflection(name='r040', geometry='E6C', pseudos={'h': 0, 'k': 4, 'l': 0}, reals={'mu': 0, 'omega': 29.354, 'chi': 0, 'phi': 92, 'gamma': 0, 'delta': 58.71}, wavelength=1.0, digits=4)\n",
      "e6c_hkl.operator.solver.UB=[[0.034882054037, 0.999391435978, -0.0], [0.0, 0.0, 1.0], [0.999391435978, -0.034882054037, -0.0]]\n",
      "e6c_hkl.operator.solver.U=[[0.034882054037, 0.999391435978, 0.0], [0.0, 0.0, 1.0], [0.999391435978, -0.034882054037, 0.0]]\n"
     ]
    }
   ],
   "source": [
    "import math\n",
    "\n",
    "# e6c_hkl.wavelength.put(1.54)  # angstrom (8.0509 keV)\n",
    "\n",
    "e6c_hkl.add_sample(\"vibranium\", 2 * math.pi, digits=5)\n",
    "\n",
    "e6c_hkl.add_reflection((4, 0, 0), (0, 29.354, 0, 2, 0, 58.71), name=\"r400\")\n",
    "e6c_hkl.add_reflection((0, 4, 0), (0, 29.354, 0, 92, 0, 58.71), name=\"r040\")\n",
    "for r in e6c_hkl.sample.reflections.order:\n",
    "    print(f\"{e6c_hkl.sample.reflections[r]}\")\n",
    "e6c_hkl.operator.calc_UB(*e6c_hkl.sample.reflections.order)\n",
    "\n",
    "print(f\"{e6c_hkl.operator.solver.UB=!r}\")\n",
    "print(f\"{e6c_hkl.operator.solver.U=!r}\")\n"
   ]
  },
  {
   "cell_type": "markdown",
   "metadata": {},
   "source": [
    "## Move to the $(111)$ orientation"
   ]
  },
  {
   "cell_type": "code",
   "execution_count": 6,
   "metadata": {},
   "outputs": [
    {
     "name": "stdout",
     "output_type": "stream",
     "text": [
      "e6c_hkl.position=SimulatedE6CPseudoPos(h=1.000000000517, k=-7.014e-09, l=0)\n",
      "e6c_hkl.real_position=SimulatedE6CRealPos(mu=0, omega=4.564279210432, chi=0, phi=1.998999598145, gamma=0, delta=9.128558420864)\n"
     ]
    }
   ],
   "source": [
    "e6c_hkl.operator.solver.mode = \"bissector_vertical\"\n",
    "e6c_hkl.move(1, 0, 0)\n",
    "print(f\"{e6c_hkl.position=}\")\n",
    "print(f\"{e6c_hkl.real_position=}\")"
   ]
  },
  {
   "cell_type": "markdown",
   "metadata": {},
   "source": [
    "## psi_constant_vertical mode -- extra axes"
   ]
  },
  {
   "cell_type": "code",
   "execution_count": 7,
   "metadata": {},
   "outputs": [
    {
     "name": "stdout",
     "output_type": "stream",
     "text": [
      "e6c_hkl.operator.solver.extra_axis_names=['h2', 'k2', 'l2', 'psi']\n"
     ]
    }
   ],
   "source": [
    "e6c_hkl.operator.solver.mode = \"psi_constant_vertical\"\n",
    "print(f\"{e6c_hkl.operator.solver.extra_axis_names=}\")"
   ]
  },
  {
   "cell_type": "markdown",
   "metadata": {},
   "source": [
    "Set azimuthal reflection $(110)$ and $\\psi=12$."
   ]
  },
  {
   "cell_type": "code",
   "execution_count": 8,
   "metadata": {},
   "outputs": [
    {
     "name": "stdout",
     "output_type": "stream",
     "text": [
      "e6c_hkl.operator.solver.extras={'h2': 1.0, 'k2': 1.0, 'l2': 0.0, 'psi': 12.0}\n"
     ]
    }
   ],
   "source": [
    "e6c_hkl.operator.solver.extras = dict(h2=1, k2=1, l2=0, psi=12)\n",
    "print(f\"{e6c_hkl.operator.solver.extras=}\")"
   ]
  },
  {
   "cell_type": "markdown",
   "metadata": {},
   "source": [
    "Compute the real-axis motor values with the $(111)$ reflection oriented and $\\psi$ rotation around the azimuthal reflection."
   ]
  },
  {
   "cell_type": "code",
   "execution_count": 9,
   "metadata": {},
   "outputs": [
    {
     "name": "stdout",
     "output_type": "stream",
     "text": [
      "p_111=SimulatedE6CRealPos(mu=0, omega=62.059110004039, chi=99.773817896463, phi=-49.997332346514, gamma=0, delta=15.844851584345)\n"
     ]
    }
   ],
   "source": [
    "p_111 = e6c_hkl.forward(1, 1, 1)\n",
    "print(f\"{p_111=}\")"
   ]
  },
  {
   "cell_type": "markdown",
   "metadata": {},
   "source": [
    "Move each real (real-space positioner) to the computed $(111)$ reflection position `p_111`."
   ]
  },
  {
   "cell_type": "code",
   "execution_count": 10,
   "metadata": {},
   "outputs": [
    {
     "name": "stdout",
     "output_type": "stream",
     "text": [
      "e6c_hkl.position=SimulatedE6CPseudoPos(h=0.99999999948, k=1.000000010605, l=1.000000009968)\n",
      "e6c_hkl.real_position=SimulatedE6CRealPos(mu=0, omega=62.059110004039, chi=99.773817896463, phi=-49.997332346514, gamma=0, delta=15.844851584345)\n",
      "e6c_hkl.operator.solver.extras={'h2': 1.0, 'k2': 1.0, 'l2': 0.0, 'psi': 12.0}\n"
     ]
    }
   ],
   "source": [
    "e6c_hkl.move_reals(p_111)\n",
    "print(f\"{e6c_hkl.position=}\")\n",
    "print(f\"{e6c_hkl.real_position=}\")\n",
    "print(f\"{e6c_hkl.operator.solver.extras=}\")"
   ]
  },
  {
   "cell_type": "markdown",
   "metadata": {},
   "source": [
    "## Calculate $\\psi$"
   ]
  },
  {
   "cell_type": "code",
   "execution_count": 11,
   "metadata": {},
   "outputs": [
    {
     "name": "stdout",
     "output_type": "stream",
     "text": [
      "e6c_psi.operator.solver.mode='psi_vertical'\n",
      "e6c_psi.operator.solver.extras={'h2': 1.0, 'k2': 1.0, 'l2': 1.0}\n"
     ]
    }
   ],
   "source": [
    "print(f\"{e6c_psi.operator.solver.mode=}\")\n",
    "print(f\"{e6c_psi.operator.solver.extras=}\")"
   ]
  },
  {
   "cell_type": "markdown",
   "metadata": {},
   "source": [
    "Same sample and lattice"
   ]
  },
  {
   "cell_type": "code",
   "execution_count": 12,
   "metadata": {},
   "outputs": [
    {
     "data": {
      "text/plain": [
       "Sample(name='vibranium', lattice=Lattice(a=6.28319, system='cubic'))"
      ]
     },
     "execution_count": 12,
     "metadata": {},
     "output_type": "execute_result"
    }
   ],
   "source": [
    "e6c_psi.add_sample(\"vibranium\", 2 * math.pi, digits=5)"
   ]
  },
  {
   "cell_type": "markdown",
   "metadata": {},
   "source": [
    "Copy orientation from `hkl` instance."
   ]
  },
  {
   "cell_type": "code",
   "execution_count": 13,
   "metadata": {},
   "outputs": [
    {
     "name": "stdout",
     "output_type": "stream",
     "text": [
      "e6c_psi.operator.solver.UB=[[0.034882112737, 0.999391462637, -7.7669e-08], [-1.1035e-07, 3.7043e-08, 0.999999954315], [0.999391567978, -0.034881973051, -8.4609e-08]]\n",
      "e6c_psi.operator.solver.U=[[0.034882108064, 0.999391434092, -3.3171e-08], [-1.1035e-07, 3.7043e-08, 1.0], [0.999391434092, -0.034882108064, 1.11575e-07]]\n"
     ]
    }
   ],
   "source": [
    "e6c_psi.operator.solver.UB = e6c_hkl.operator.solver.UB\n",
    "\n",
    "print(f\"{e6c_psi.operator.solver.UB=!r}\")\n",
    "print(f\"{e6c_psi.operator.solver.U=!r}\")"
   ]
  },
  {
   "cell_type": "markdown",
   "metadata": {},
   "source": [
    "Set ${hkl}_2=(1, 1, 0)$."
   ]
  },
  {
   "cell_type": "code",
   "execution_count": 14,
   "metadata": {},
   "outputs": [
    {
     "name": "stdout",
     "output_type": "stream",
     "text": [
      "e6c_psi.operator.solver.extras={'h2': 1.0, 'k2': 1.0, 'l2': 0.0}\n"
     ]
    }
   ],
   "source": [
    "e6c_psi.operator.solver.extras = dict(h2=1, k2=1, l2=0)\n",
    "print(f\"{e6c_psi.operator.solver.extras=}\")"
   ]
  },
  {
   "cell_type": "markdown",
   "metadata": {},
   "source": [
    "Set real-axis position from `p_111` (above)."
   ]
  },
  {
   "cell_type": "code",
   "execution_count": 15,
   "metadata": {},
   "outputs": [
    {
     "name": "stdout",
     "output_type": "stream",
     "text": [
      "e6c_psi.pseudo_axis_names=['psi']\n",
      "e6c_psi.operator.solver.pseudo_axis_names=['psi']\n",
      "e6c_psi.position=SimulatedE6C_PsiPseudoPos(psi=11.999992685501)\n",
      "e6c_psi.real_position=SimulatedE6C_PsiRealPos(mu=0, omega=62.059110004039, chi=99.773817896463, phi=-49.997332346514, gamma=0, delta=15.844851584345)\n"
     ]
    }
   ],
   "source": [
    "e6c_psi.move_reals(p_111)\n",
    "print(f\"{e6c_psi.pseudo_axis_names=}\")\n",
    "print(f\"{e6c_psi.operator.solver.pseudo_axis_names=}\")\n",
    "print(f\"{e6c_psi.position=}\")\n",
    "print(f\"{e6c_psi.real_position=}\")"
   ]
  },
  {
   "cell_type": "markdown",
   "metadata": {},
   "source": [
    "Compare `hkl` and `psi` reports."
   ]
  },
  {
   "cell_type": "code",
   "execution_count": 16,
   "metadata": {},
   "outputs": [
    {
     "name": "stdout",
     "output_type": "stream",
     "text": [
      "SimulatedE6C(prefix='', name='e6c_hkl', settle_time=0.0, timeout=None, egu='', limits=(0, 0), source='computed', read_attrs=['h', 'h.readback', 'h.setpoint', 'k', 'k.readback', 'k.setpoint', 'l', 'l.readback', 'l.setpoint', 'mu', 'omega', 'chi', 'phi', 'gamma', 'delta'], configuration_attrs=['h', 'k', 'l', 'configuration', 'geometry', 'solver', 'wavelength'], concurrent=True)\n",
      "h=1.0 k=1.0 l=1.0\n",
      "wavelength=1.0\n",
      "mu=0 omega=62.0591 chi=99.7738 phi=-49.9973 gamma=0 delta=15.8449\n",
      "h2=1.0 k2=1.0 l2=0 psi=12.0\n",
      "SimulatedE6C_Psi(prefix='', name='e6c_psi', settle_time=0.0, timeout=None, egu='', limits=(0, 0), source='computed', read_attrs=['psi', 'psi.readback', 'psi.setpoint', 'mu', 'omega', 'chi', 'phi', 'gamma', 'delta'], configuration_attrs=['psi', 'configuration', 'geometry', 'solver', 'wavelength'], concurrent=True)\n",
      "psi=12.0\n",
      "wavelength=1.0\n",
      "mu=0 omega=62.0591 chi=99.7738 phi=-49.9973 gamma=0 delta=15.8449\n",
      "h2=1.0 k2=1.0 l2=0\n"
     ]
    }
   ],
   "source": [
    "print(e6c_hkl)\n",
    "e6c_hkl.wh()\n",
    "print(e6c_psi)\n",
    "e6c_psi.wh()"
   ]
  },
  {
   "cell_type": "markdown",
   "metadata": {},
   "source": [
    "## Scan"
   ]
  },
  {
   "cell_type": "code",
   "execution_count": null,
   "metadata": {},
   "outputs": [],
   "source": [
    "import databroker\n",
    "import numpy\n",
    "\n",
    "from bluesky import plans as bp\n",
    "from bluesky import plan_stubs as bps\n",
    "from bluesky import preprocessors as bpp\n",
    "from bluesky import RunEngine\n",
    "from bluesky.callbacks.best_effort import BestEffortCallback\n",
    "from ophyd.sim import noisy_det\n",
    "from ophyd import Signal\n",
    "\n",
    "from hklpy2 import ConfigurationRunWrapper\n",
    "from hklpy2 import DiffractometerBase\n",
    "\n",
    "# Save orientation of both diffractometers.\n",
    "crw = ConfigurationRunWrapper(e6c_hkl, e6c_psi)\n",
    "\n",
    "bec = BestEffortCallback()\n",
    "bec.disable_plots()\n",
    "cat = databroker.temp().v2\n",
    "RE = RunEngine()\n",
    "RE.subscribe(cat.v1.insert)\n",
    "RE.subscribe(bec)\n",
    "RE.preprocessors.append(crw.wrapper)"
   ]
  },
  {
   "cell_type": "code",
   "execution_count": 18,
   "metadata": {},
   "outputs": [
    {
     "name": "stdout",
     "output_type": "stream",
     "text": [
      "e6c_psi.operator.solver.mode='psi_vertical'\n",
      "e6c_psi.operator.solver.extras={'h2': 1.0, 'k2': 1.0, 'l2': 0.0}\n"
     ]
    }
   ],
   "source": [
    "print(f\"{e6c_psi.operator.solver.mode=}\")\n",
    "print(f\"{e6c_psi.operator.solver.extras=}\")"
   ]
  },
  {
   "cell_type": "markdown",
   "metadata": {},
   "source": [
    "------"
   ]
  },
  {
   "cell_type": "code",
   "execution_count": 19,
   "metadata": {},
   "outputs": [],
   "source": [
    "from collections.abc import Iterable\n",
    "\n",
    "\n",
    "def flatten(xs):\n",
    "    \"\"\"\n",
    "    Convert nested lists into single list.\n",
    "\n",
    "    https://stackoverflow.com/questions/2158395\n",
    "    \"\"\"\n",
    "    for x in xs:\n",
    "        if isinstance(x, Iterable) and not isinstance(x, (str, bytes)):\n",
    "            yield from flatten(x)\n",
    "        else:\n",
    "            yield x"
   ]
  },
  {
   "cell_type": "code",
   "execution_count": null,
   "metadata": {},
   "outputs": [],
   "source": [
    "def move_dict(dfrct: DiffractometerBase, axes: dict):\n",
    "    \"\"\"Move diffractometer axes as described in 'axes' dict.\"\"\"\n",
    "    # Transform axes dict to args for bps.mv(position, value)\n",
    "    moves = list(\n",
    "        flatten(\n",
    "            [\n",
    "                [getattr(dfrct, k), v]  # move the diffractometer axes\n",
    "                for k, v in axes._asdict().items()\n",
    "            ]\n",
    "        )\n",
    "    )\n",
    "    yield from bps.mv(*moves)"
   ]
  },
  {
   "cell_type": "code",
   "execution_count": 25,
   "metadata": {},
   "outputs": [],
   "source": [
    "def _forward_solution_with_fixed_extras(\n",
    "    dfrct: DiffractometerBase,\n",
    "    pseudos: dict,  # (h, k, l)\n",
    "    extras: dict,  # (h2, k2, l2, psi)\n",
    "):\n",
    "    \"\"\"(not a plan) Return the forward solution with fixed extras.\"\"\"\n",
    "    if not isinstance(dfrct, DiffractometerBase):\n",
    "        raise TypeError(f\"Not an hklpy2 diffractometer: {dfrct!r}\")\n",
    "\n",
    "    dfrct.operator.solver.extras = extras  # must come first\n",
    "    return dfrct.forward(list(pseudos.values()))"
   ]
  },
  {
   "cell_type": "code",
   "execution_count": 26,
   "metadata": {},
   "outputs": [],
   "source": [
    "def forward_move_with_extras(\n",
    "    dfrct: DiffractometerBase,\n",
    "    pseudos: dict,  # (h, k, l)\n",
    "    extras: dict,  # (h2, k2, l2, psi)\n",
    "):\n",
    "    \"\"\"\n",
    "    plan: Set extras and compute forward solution at fixed Q and extras.\n",
    "\n",
    "    EXAMPLE::\n",
    "\n",
    "        RE(\n",
    "            move_extra_forward(\n",
    "                diffractometer,\n",
    "                Q=dict(h=2, k=1, l=0),\n",
    "                extras=dict(h2=2, k2=2, l2=0, psi=25),\n",
    "            )\n",
    "        )\n",
    "    \"\"\"\n",
    "    if not isinstance(dfrct, DiffractometerBase):\n",
    "        raise TypeError(f\"Not an hklpy2 diffractometer: {dfrct!r}\")\n",
    "\n",
    "    yield from move_dict(\n",
    "        dfrct,\n",
    "        _forward_solution_with_fixed_extras(dfrct, pseudos, extras),\n",
    "    )"
   ]
  },
  {
   "cell_type": "code",
   "execution_count": 27,
   "metadata": {},
   "outputs": [
    {
     "name": "stdout",
     "output_type": "stream",
     "text": [
      "SimulatedE6CPseudoPos(h=2.0, k=1.0, l=0)\n",
      "SimulatedE6CRealPos(mu=0, omega=100.249830587418, chi=25.0, phi=-61.435948822922, gamma=0, delta=20.499661174836)\n"
     ]
    }
   ],
   "source": [
    "e6c_hkl.operator.solver.mode = \"psi_constant_vertical\"\n",
    "RE(\n",
    "    forward_move_with_extras(\n",
    "        e6c_hkl,\n",
    "        pseudos=dict(h=2, k=1, l=0),\n",
    "        extras=dict(h2=2, k2=2, l2=0, psi=25),\n",
    "    )\n",
    ")\n",
    "print(f\"{e6c_hkl.position}\\n{e6c_hkl.real_position}\")"
   ]
  },
  {
   "cell_type": "code",
   "execution_count": null,
   "metadata": {},
   "outputs": [],
   "source": [
    "def scan_extra_parameter(\n",
    "    detectors: list = [],\n",
    "    dfrct: DiffractometerBase = None,\n",
    "    axis: str = None,  # name of extra parameter to be scanned\n",
    "    start: float = None,\n",
    "    finish: float = None,\n",
    "    num: int = None,\n",
    "    pseudos: dict = None,  # h, k, l\n",
    "    reals: dict = None,  # angles\n",
    "    extras: dict = {},  # define all but the 'axis', these will remain constant\n",
    "    md: dict = None,\n",
    "):\n",
    "    \"\"\"\n",
    "    Scan one (or more) extra diffractometer parameter(s), such as psi.\n",
    "\n",
    "    - iterate extras as decribed:\n",
    "        - set extras\n",
    "        - solution = forward(pseudos)\n",
    "        - move to solution\n",
    "        - trigger detectors\n",
    "        - read all controls\n",
    "    \"\"\"\n",
    "    if axis not in dfrct.operator.solver.extra_axis_names:\n",
    "        raise KeyError(f\"{axis!r} not in {dfrct.operator.solver.extra_axis_names}\")\n",
    "    if pseudos is None and reals is None:\n",
    "        raise KeyError(\"Must define either pseudos or reals.\")\n",
    "    if pseudos is not None and reals is not None:\n",
    "        raise KeyError(\"Cannot define both pseudos and reals.\")\n",
    "    forwardTransformation = reals is None\n",
    "\n",
    "    _md = {\n",
    "        \"diffractometer\": {\n",
    "            \"name\": dfrct.name,\n",
    "            \"geometry\": dfrct.operator.solver.geometry,\n",
    "            \"engine\": dfrct.operator.solver.engine_name,\n",
    "            \"mode\": dfrct.operator.solver.mode,\n",
    "            \"extra_axes\": dfrct.operator.solver.extra_axis_names,\n",
    "        },\n",
    "        \"axis\": axis,\n",
    "        \"start\": start,\n",
    "        \"finish\": finish,\n",
    "        \"num\": num,\n",
    "        \"pseudos\": pseudos,\n",
    "        \"reals\": reals,\n",
    "        \"extras\": extras,\n",
    "        \"transformation\": \"forward\" if forwardTransformation else \"inverse\",\n",
    "    }.update(md or {})\n",
    "\n",
    "    # Make a Signal for the extra axis so it can be reported in LiveTable and any stored data.\n",
    "    signal = Signal(\n",
    "        name=axis,\n",
    "        value=start,\n",
    "        metadata={\"description\": \"solver extra axis\"},\n",
    "    )\n",
    "    all_controls = detectors\n",
    "    all_controls.append(signal)\n",
    "    # TODO: controls.append(extras_device)  # TODO: need Device to report ALL extras\n",
    "    all_controls = list(set(all_controls))\n",
    "\n",
    "    @bpp.stage_decorator(detectors)\n",
    "    @bpp.run_decorator(md=_md)\n",
    "    def _inner():\n",
    "        for value in numpy.linspace(start, finish, num=num):\n",
    "            # note the new position for reporting later\n",
    "            yield from bps.mv(signal, value)\n",
    "\n",
    "            # move\n",
    "            extras.update({axis: value})\n",
    "            if forwardTransformation:\n",
    "                yield from forward_move_with_extras(dfrct, pseudos, extras)\n",
    "            else:\n",
    "                # TODO: Inverse transformation\n",
    "                raise NotImplementedError(\"Inverse transformation not implemented.\")\n",
    "\n",
    "            # trigger\n",
    "            group = \"trigger_detectors\"\n",
    "            for item in detectors:\n",
    "                yield from bps.trigger(item, group=group)\n",
    "            yield from bps.wait(group=group)\n",
    "\n",
    "            # read & record the data point\n",
    "            yield from bps.create(\"primary\")\n",
    "            for item in all_controls:\n",
    "                yield from bps.read(item)\n",
    "            yield from bps.save()\n",
    "\n",
    "    return (yield from _inner())"
   ]
  }
 ],
 "metadata": {
  "kernelspec": {
   "display_name": "base",
   "language": "python",
   "name": "python3"
  },
  "language_info": {
   "codemirror_mode": {
    "name": "ipython",
    "version": 3
   },
   "file_extension": ".py",
   "mimetype": "text/x-python",
   "name": "python",
   "nbconvert_exporter": "python",
   "pygments_lexer": "ipython3",
   "version": "3.11.11"
  }
 },
 "nbformat": 4,
 "nbformat_minor": 2
}

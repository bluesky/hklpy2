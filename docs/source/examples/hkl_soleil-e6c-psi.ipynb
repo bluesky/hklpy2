{
 "cells": [
  {
   "cell_type": "markdown",
   "metadata": {},
   "source": [
    "# **hkl_soleil** E6C psi axis\n",
    "\n",
    "Show how to set, compute, and scan $\\psi$ with the E6C diffractometer\n",
    "{ref}`geometry <geometries-hkl_soleil-e6c>`. Use the `hkl_soleil` solver.  Scan\n",
    "{math}`\\psi` at fixed {math}`Q` and {math}`hkl_2`.\n",
    "\n",
    "Virtual axes, such as $\\psi$, are features provided by the solver as *extras*.\n",
    "*Extras* are not necessarily available in every solver.  Consult the solver\n",
    "documentation for details.\n",
    "\n",
    "---\n",
    "\n",
    "**NOTE**\n",
    "\n",
    "> **&#9432;**  The demonstrations below rely on features provided by the\n",
    "> `hkl_soleil` solver.\n",
    "\n",
    "---\n",
    "\n",
    "## Concise Summary\n",
    "\n",
    "- Define an E6C diffractometer object using `hkl` computation engine (the default).\n",
    "- Add a sample.\n",
    "- Add two known reflections, and compute its $UB$ matrix\n",
    "- Set $\\psi$\n",
    "    - Use the `\"psi_constant_vertical\"` mode.\n",
    "    - Make a dictionary with $hkl_2$ and $\\psi$.\n",
    "    - Finally, compute the real-space position at $hkl$.\n",
    "- Compute $\\psi$\n",
    "    - Create a second E6C diffractometer object using the `\"psi\"` computation engine.\n",
    "    - Copy the $UB$ matrix from the `e6c_hkl` diffractometer.\n",
    "    - Set $hkl_2$.\n",
    "      (Since these are simulators, copy the real-space motor positions.)\n",
    "    - Show the position of $\\psi$.\n",
    "- Scan $\\psi$\n",
    "    - Run the diffractometer's custom `scan_extra()` plan,\n",
    "      specifying both $hkl$ (as `pseudos`) and $hkl_2$ (as `extras`).\n",
    "\n",
    "## Overview\n",
    "\n",
    "To work with $\\psi$ we'll use the `\"hkl\"` engine of the E6C [geometry](../geometry_tables.rst). To compute\n",
    "$\\psi$ we'll use the `\"psi\"` engine.  This table summarizes our use:\n",
    "\n",
    "engine | how it is used\n",
    "--- | ---\n",
    "`\"hkl\"` | work in reciprocal-space coordinates $h, k, l$\n",
    "`\"psi\"` | compute the $\\psi$ rotation angle (not for operations)\n",
    "\n",
    "<!--\n",
    "TODO: compare with APS POLAR geometry\n",
    "\n",
    "See J. Appl. Cryst. (1999). 32, 943-950, https://doi.org/10.1107/S0021889899007347\n",
    "\"Angle calculations for a six-circle κ diffractometer\"\n",
    "G. Thorkildsen, R. H. Mathiesen and H. B. Larsen\n",
    "\n",
    "Also, DLS has a K6C at I16\n",
    "https://indico.psi.ch/event/12738/contributions/38939/attachments/22657/39873/NOBUGS2022_diffcalc_v2.pdf\n",
    "-->\n",
    "\n",
    "$\\psi$ is the rotation of reference vector $hkl_2$ perpendicular to scattering\n",
    "vector $Q$:\n",
    "\n",
    "<img src=\"../_static/psi-angle.png\" width=\"400\" />\n",
    "\n",
    "color | description\n",
    "--- | ---\n",
    "blue | incident and exit X-ray beams\n",
    "green | scattering vector ($Q$)\n",
    "red | reference vector ($hkl_2$)\n",
    "yellow | rotation ($\\psi$) from $hkl_2$ around $Q$\n",
    "black | principle cartesian axes\n",
    "gray | sample\n",
    "\n",
    "### Steps\n",
    "\n",
    "1. With the `\"hkl\"` engine:\n",
    "    1. Orient a crystalline sample with the `\"hkl\"` engine.\n",
    "    1. Define the azimuthal reflection $h_2, k_2, l_2$ and a $\\psi$ rotation.\n",
    "    1. Position the diffractometer for the $h, k, l$ reflection.\n",
    "1. With the `\"psi\"` engine:\n",
    "    1. Copy sample and orientation information from the `\"hkl\"` instance.\n",
    "    1. Copy position information:\n",
    "       - This step is necessary since this notebook uses *simulated* motors.\n",
    "       - Diffractometers using EPICS motors will do this automatically.\n",
    "    1. Compute `psi`.\n",
    "    1. Compare the computed `psi` value with the value set with the `\"hkl\"` instance.\n",
    "1. Scan $\\psi$ at fixed $Q$ and $hkl_2$."
   ]
  },
  {
   "cell_type": "markdown",
   "metadata": {},
   "source": [
    "## Setup E6C Simulators\n",
    "\n",
    "Create instances of (simulated) E6C for the `\"hkl\"` and `\"psi\"` solver engines.\n",
    "The `hklpy2.creator()` function creates both."
   ]
  },
  {
   "cell_type": "code",
   "execution_count": 1,
   "metadata": {},
   "outputs": [],
   "source": [
    "import hklpy2\n",
    "\n",
    "e6c_hkl = hklpy2.creator(\n",
    "    name=\"e6c_hkl\",\n",
    "    geometry=\"E6C\",\n",
    "    solver=\"hkl_soleil\",\n",
    "    solver_kwargs={\"engine\": \"hkl\"},\n",
    ")\n",
    "e6c_psi = hklpy2.creator(\n",
    "    name=\"e6c_psi\",\n",
    "    geometry=\"E6C\",\n",
    "    solver=\"hkl_soleil\",\n",
    "    solver_kwargs={\"engine\": \"psi\"},\n",
    ")"
   ]
  },
  {
   "cell_type": "markdown",
   "metadata": {},
   "source": [
    "Show the different calculation engines available for the E6C geometry."
   ]
  },
  {
   "cell_type": "code",
   "execution_count": 2,
   "metadata": {},
   "outputs": [
    {
     "name": "stdout",
     "output_type": "stream",
     "text": [
      "e6c_hkl.core.solver.engines=['hkl', 'psi', 'q2', 'qper_qpar', 'tth2', 'incidence', 'emergence']\n"
     ]
    }
   ],
   "source": [
    "print(f\"{e6c_hkl.core.solver.engines=}\")"
   ]
  },
  {
   "cell_type": "markdown",
   "metadata": {},
   "source": [
    "---\n",
    "\n",
    "**NOTE**\n",
    "\n",
    "> **&#9432;**  The `solver` works at a lower level than ophyd.  All the code and\n",
    "> structures used by a solver are pure Python code (or calls from Python to\n",
    "> lower level libraries.)\n",
    "\n",
    "---"
   ]
  },
  {
   "cell_type": "markdown",
   "metadata": {},
   "source": [
    "Show the different operation modes available with each engine for the E6C geometry.\n",
    "\n",
    "The `hkl` engine has a `\"psi_constant_vertical\"` mode that can be used to calculate reals given some fixed parameters (UB, wavelength, $(hkl)$, $(hkl)_2$, $\\psi$).  The `psi` engine has only one mode."
   ]
  },
  {
   "cell_type": "code",
   "execution_count": 3,
   "metadata": {},
   "outputs": [
    {
     "name": "stdout",
     "output_type": "stream",
     "text": [
      "e6c_hkl.core.solver.modes=['bissector_vertical', 'constant_omega_vertical', 'constant_chi_vertical', 'constant_phi_vertical', 'lifting_detector_phi', 'lifting_detector_omega', 'lifting_detector_mu', 'double_diffraction_vertical', 'bissector_horizontal', 'double_diffraction_horizontal', 'psi_constant_vertical', 'psi_constant_horizontal', 'constant_mu_horizontal']\n",
      "e6c_psi.core.solver.modes=['psi_vertical']\n"
     ]
    }
   ],
   "source": [
    "print(f\"{e6c_hkl.core.solver.modes=}\")\n",
    "print(f\"{e6c_psi.core.solver.modes=}\")"
   ]
  },
  {
   "cell_type": "markdown",
   "metadata": {},
   "source": [
    "Show the extra axes available with each mode used by this notebook.  (The extras\n",
    "have default values at this time.)\n",
    "\n",
    "The `psi` engine has a pseudo axis `\"psi\"` that can be used to calculate $\\psi$ given some fixed parameters (reals, UB, wavelength, $(hkl)$, $(hkl)_2$)"
   ]
  },
  {
   "cell_type": "code",
   "execution_count": 4,
   "metadata": {},
   "outputs": [
    {
     "name": "stdout",
     "output_type": "stream",
     "text": [
      "e6c_hkl.core.solver.mode='bissector_vertical'\n",
      "e6c_hkl.core.solver.extras={}\n",
      "e6c_hkl.core.solver.mode='psi_constant_vertical'\n",
      "e6c_hkl.core.solver.extras={'h2': 1.0, 'k2': 0.0, 'l2': 0.0, 'psi': 0.0}\n",
      "e6c_psi.core.solver.mode='psi_vertical'\n",
      "e6c_psi.core.solver.extras={'h2': 1.0, 'k2': 1.0, 'l2': 1.0}\n"
     ]
    }
   ],
   "source": [
    "e6c_hkl.core.solver.mode = \"bissector_vertical\"\n",
    "print(f\"{e6c_hkl.core.solver.mode=}\")\n",
    "print(f\"{e6c_hkl.core.solver.extras=}\")\n",
    "\n",
    "e6c_hkl.core.solver.mode = \"psi_constant_vertical\"\n",
    "print(f\"{e6c_hkl.core.solver.mode=}\")\n",
    "print(f\"{e6c_hkl.core.solver.extras=}\")\n",
    "\n",
    "# \"psi\" engine has only one mode, do not need to set it\n",
    "print(f\"{e6c_psi.core.solver.mode=}\")\n",
    "print(f\"{e6c_psi.core.solver.extras=}\")"
   ]
  },
  {
   "cell_type": "markdown",
   "metadata": {},
   "source": [
    "### Define and orient a sample"
   ]
  },
  {
   "cell_type": "markdown",
   "metadata": {},
   "source": [
    "The sample for this notebook is crystalline vibranium, with a cubic lattice of exactly $2\\pi$.  With it mounted on oru diffractometer, we have identified two reflections which define its orientation."
   ]
  },
  {
   "cell_type": "code",
   "execution_count": 5,
   "metadata": {},
   "outputs": [
    {
     "name": "stdout",
     "output_type": "stream",
     "text": [
      "Reflection(name='r400', h=4, k=0, l=0)\n",
      "Reflection(name='r040', h=0, k=4, l=0)\n",
      "e6c_hkl.core.solver.UB=[[0.034882054037, 0.999391435978, -0.0], [0.0, 0.0, 1.0], [0.999391435978, -0.034882054037, -0.0]]\n",
      "e6c_hkl.core.solver.U=[[0.034882054037, 0.999391435978, 0.0], [0.0, 0.0, 1.0], [0.999391435978, -0.034882054037, 0.0]]\n"
     ]
    }
   ],
   "source": [
    "import math\n",
    "\n",
    "e6c_hkl.wavelength.put(1.54)  # angstrom (8.0509 keV)\n",
    "\n",
    "e6c_hkl.add_sample(\"vibranium\", 2 * math.pi, digits=5)\n",
    "\n",
    "e6c_hkl.add_reflection((4, 0, 0), (0, 29.354, 0, 2, 0, 58.71), name=\"r400\")\n",
    "e6c_hkl.add_reflection((0, 4, 0), (0, 29.354, 0, 92, 0, 58.71), name=\"r040\")\n",
    "for r in e6c_hkl.sample.reflections.order:\n",
    "    print(f\"{e6c_hkl.sample.reflections[r]}\")\n",
    "e6c_hkl.core.calc_UB(*e6c_hkl.sample.reflections.order)\n",
    "\n",
    "print(f\"{e6c_hkl.core.solver.UB=!r}\")\n",
    "print(f\"{e6c_hkl.core.solver.U=!r}\")"
   ]
  },
  {
   "cell_type": "markdown",
   "metadata": {},
   "source": [
    "### Move to the $(111)$ orientation\n",
    "\n",
    "Before moving the diffractometer, ensure you have selected the desired operating\n",
    "*mode*."
   ]
  },
  {
   "cell_type": "code",
   "execution_count": 6,
   "metadata": {},
   "outputs": [
    {
     "data": {
      "text/plain": [
       "(Hklpy2DiffractometerPseudoPos(h=1.00000000737, k=-8.2488e-08, l=0),\n",
       " Hklpy2DiffractometerRealPos(mu=0, omega=7.039253278732, chi=0, phi=1.998995273774, gamma=0, delta=14.078506557465))"
      ]
     },
     "execution_count": 6,
     "metadata": {},
     "output_type": "execute_result"
    }
   ],
   "source": [
    "e6c_hkl.core.solver.mode = \"bissector_vertical\"\n",
    "e6c_hkl.move(1, 0, 0)\n",
    "e6c_hkl.position, e6c_hkl.real_position"
   ]
  },
  {
   "cell_type": "markdown",
   "metadata": {},
   "source": [
    "## Set ${hkl}_2$ and $\\psi$"
   ]
  },
  {
   "cell_type": "markdown",
   "metadata": {},
   "source": [
    "Show the extra axes available with `psi_constant_vertical` mode."
   ]
  },
  {
   "cell_type": "code",
   "execution_count": 7,
   "metadata": {},
   "outputs": [
    {
     "name": "stdout",
     "output_type": "stream",
     "text": [
      "e6c_hkl.core.solver.extra_axis_names=['h2', 'k2', 'l2', 'psi']\n"
     ]
    }
   ],
   "source": [
    "e6c_hkl.core.solver.mode = \"psi_constant_vertical\"\n",
    "print(f\"{e6c_hkl.core.solver.extra_axis_names=}\")"
   ]
  },
  {
   "cell_type": "markdown",
   "metadata": {},
   "source": [
    "Set azimuthal reflection ${hkl}_2 = (110)$ and $\\psi=12$.\n",
    "\n",
    "The `extras` are described as a Python dictionary with values for each of the parameters."
   ]
  },
  {
   "cell_type": "code",
   "execution_count": 8,
   "metadata": {},
   "outputs": [
    {
     "name": "stdout",
     "output_type": "stream",
     "text": [
      "e6c_hkl.core.solver.extras={'h2': 1.0, 'k2': 1.0, 'l2': 0.0, 'psi': 12.0}\n"
     ]
    }
   ],
   "source": [
    "e6c_hkl.core.solver.extras = dict(h2=1, k2=1, l2=0, psi=12)\n",
    "print(f\"{e6c_hkl.core.solver.extras=}\")"
   ]
  },
  {
   "cell_type": "markdown",
   "metadata": {},
   "source": [
    "Compute the real-axis motor values with the $Q=(111)$ reflection oriented and $\\psi$ rotation."
   ]
  },
  {
   "cell_type": "code",
   "execution_count": 9,
   "metadata": {},
   "outputs": [
    {
     "name": "stdout",
     "output_type": "stream",
     "text": [
      "p_111=Hklpy2DiffractometerRealPos(mu=0, omega=66.391607045542, chi=99.77381778179, phi=-49.997332854696, gamma=0, delta=24.509844391026)\n"
     ]
    }
   ],
   "source": [
    "p_111 = e6c_hkl.forward(1, 1, 1)\n",
    "print(f\"{p_111=}\")"
   ]
  },
  {
   "cell_type": "markdown",
   "metadata": {},
   "source": [
    "Move each real (real-space positioner) to the computed $(111)$ reflection position `p_111`."
   ]
  },
  {
   "cell_type": "code",
   "execution_count": 10,
   "metadata": {},
   "outputs": [
    {
     "name": "stdout",
     "output_type": "stream",
     "text": [
      "e6c_hkl.position=Hklpy2DiffractometerPseudoPos(h=1.000000009255, k=0.999999994159, l=0.999999984039)\n",
      "e6c_hkl.real_position=Hklpy2DiffractometerRealPos(mu=0, omega=66.391607045542, chi=99.77381778179, phi=-49.997332854696, gamma=0, delta=24.509844391026)\n",
      "e6c_hkl.core.solver.extras={'h2': 1.0, 'k2': 1.0, 'l2': 0.0, 'psi': 12.0}\n"
     ]
    }
   ],
   "source": [
    "e6c_hkl.move_reals(p_111)\n",
    "print(f\"{e6c_hkl.position=}\")\n",
    "print(f\"{e6c_hkl.real_position=}\")\n",
    "print(f\"{e6c_hkl.core.solver.extras=}\")"
   ]
  },
  {
   "cell_type": "markdown",
   "metadata": {},
   "source": [
    "## Compute $\\psi$ at fixed $Q$ and $hkl_2$\n",
    "\n",
    "We'll use the `\"psi\"` engine to compute $\\psi$, given a sample & orientation,\n",
    "${hkl}_2$, and the real-space motor positions."
   ]
  },
  {
   "cell_type": "code",
   "execution_count": 11,
   "metadata": {},
   "outputs": [
    {
     "name": "stdout",
     "output_type": "stream",
     "text": [
      "e6c_psi.core.solver.mode='psi_vertical'\n",
      "e6c_psi.core.solver.extras={'h2': 1.0, 'k2': 1.0, 'l2': 1.0}\n"
     ]
    }
   ],
   "source": [
    "print(f\"{e6c_psi.core.solver.mode=}\")\n",
    "print(f\"{e6c_psi.core.solver.extras=}\")"
   ]
  },
  {
   "cell_type": "markdown",
   "metadata": {},
   "source": [
    "Same sample and lattice"
   ]
  },
  {
   "cell_type": "code",
   "execution_count": 12,
   "metadata": {},
   "outputs": [
    {
     "data": {
      "text/plain": [
       "Sample(name='vibranium', lattice=Lattice(a=6.28319, system='cubic'))"
      ]
     },
     "execution_count": 12,
     "metadata": {},
     "output_type": "execute_result"
    }
   ],
   "source": [
    "e6c_psi.add_sample(\"vibranium\", 2 * math.pi, digits=5)"
   ]
  },
  {
   "cell_type": "markdown",
   "metadata": {},
   "source": [
    "Copy orientation from `hkl` instance.  Note the `psi` and `hkl` UB matrices are\n",
    "not exactly equal.  Equal to about 5 decimal places.)"
   ]
  },
  {
   "cell_type": "code",
   "execution_count": 13,
   "metadata": {},
   "outputs": [
    {
     "name": "stdout",
     "output_type": "stream",
     "text": [
      "e6c_psi.core.solver.UB=[[0.034882112737, 0.999391462637, -7.7669e-08], [-1.1035e-07, 3.7043e-08, 0.999999954315], [0.999391567978, -0.034881973051, -8.4609e-08]]\n",
      "e6c_psi.core.solver.U=[[0.034882108064, 0.999391434092, -3.3171e-08], [-1.1035e-07, 3.7043e-08, 1.0], [0.999391434092, -0.034882108064, 1.11575e-07]]\n",
      "e6c_hkl.core.solver.UB=[[0.034882054037, 0.999391435978, -0.0], [0.0, 0.0, 1.0], [0.999391435978, -0.034882054037, -0.0]]\n",
      "e6c_hkl.core.solver.U=[[0.034882054037, 0.999391435978, 0.0], [0.0, 0.0, 1.0], [0.999391435978, -0.034882054037, 0.0]]\n"
     ]
    }
   ],
   "source": [
    "e6c_psi.core.solver.UB = e6c_hkl.core.solver.UB\n",
    "\n",
    "print(f\"{e6c_psi.core.solver.UB=!r}\")\n",
    "print(f\"{e6c_psi.core.solver.U=!r}\")\n",
    "\n",
    "print(f\"{e6c_hkl.core.solver.UB=!r}\")\n",
    "print(f\"{e6c_hkl.core.solver.U=!r}\")"
   ]
  },
  {
   "cell_type": "markdown",
   "metadata": {},
   "source": [
    "Set ${hkl}_2=(1, 1, 0)$.  As above, describe these parameters in a Python dictionary."
   ]
  },
  {
   "cell_type": "code",
   "execution_count": 14,
   "metadata": {},
   "outputs": [
    {
     "name": "stdout",
     "output_type": "stream",
     "text": [
      "e6c_psi.core.solver.extras={'h2': 1.0, 'k2': 1.0, 'l2': 0.0}\n"
     ]
    }
   ],
   "source": [
    "e6c_psi.core.solver.extras = dict(h2=1, k2=1, l2=0)\n",
    "print(f\"{e6c_psi.core.solver.extras=}\")"
   ]
  },
  {
   "cell_type": "markdown",
   "metadata": {},
   "source": [
    "Set real-space axis positions from `p_111` (above)."
   ]
  },
  {
   "cell_type": "code",
   "execution_count": 15,
   "metadata": {},
   "outputs": [
    {
     "name": "stdout",
     "output_type": "stream",
     "text": [
      "e6c_psi.pseudo_axis_names=['psi']\n",
      "e6c_psi.core.solver.pseudo_axis_names=['psi']\n",
      "e6c_psi.position=Hklpy2DiffractometerPseudoPos(psi=11.999993753337)\n",
      "e6c_psi.real_position=Hklpy2DiffractometerRealPos(mu=0, omega=66.391607045542, chi=99.77381778179, phi=-49.997332854696, gamma=0, delta=24.509844391026)\n"
     ]
    }
   ],
   "source": [
    "e6c_psi.move_reals(p_111)\n",
    "print(f\"{e6c_psi.pseudo_axis_names=}\")\n",
    "print(f\"{e6c_psi.core.solver.pseudo_axis_names=}\")\n",
    "print(f\"{e6c_psi.position=}\")\n",
    "print(f\"{e6c_psi.real_position=}\")"
   ]
  },
  {
   "cell_type": "markdown",
   "metadata": {},
   "source": [
    "Compare `hkl` and `psi` reports."
   ]
  },
  {
   "cell_type": "code",
   "execution_count": 16,
   "metadata": {},
   "outputs": [
    {
     "name": "stdout",
     "output_type": "stream",
     "text": [
      "Hklpy2Diffractometer(prefix='', name='e6c_hkl', settle_time=0.0, timeout=None, egu='', limits=(0, 0), source='computed', read_attrs=['h', 'h.readback', 'h.setpoint', 'k', 'k.readback', 'k.setpoint', 'l', 'l.readback', 'l.setpoint', 'mu', 'omega', 'chi', 'phi', 'gamma', 'delta'], configuration_attrs=['geometry', 'solver', 'wavelength', 'h', 'k', 'l'], concurrent=True)\n",
      "h=1.0, k=1.0, l=1.0\n",
      "wavelength=1.54\n",
      "mu=0, omega=66.3916, chi=99.7738, phi=-49.9973, gamma=0, delta=24.5098\n",
      "h2=1.0 k2=1.0 l2=0 psi=12.0\n",
      "Hklpy2Diffractometer(prefix='', name='e6c_psi', settle_time=0.0, timeout=None, egu='', limits=(0, 0), source='computed', read_attrs=['psi', 'psi.readback', 'psi.setpoint', 'mu', 'omega', 'chi', 'phi', 'gamma', 'delta'], configuration_attrs=['geometry', 'solver', 'wavelength', 'psi'], concurrent=True)\n",
      "psi=12.0\n",
      "wavelength=1.0\n",
      "mu=0, omega=66.3916, chi=99.7738, phi=-49.9973, gamma=0, delta=24.5098\n",
      "h2=1.0 k2=1.0 l2=0\n"
     ]
    }
   ],
   "source": [
    "print(e6c_hkl)\n",
    "e6c_hkl.wh()\n",
    "print(e6c_psi)\n",
    "e6c_psi.wh()"
   ]
  },
  {
   "cell_type": "markdown",
   "metadata": {},
   "source": [
    "## Scan $\\psi$ at fixed $Q$ and $hkl_2$\n",
    "\n",
    "Setup the bluesky tools needed to run scans and review data."
   ]
  },
  {
   "cell_type": "code",
   "execution_count": 17,
   "metadata": {},
   "outputs": [],
   "source": [
    "import databroker\n",
    "\n",
    "from bluesky import RunEngine\n",
    "from bluesky.callbacks.best_effort import BestEffortCallback\n",
    "from ophyd.sim import noisy_det\n",
    "\n",
    "from hklpy2 import ConfigurationRunWrapper\n",
    "\n",
    "# Save orientation of the diffractometer.\n",
    "crw = ConfigurationRunWrapper(e6c_hkl)\n",
    "\n",
    "bec = BestEffortCallback()\n",
    "bec.disable_plots()\n",
    "cat = databroker.temp().v2\n",
    "RE = RunEngine()\n",
    "RE.subscribe(cat.v1.insert)\n",
    "RE.subscribe(bec)\n",
    "RE.preprocessors.append(crw.wrapper)"
   ]
  },
  {
   "cell_type": "markdown",
   "metadata": {},
   "source": [
    "Scan $\\psi$ over a wide range in coarse steps.\n",
    "\n",
    "---\n",
    "\n",
    "**NOTE**\n",
    "\n",
    "> **&#9432;**  Since $\\psi$ is an *extra* axis, it is only available with\n",
    "> certain operation modes, such as `\"psi_constant_vertical\"`.  Be sure to set\n",
    "> that before scanning.  The plan will raise a `KeyError` if the axis name is\n",
    "> not recognized.  Any extra axes are not ophyd objects since they are defined\n",
    "> only when certain modes are selected.  A custom plan is provided which scans\n",
    "> an extra axis, while holding any pseudos or reals, and other extras at\n",
    "> constant values.\n",
    "\n",
    "---\n",
    "\n",
    "This example chooses $Q=(002)$ and $hkl_2=(120)$. (The reference $hkl_2$\n",
    "was chosen to be perpendicular to $Q$.)  Save the `uid` from the scan for later\n",
    "reference.\n",
    "\n",
    "To control the solution space, we adjust the low limit of both $\\phi$ and\n",
    "$\\omega$ so their ranges are limited to $0..180^o$.\n",
    "\n",
    "The `e6c_hkl` diffractometer is added as a detector here so that all the\n",
    "positioner values will be available for plotting later."
   ]
  },
  {
   "cell_type": "code",
   "execution_count": 18,
   "metadata": {},
   "outputs": [
    {
     "name": "stdout",
     "output_type": "stream",
     "text": [
      "\n",
      "\n",
      "Transient Scan ID: 1     Time: 2025-03-19 18:34:24\n",
      "Persistent Unique Scan ID: '9a781abf-3e09-48fc-9eab-96865aba41e1'\n",
      "New stream: 'primary'\n",
      "+-----------+------------+------------+------------+------------+------------+---------------+-------------+-------------+---------------+---------------+--------------------+------------+\n",
      "|   seq_num |       time |  e6c_hkl_h |  e6c_hkl_k |  e6c_hkl_l | e6c_hkl_mu | e6c_hkl_omega | e6c_hkl_chi | e6c_hkl_phi | e6c_hkl_gamma | e6c_hkl_delta | e6c_hkl_extras_psi |  noisy_det |\n",
      "+-----------+------------+------------+------------+------------+------------+---------------+-------------+-------------+---------------+---------------+--------------------+------------+\n",
      "|         1 | 18:34:24.6 |     -0.000 |     -0.000 |      2.000 |          0 |       165.812 |      90.000 |     155.334 |             0 |       -28.375 |              0.100 |      1.026 |\n",
      "|         2 | 18:34:24.6 |      0.000 |      0.000 |      2.000 |          0 |       165.812 |      90.000 |     144.627 |             0 |       -28.375 |             10.807 |      1.037 |\n",
      "|         3 | 18:34:24.7 |     -0.000 |      0.000 |      2.000 |          0 |       165.812 |      90.000 |     133.920 |             0 |       -28.375 |             21.514 |      0.998 |\n",
      "|         4 | 18:34:24.7 |     -0.000 |      0.000 |      2.000 |          0 |       165.812 |      90.000 |     123.213 |             0 |       -28.375 |             32.221 |      1.042 |\n",
      "|         5 | 18:34:24.7 |      0.000 |      0.000 |      2.000 |          0 |       165.812 |      90.000 |     112.505 |             0 |       -28.375 |             42.929 |      1.048 |\n",
      "|         6 | 18:34:24.8 |     -0.000 |      0.000 |      2.000 |          0 |       165.812 |      90.000 |     101.798 |             0 |       -28.375 |             53.636 |      1.073 |\n",
      "|         7 | 18:34:24.8 |     -0.000 |     -0.000 |      2.000 |          0 |       165.812 |      90.000 |      91.091 |             0 |       -28.375 |             64.343 |      1.062 |\n",
      "|         8 | 18:34:24.9 |     -0.000 |      0.000 |      2.000 |          0 |       165.812 |      90.000 |      80.384 |             0 |       -28.375 |             75.050 |      1.042 |\n",
      "|         9 | 18:34:24.9 |     -0.000 |      0.000 |      2.000 |          0 |       165.812 |      90.000 |      69.677 |             0 |       -28.375 |             85.757 |      0.951 |\n",
      "|        10 | 18:34:25.0 |      0.000 |      0.000 |      2.000 |          0 |       165.812 |      90.000 |      58.970 |             0 |       -28.375 |             96.464 |      0.969 |\n",
      "|        11 | 18:34:25.1 |     -0.000 |     -0.000 |      2.000 |          0 |       165.812 |      90.000 |      48.263 |             0 |       -28.375 |            107.171 |      1.095 |\n",
      "|        12 | 18:34:25.2 |     -0.000 |     -0.000 |      2.000 |          0 |       165.812 |      90.000 |      37.555 |             0 |       -28.375 |            117.879 |      0.917 |\n",
      "|        13 | 18:34:25.2 |     -0.000 |      0.000 |      2.000 |          0 |       165.812 |      90.000 |      26.848 |             0 |       -28.375 |            128.586 |      1.054 |\n",
      "|        14 | 18:34:25.3 |      0.000 |     -0.000 |      2.000 |          0 |       165.812 |      90.000 |      16.141 |             0 |       -28.375 |            139.293 |      1.051 |\n",
      "|        15 | 18:34:25.3 |      0.000 |     -0.000 |      2.000 |          0 |       165.812 |      90.000 |       5.434 |             0 |       -28.375 |            150.000 |      0.990 |\n",
      "+-----------+------------+------------+------------+------------+------------+---------------+-------------+-------------+---------------+---------------+--------------------+------------+\n",
      "generator scan_extra ['9a781abf'] (scan num: 1)\n",
      "\n",
      "\n",
      "\n"
     ]
    }
   ],
   "source": [
    "e6c_hkl.core.solver.mode = \"psi_constant_vertical\"\n",
    "e6c_hkl.core.constraints[\"phi\"].low_limit = 0\n",
    "e6c_hkl.core.constraints[\"omega\"].low_limit = 0\n",
    "(uid,) = RE(\n",
    "    e6c_hkl.scan_extra(\n",
    "        [noisy_det, e6c_hkl],\n",
    "        axis=\"psi\",\n",
    "        start=0.1,\n",
    "        finish=150,\n",
    "        num=15,\n",
    "        pseudos=dict(h=0, k=0, l=2),\n",
    "        extras=dict(h2=1, k2=2, l2=0),\n",
    "    ),\n",
    ")"
   ]
  },
  {
   "cell_type": "markdown",
   "metadata": {},
   "source": [
    "### Plot any motions\n",
    "\n",
    "The only real-space axis to be moved by this scan is $\\phi$.  Plot $\\phi$ *vs.*\n",
    "$\\psi$.\n",
    "\n",
    "axis | data name\n",
    "--- | ---\n",
    "$\\phi$ | `e6c_hkl_phi`\n",
    "$\\psi$ | `e6c_hkl_extras_psi`\n",
    "---\n",
    "\n",
    "**NOTE**\n",
    "\n",
    "> **&#9432;**  *Extra* axes are named with the `_extras` label inserted in the\n",
    "> name.\n",
    "\n",
    "---\n"
   ]
  },
  {
   "cell_type": "code",
   "execution_count": 19,
   "metadata": {},
   "outputs": [
    {
     "name": "stderr",
     "output_type": "stream",
     "text": [
      "/home/zorinvm/Apps/miniconda/envs/hklpy2/lib/python3.13/site-packages/databroker/intake_xarray_core/base.py:23: FutureWarning: The return type of `Dataset.dims` will be changed to return a set of dimension names in future, in order to be more consistent with `DataArray.dims`. To access a mapping from dimension names to lengths, please use `Dataset.sizes`.\n",
      "  'dims': dict(self._ds.dims),\n"
     ]
    },
    {
     "data": {
      "image/png": "[encoded data removed]",
      "text/plain": [
       "<Figure size 640x480 with 1 Axes>"
      ]
     },
     "metadata": {},
     "output_type": "display_data"
    }
   ],
   "source": [
    "from apstools.utils import plotxy\n",
    "\n",
    "run = cat[uid]\n",
    "\n",
    "# Compose a title from current conditions.\n",
    "pos = e6c_hkl.full_position(digits=0)\n",
    "Q = f\"({pos['h']:.0f}, {pos['k']:.0f}, {pos['l']:.0f})\"\n",
    "hkl2 = f\"({pos['h2']:.0f}, {pos['k2']:.0f} ,{pos['l2']:.0f})\"\n",
    "title = f\"$Q={Q}$ and $hkl_2={hkl2}$\"\n",
    "\n",
    "plotxy(run, \"e6c_hkl_extras_psi\", \"e6c_hkl_phi\", stats=False, title=title)"
   ]
  }
 ],
 "metadata": {
  "kernelspec": {
   "display_name": "hklpy2",
   "language": "python",
   "name": "python3"
  },
  "language_info": {
   "codemirror_mode": {
    "name": "ipython",
    "version": 3
   },
   "file_extension": ".py",
   "mimetype": "text/x-python",
   "name": "python",
   "nbconvert_exporter": "python",
   "pygments_lexer": "ipython3",
   "version": "3.13.2"
  }
 },
 "nbformat": 4,
 "nbformat_minor": 4
}

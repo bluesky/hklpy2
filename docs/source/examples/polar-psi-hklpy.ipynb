{
 "cells": [
  {
   "cell_type": "markdown",
   "metadata": {},
   "source": [
    "# Compute $\\psi$ with APS POLAR geometry\n",
    "\n",
    "Needs a custom build of `libhkl` with the `\"APS POLAR\"` geometry."
   ]
  },
  {
   "cell_type": "code",
   "execution_count": 1,
   "metadata": {},
   "outputs": [
    {
     "name": "stdout",
     "output_type": "stream",
     "text": [
      "libhkl.VERSION='5.0.0.3511'\n",
      "'APS POLAR' in libhkl.factories()=True\n"
     ]
    }
   ],
   "source": [
    "from hkl import Lattice\n",
    "from hkl.calc import CalcRecip\n",
    "from hkl.diffract import Diffractometer\n",
    "from hkl.util import libhkl\n",
    "from ophyd import Component as Cpt\n",
    "from ophyd import PseudoSingle\n",
    "from ophyd import SoftPositioner\n",
    "\n",
    "print(f\"{libhkl.VERSION=}\")\n",
    "print(f\"{'APS POLAR' in libhkl.factories()=}\")"
   ]
  },
  {
   "cell_type": "code",
   "execution_count": 2,
   "metadata": {},
   "outputs": [],
   "source": [
    "class CalcApsPolar(CalcRecip):\n",
    "    \"\"\"Geometry: E6C\"\"\"\n",
    "\n",
    "    def __init__(self, **kwargs):\n",
    "        super().__init__(\"APS POLAR\", **kwargs)\n",
    "\n",
    "class SimulatedApsPolar(Diffractometer):\n",
    "    \"\"\"SimulatedApsPolar: APS POLAR 6-circle diffractometer, hkl engine\"\"\"\n",
    "\n",
    "    calc_class = CalcApsPolar\n",
    "\n",
    "    h = Cpt(PseudoSingle, \"\", kind=\"hinted\")\n",
    "    k = Cpt(PseudoSingle, \"\", kind=\"hinted\")\n",
    "    l = Cpt(PseudoSingle, \"\", kind=\"hinted\")\n",
    "\n",
    "    tau = Cpt(SoftPositioner, limits=(-180, 180), init_pos=0, kind=\"normal\")\n",
    "    mu = Cpt(SoftPositioner, limits=(-180, 180), init_pos=0, kind=\"normal\")\n",
    "    chi = Cpt(SoftPositioner, limits=(-180, 180), init_pos=0, kind=\"normal\")\n",
    "    phi = Cpt(SoftPositioner, limits=(-180, 180), init_pos=0, kind=\"normal\")\n",
    "    gamma = Cpt(SoftPositioner, limits=(-180, 180), init_pos=0, kind=\"normal\")\n",
    "    delta = Cpt(SoftPositioner, limits=(-180, 180), init_pos=0, kind=\"normal\")\n",
    "\n",
    "    def __init__(self, prefix, **kwargs):\n",
    "        super().__init__(prefix, engine=\"hkl\", **kwargs)\n"
   ]
  },
  {
   "cell_type": "code",
   "execution_count": 3,
   "metadata": {},
   "outputs": [
    {
     "name": "stdout",
     "output_type": "stream",
     "text": [
      "===================== ================================= =========\n",
      "term                  value                             axis_type\n",
      "===================== ================================= =========\n",
      "diffractometer        polar                                      \n",
      "sample name           main                                       \n",
      "energy (keV)          8.05092                                    \n",
      "wavelength (angstrom) 1.54000                                    \n",
      "calc engine           hkl                                        \n",
      "mode                  4-circles constant phi horizontal          \n",
      "h                     0.0                               pseudo   \n",
      "k                     0.0                               pseudo   \n",
      "l                     0.0                               pseudo   \n",
      "tau                   0                                 real     \n",
      "mu                    0                                 real     \n",
      "chi                   0                                 real     \n",
      "phi                   0                                 real     \n",
      "gamma                 0                                 real     \n",
      "delta                 0                                 real     \n",
      "===================== ================================= =========\n",
      "\n"
     ]
    },
    {
     "data": {
      "text/plain": [
       "<pyRestTable.rest_table.Table at 0x7fcaa9d28210>"
      ]
     },
     "execution_count": 3,
     "metadata": {},
     "output_type": "execute_result"
    }
   ],
   "source": [
    "polar = SimulatedApsPolar(\"\", name=\"polar\")\n",
    "polar.wh()"
   ]
  },
  {
   "cell_type": "markdown",
   "metadata": {},
   "source": [
    "Check the `\"psi constant vertical\"` mode is available."
   ]
  },
  {
   "cell_type": "code",
   "execution_count": 4,
   "metadata": {},
   "outputs": [
    {
     "data": {
      "text/plain": [
       "True"
      ]
     },
     "execution_count": 4,
     "metadata": {},
     "output_type": "execute_result"
    }
   ],
   "source": [
    "\"psi constant vertical\" in polar.engine.modes"
   ]
  },
  {
   "cell_type": "markdown",
   "metadata": {},
   "source": [
    "## Define a sample"
   ]
  },
  {
   "cell_type": "code",
   "execution_count": 5,
   "metadata": {},
   "outputs": [
    {
     "data": {
      "text/plain": [
       "array([[-0.09059697, -0.63502298,  0.76716231],\n",
       "       [ 0.48177505, -0.70213807, -0.52430423],\n",
       "       [ 0.8715991 ,  0.32209928,  0.36954981]])"
      ]
     },
     "execution_count": 5,
     "metadata": {},
     "output_type": "execute_result"
    }
   ],
   "source": [
    "a0 = 2 * 3.141592653589793\n",
    "crystalline_vibranium = Lattice(a=a0, b=a0, c=a0, alpha=90, beta=90, gamma=90)\n",
    "sample = polar.calc.new_sample(\"vibranium\", lattice=crystalline_vibranium)\n",
    "sample.compute_UB(\n",
    "    sample.add_reflection(4, 0, 0, [0, 29.35, 0, 50, 0, 58.71]),\n",
    "    sample.add_reflection(0, 4, 0, [0, 29.35, 0, -40, 0, 58.71]),\n",
    ")"
   ]
  },
  {
   "cell_type": "markdown",
   "metadata": {},
   "source": [
    "## Move to (111)"
   ]
  },
  {
   "cell_type": "code",
   "execution_count": 6,
   "metadata": {},
   "outputs": [
    {
     "name": "stdout",
     "output_type": "stream",
     "text": [
      "polar.engine.parameters=['h2', 'k2', 'l2', 'psi']\n"
     ]
    }
   ],
   "source": [
    "polar.move(1, 1, 1)\n",
    "polar.engine.mode = \"psi constant vertical\"\n",
    "print(f\"{polar.engine.parameters=}\")"
   ]
  },
  {
   "cell_type": "markdown",
   "metadata": {},
   "source": [
    "Set azimuthal reflection $(110)$ and $\\psi=12$."
   ]
  },
  {
   "cell_type": "code",
   "execution_count": 7,
   "metadata": {},
   "outputs": [
    {
     "name": "stdout",
     "output_type": "stream",
     "text": [
      "polar.engine._engine.parameters_values_get(1)=[1.0, 1.0, 0.0, 12.0]\n"
     ]
    }
   ],
   "source": [
    "polar.engine._engine.parameters_values_set([1, 1, 0, 12], 1)\n",
    "print(f\"{polar.engine._engine.parameters_values_get(1)=}\")"
   ]
  },
  {
   "cell_type": "markdown",
   "metadata": {},
   "source": [
    "Compute the real-axis motor values with the $(111)$ reflection oriented and $\\psi$ rotation around the azimuthal reflection."
   ]
  },
  {
   "cell_type": "code",
   "execution_count": 8,
   "metadata": {},
   "outputs": [
    {
     "name": "stdout",
     "output_type": "stream",
     "text": [
      "p_111=PosCalcApsPolar(tau=-32.90008532040592, mu=-13.629264133644595, chi=63.55364766315855, phi=-108.99636837096102, gamma=-24.509844491665444, delta=49.32236362782608)\n"
     ]
    }
   ],
   "source": [
    "p_111 = polar.forward(1, 1, 1)\n",
    "print(f\"{p_111=}\")"
   ]
  },
  {
   "cell_type": "markdown",
   "metadata": {},
   "source": [
    "Move all reals to the $(111)$ reflection."
   ]
  },
  {
   "cell_type": "code",
   "execution_count": 9,
   "metadata": {},
   "outputs": [
    {
     "name": "stdout",
     "output_type": "stream",
     "text": [
      "polar.position=SimulatedApsPolarPseudoPos(h=1.0000000014935722, k=0.9999999989977246, l=0.9999999962820191)\n",
      "polar.real_position=SimulatedApsPolarRealPos(tau=-32.90008532040592, mu=-13.629264133644595, chi=63.55364766315855, phi=-108.99636837096102, gamma=-24.509844491665444, delta=49.32236362782608)\n",
      "polar.engine._engine.parameters_values_get(1)=[1.0, 1.0, 0.0, 12.0]\n"
     ]
    }
   ],
   "source": [
    "for axis in p_111._fields:\n",
    "    getattr(polar, axis).move(getattr(p_111, axis))\n",
    "print(f\"{polar.position=}\")\n",
    "print(f\"{polar.real_position=}\")\n",
    "print(f\"{polar.engine._engine.parameters_values_get(1)=}\")"
   ]
  },
  {
   "cell_type": "markdown",
   "metadata": {},
   "source": [
    "## Calculate $\\psi$\n",
    "\n",
    "Check the `\"psi\"` engine is available."
   ]
  },
  {
   "cell_type": "code",
   "execution_count": 10,
   "metadata": {},
   "outputs": [
    {
     "name": "stdout",
     "output_type": "stream",
     "text": [
      "engines=\n"
     ]
    },
    {
     "data": {
      "text/plain": [
       "True"
      ]
     },
     "execution_count": 10,
     "metadata": {},
     "output_type": "execute_result"
    }
   ],
   "source": [
    "engines = [engine.name_get() for engine in polar.engine._engine_list.engines_get()]\n",
    "print(f\"engines=\")\n",
    "\"psi\" in engines"
   ]
  },
  {
   "cell_type": "code",
   "execution_count": 11,
   "metadata": {},
   "outputs": [],
   "source": [
    "class SimulatedApsPolarPsi(Diffractometer):\n",
    "    \"\"\"SimulatedApsPolar: APS POLAR 6-circle diffractometer, psi engine\"\"\"\n",
    "\n",
    "    calc_class = CalcApsPolar\n",
    "\n",
    "    psi = Cpt(PseudoSingle, \"\", kind=\"hinted\")\n",
    "\n",
    "    tau = Cpt(SoftPositioner, limits=(-180, 180), init_pos=0, kind=\"normal\")\n",
    "    mu = Cpt(SoftPositioner, limits=(-180, 180), init_pos=0, kind=\"normal\")\n",
    "    chi = Cpt(SoftPositioner, limits=(-180, 180), init_pos=0, kind=\"normal\")\n",
    "    phi = Cpt(SoftPositioner, limits=(-180, 180), init_pos=0, kind=\"normal\")\n",
    "    gamma = Cpt(SoftPositioner, limits=(-180, 180), init_pos=0, kind=\"normal\")\n",
    "    delta = Cpt(SoftPositioner, limits=(-180, 180), init_pos=0, kind=\"normal\")\n",
    "\n",
    "    def __init__(self, prefix, **kwargs):\n",
    "        super().__init__(prefix, engine=\"psi\", **kwargs)\n"
   ]
  },
  {
   "cell_type": "code",
   "execution_count": 12,
   "metadata": {},
   "outputs": [
    {
     "name": "stdout",
     "output_type": "stream",
     "text": [
      "polar_psi.engine.mode='psi_vertical'\n",
      "polar_psi.engine.parameters=['h2', 'k2', 'l2']\n"
     ]
    }
   ],
   "source": [
    "polar_psi = SimulatedApsPolarPsi(\"\", name=\"polar_psi\")\n",
    "print(f\"{polar_psi.engine.mode=}\")\n",
    "print(f\"{polar_psi.engine.parameters=}\")"
   ]
  },
  {
   "cell_type": "code",
   "execution_count": 13,
   "metadata": {},
   "outputs": [
    {
     "data": {
      "text/plain": [
       "HklSample(name='vibranium', lattice=LatticeTuple(a=6.283185307179586, b=6.283185307179586, c=6.283185307179586, alpha=90.0, beta=90.0, gamma=90.0), ux=Parameter(name='None (internally: ux)', limits=(min=-180.0, max=180.0), value=0.0, fit=True, inverted=False, units='Degree'), uy=Parameter(name='None (internally: uy)', limits=(min=-180.0, max=180.0), value=0.0, fit=True, inverted=False, units='Degree'), uz=Parameter(name='None (internally: uz)', limits=(min=-180.0, max=180.0), value=0.0, fit=True, inverted=False, units='Degree'), U=array([[1., 0., 0.],\n",
       "       [0., 1., 0.],\n",
       "       [0., 0., 1.]]), UB=array([[ 1.000000e+00, -6.123234e-17, -6.123234e-17],\n",
       "       [ 0.000000e+00,  1.000000e+00, -6.123234e-17],\n",
       "       [ 0.000000e+00,  0.000000e+00,  1.000000e+00]]), reflections=[])"
      ]
     },
     "execution_count": 13,
     "metadata": {},
     "output_type": "execute_result"
    }
   ],
   "source": [
    "polar_psi.calc.new_sample(polar.calc.sample.name, lattice=polar.calc.sample.lattice)"
   ]
  },
  {
   "cell_type": "code",
   "execution_count": 14,
   "metadata": {},
   "outputs": [
    {
     "data": {
      "text/plain": [
       "-32.90008532040592"
      ]
     },
     "execution_count": 14,
     "metadata": {},
     "output_type": "execute_result"
    }
   ],
   "source": [
    "polar.tau.position"
   ]
  },
  {
   "cell_type": "code",
   "execution_count": 15,
   "metadata": {},
   "outputs": [
    {
     "name": "stdout",
     "output_type": "stream",
     "text": [
      "Copy UB=ub_source=array([[-0.09059697, -0.63502298,  0.76716231],\n",
      "       [ 0.48177505, -0.70213807, -0.52430423],\n",
      "       [ 0.8715991 ,  0.32209928,  0.36954981]]) from polar to polar\n",
      "Sync polar_psi.tau=-32.90008532040592\n",
      "Sync polar_psi.mu=-13.629264133644595\n",
      "Sync polar_psi.chi=63.55364766315855\n",
      "Sync polar_psi.phi=-108.99636837096102\n",
      "Sync polar_psi.gamma=-24.509844491665444\n",
      "Sync polar_psi.delta=49.32236362782608\n"
     ]
    }
   ],
   "source": [
    "class Sync_UB_Matrix:\n",
    "    \"\"\"Copy the UB matrix from source to target diffractometers.\"\"\"\n",
    "\n",
    "    def __init__(self, source: Diffractometer, target: Diffractometer):\n",
    "        self.source = source\n",
    "        self.target = target\n",
    "        self.source.UB.subscribe(self.sync_callback)\n",
    "\n",
    "        # initialize\n",
    "        self.sync_callback(self.source.UB.get())\n",
    "\n",
    "    def cleanup(self, *args, **kwargs):\n",
    "        \"\"\"Remove all our subscriptions to ophyd objects.\"\"\"\n",
    "        self.source.UB.clear_sub(self.sync_callback)\n",
    "\n",
    "    def sync_callback(self, value=None, **kwargs):\n",
    "        if value is None:\n",
    "            raise RuntimeError(f\"sync_callback: {value=!r}  {kwargs=!r}\")\n",
    "        ub_source = value\n",
    "        print(f\"Copy UB={ub_source=} from {self.source.name} to {self.source.name}\")\n",
    "        self.target.UB.put(ub_source)\n",
    "\n",
    "        for axis in self.source.real_positioners._fields:\n",
    "            ptarget = getattr(self.target, axis)\n",
    "            if isinstance(ptarget, SoftPositioner):\n",
    "                # If the target is a simulated motor, sync it with the source.\n",
    "                psource = getattr(self.source, axis)\n",
    "                ptarget.move(psource.position)\n",
    "                print(f\"Sync {self.target.name}.{axis}={ptarget.position}\")\n",
    "\n",
    "\n",
    "try:\n",
    "    sync_UB.cleanup()\n",
    "except Exception:\n",
    "    pass\n",
    "sync_UB = Sync_UB_Matrix(polar, polar_psi)"
   ]
  },
  {
   "cell_type": "code",
   "execution_count": 16,
   "metadata": {},
   "outputs": [
    {
     "name": "stdout",
     "output_type": "stream",
     "text": [
      "Copy UB=ub_source=array([[-0.09059754, -0.63502231,  0.76716084],\n",
      "       [ 0.48177391, -0.70213845, -0.5243048 ],\n",
      "       [ 0.87159986,  0.32209872,  0.36954883]]) from polar to polar\n",
      "Sync polar_psi.tau=-32.90008532040592\n",
      "Sync polar_psi.mu=-13.629264133644595\n",
      "Sync polar_psi.chi=63.55364766315855\n",
      "Sync polar_psi.phi=-108.99636837096102\n",
      "Sync polar_psi.gamma=-24.509844491665444\n",
      "Sync polar_psi.delta=49.32236362782608\n"
     ]
    }
   ],
   "source": [
    "# test it\n",
    "polar.UB.put(polar_psi.UB.get())"
   ]
  },
  {
   "cell_type": "code",
   "execution_count": 17,
   "metadata": {},
   "outputs": [
    {
     "name": "stdout",
     "output_type": "stream",
     "text": [
      "polar.UB.get()=array([[-0.09059754, -0.63502234,  0.76716085],\n",
      "       [ 0.48177376, -0.70213846, -0.52430483],\n",
      "       [ 0.8715998 ,  0.32209881,  0.36954882]])\n",
      "polar_psi.UB.get()=array([[-0.09059759, -0.63502244,  0.76716087],\n",
      "       [ 0.48177389, -0.70213845, -0.52430479],\n",
      "       [ 0.87159984,  0.32209868,  0.36954887]])\n",
      "np.allclose(polar.UB.get(), polar_psi.UB.get(), rtol=0.001)=True\n",
      "np.allclose(polar.UB.get(), polar_psi.UB.get(), rtol=0.000_1)=True\n",
      "np.allclose(polar.UB.get(), polar_psi.UB.get(), rtol=0.000_01)=True\n",
      "np.allclose(polar.UB.get(), polar_psi.UB.get(), rtol=0.000_001)=True\n"
     ]
    }
   ],
   "source": [
    "import numpy as np\n",
    "\n",
    "# polar_psi.calc.sample.UB = polar.UB.get()\n",
    "print(f\"{polar.UB.get()=}\")\n",
    "print(f\"{polar_psi.UB.get()=}\")\n",
    "print(f\"{np.allclose(polar.UB.get(), polar_psi.UB.get(), rtol=0.001)=}\")\n",
    "print(f\"{np.allclose(polar.UB.get(), polar_psi.UB.get(), rtol=0.000_1)=}\")\n",
    "print(f\"{np.allclose(polar.UB.get(), polar_psi.UB.get(), rtol=0.000_01)=}\")\n",
    "print(f\"{np.allclose(polar.UB.get(), polar_psi.UB.get(), rtol=0.000_001)=}\")"
   ]
  },
  {
   "cell_type": "code",
   "execution_count": 18,
   "metadata": {},
   "outputs": [
    {
     "name": "stdout",
     "output_type": "stream",
     "text": [
      "polar_psi.position=SimulatedApsPolarPsiPseudoPos(psi=12.000088392248006)\n",
      "polar_psi.real_position=SimulatedApsPolarPsiRealPos(tau=-32.90008532040592, mu=-13.629264133644595, chi=63.55364766315855, phi=-108.99636837096102, gamma=-24.509844491665444, delta=49.32236362782608)\n"
     ]
    }
   ],
   "source": [
    "polar_psi.engine._engine.parameters_values_set([1, 1, 0], 1)\n",
    "for axis in p_111._fields:  # move all reals to the (111) reflection\n",
    "    getattr(polar_psi, axis).move(getattr(p_111, axis))\n",
    "print(f\"{polar_psi.position=}\")\n",
    "print(f\"{polar_psi.real_position=}\")"
   ]
  },
  {
   "cell_type": "code",
   "execution_count": 19,
   "metadata": {},
   "outputs": [
    {
     "data": {
      "text/plain": [
       "{'hkl': Engine(parameters=['h2', 'k2', 'l2', 'psi'], pseudo_axes=OrderedDict([('h', 1.0000000014935722), ('k', 0.9999999989977246), ('l', 0.9999999962820191)]), mode='psi constant vertical', modes=['4-circles constant phi horizontal', 'zaxis + alpha-fixed', 'zaxis + beta-fixed', 'zaxis + alpha=beta', '4-circles bissecting horizontal', '4-circles constant mu horizontal', '4-circles constant chi horizontal', 'lifting detector mu', 'lifting detector mu', 'lifting detector chi', 'lifting detector phi', 'psi constant horizontal', 'psi constant vertical'], units='user'),\n",
       " 'psi': Engine(parameters=['h2', 'k2', 'l2'], pseudo_axes=OrderedDict([('psi', 104.73784859388705)]), mode='psi_vertical', modes=['psi_vertical'], units='user')}"
      ]
     },
     "execution_count": 19,
     "metadata": {},
     "output_type": "execute_result"
    }
   ],
   "source": [
    "polar.calc.engines"
   ]
  }
 ],
 "metadata": {
  "kernelspec": {
   "display_name": "bluesky_2024_2",
   "language": "python",
   "name": "python3"
  },
  "language_info": {
   "codemirror_mode": {
    "name": "ipython",
    "version": 3
   },
   "file_extension": ".py",
   "mimetype": "text/x-python",
   "name": "python",
   "nbconvert_exporter": "python",
   "pygments_lexer": "ipython3",
   "version": "3.11.0"
  }
 },
 "nbformat": 4,
 "nbformat_minor": 2
}

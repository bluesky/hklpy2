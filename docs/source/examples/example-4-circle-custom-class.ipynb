{
 "cells": [
  {
   "cell_type": "markdown",
   "id": "89ae8342-d7e0-465e-885e-3e56082f8575",
   "metadata": {},
   "source": [
    "(example.e4cv.custom-class)=\n",
    "# Example 4-circle diffractometer custom Python class\n",
    "\n",
    "It's always possible to define your own subclass of\n",
    "{class}`~hklpy2.diffract.DiffractometerBase()` when you need more control than\n",
    "provided by {func}`~hklpy2.diffract.creator()`.\n",
    "\n",
    "Here's a brief example of a 4-circle diffractometer with a custom Python class.\n",
    "Add many additional axes, both in real (rotation angle) space and in reciprocal\n",
    "(pseudo) space."
   ]
  },
  {
   "cell_type": "code",
   "execution_count": null,
   "id": "b6f15454-7d0d-418a-bef4-89be51a26cf1",
   "metadata": {
    "scrolled": true
   },
   "outputs": [
    {
     "data": {
      "text/plain": [
       "Fourc(prefix='gp:', name='fourc', settle_time=0.0, timeout=None, egu='', limits=(0, 0), source='computed', read_attrs=['h', 'h.readback', 'h.setpoint', 'k', 'k.readback', 'k.setpoint', 'l', 'l.readback', 'l.setpoint', 'ttheta', 'ttheta.user_readback', 'ttheta.user_setpoint', 'theta', 'theta.user_readback', 'theta.user_setpoint', 'chi', 'chi.user_readback', 'chi.user_setpoint', 'phi', 'phi.user_readback', 'phi.user_setpoint', 'h2', 'h2.readback', 'h2.setpoint', 'k2', 'k2.readback', 'k2.setpoint', 'l2', 'l2.readback', 'l2.setpoint', 'psi', 'energy'], configuration_attrs=['geometry', 'solver', 'wavelength', 'h', 'k', 'l', 'ttheta', 'ttheta.user_offset', 'ttheta.user_offset_dir', 'ttheta.velocity', 'ttheta.acceleration', 'ttheta.motor_egu', 'theta', 'theta.user_offset', 'theta.user_offset_dir', 'theta.velocity', 'theta.acceleration', 'theta.motor_egu', 'chi', 'chi.user_offset', 'chi.user_offset_dir', 'chi.velocity', 'chi.acceleration', 'chi.motor_egu', 'phi', 'phi.user_offset', 'phi.user_offset_dir', 'phi.velocity', 'phi.acceleration', 'phi.motor_egu', 'h2', 'k2', 'l2'], concurrent=True)"
      ]
     },
     "execution_count": 1,
     "metadata": {},
     "output_type": "execute_result"
    }
   ],
   "source": [
    "import hklpy2\n",
    "from ophyd import Component as Cpt\n",
    "from ophyd import EpicsMotor\n",
    "from ophyd import Kind\n",
    "from ophyd import PseudoSingle\n",
    "from ophyd import SoftPositioner\n",
    "\n",
    "NORMAL_HINTED = Kind.hinted | Kind.normal\n",
    "\n",
    "\n",
    "class Fourc(hklpy2.DiffractometerBase):\n",
    "    \"\"\"Test case.\"\"\"\n",
    "\n",
    "    # Pseudo-space axes, in order expected by hkl_soleil E4CV, engine=\"hkl\"\n",
    "    h = Cpt(PseudoSingle, \"\", kind=NORMAL_HINTED)  # noqa: E741\n",
    "    k = Cpt(PseudoSingle, \"\", kind=NORMAL_HINTED)  # noqa: E741\n",
    "    l = Cpt(PseudoSingle, \"\", kind=NORMAL_HINTED)  # noqa: E741\n",
    "\n",
    "    # Real-space axes, in our own order..\n",
    "    # Use different names than the solver for some axes\n",
    "    ttheta = Cpt(EpicsMotor, \"m29\", kind=NORMAL_HINTED)\n",
    "    theta = Cpt(EpicsMotor, \"m30\", kind=NORMAL_HINTED)\n",
    "    chi = Cpt(EpicsMotor, \"m31\", kind=NORMAL_HINTED)\n",
    "    phi = Cpt(EpicsMotor, \"m32\", kind=NORMAL_HINTED)\n",
    "\n",
    "    # Pseudo-space extra axes used in a couple modes.\n",
    "    h2 = Cpt(PseudoSingle, \"\", kind=NORMAL_HINTED)  # noqa: E741\n",
    "    k2 = Cpt(PseudoSingle, \"\", kind=NORMAL_HINTED)  # noqa: E741\n",
    "    l2 = Cpt(PseudoSingle, \"\", kind=NORMAL_HINTED)  # noqa: E741\n",
    "\n",
    "    # real-space extra axis used in a couple modes\n",
    "    psi = Cpt(SoftPositioner, limits=(-170, 170), init_pos=0, kind=NORMAL_HINTED)\n",
    "\n",
    "    # another Component, not used (yet)\n",
    "    energy = Cpt(SoftPositioner, limits=(5, 35), init_pos=12.4, kind=NORMAL_HINTED)\n",
    "\n",
    "    def __init__(self, *args, **kwargs):\n",
    "        super().__init__(\n",
    "            *args,\n",
    "            solver=\"hkl_soleil\",\n",
    "            geometry=\"E4CV\",\n",
    "            solver_kwargs=dict(engine=\"hkl\"),\n",
    "            **kwargs,\n",
    "        )\n",
    "        # self.core.auto_assign_axes()  # When axes are specified in expected order.\n",
    "        self.core.assign_axes(\n",
    "            \"h k l\".split(),\n",
    "            # Just the axes expected by hkl_soleil E4CV, in order.\n",
    "            \"theta chi phi ttheta\".split(),\n",
    "        )\n",
    "\n",
    "\n",
    "fourc = Fourc(\"gp:\", name=\"fourc\")\n",
    "fourc"
   ]
  },
  {
   "cell_type": "code",
   "execution_count": 2,
   "id": "321bed6a",
   "metadata": {},
   "outputs": [
    {
     "name": "stdout",
     "output_type": "stream",
     "text": [
      "Brief 'where' report:\n"
     ]
    },
    {
     "name": "stderr",
     "output_type": "stream",
     "text": [
      "/home/zorinvm/Documents/projects/prjemian/hklpy2/hklpy2/misc.py:316: UserWarning:  Extra inputs will be ignored. Expected 4. Received input=FourcRealPos(ttheta=0.0, theta=0.0, chi=0.0, phi=0.0, psi=0, energy=12.4), names=['ttheta', 'theta', 'chi', 'phi']\n",
      "  warnings.warn(\n"
     ]
    },
    {
     "name": "stdout",
     "output_type": "stream",
     "text": [
      "h=0, k=0, l=0, h2=0, k2=0, l2=0\n",
      "wavelength=1.0\n",
      "ttheta=0, theta=0, chi=0, phi=0, psi=0, energy=12.4\n"
     ]
    }
   ],
   "source": [
    "print(\"Brief 'where' report:\")\n",
    "fourc.wh()\n"
   ]
  },
  {
   "cell_type": "code",
   "execution_count": 3,
   "id": "cf49df56",
   "metadata": {},
   "outputs": [
    {
     "name": "stdout",
     "output_type": "stream",
     "text": [
      "Full 'where' report:\n",
      "diffractometer='fourc'\n",
      "HklSolver(name='hkl_soleil', version='5.1.2', geometry='E4CV', engine_name='hkl', mode='bissector')\n",
      "Sample(name='sample', lattice=Lattice(a=1, system='cubic'))\n",
      "Orienting reflections: []\n",
      "U=[[1, 0, 0], [0, 1, 0], [0, 0, 1]]\n",
      "UB=[[1, 0, 0], [0, 1, 0], [0, 0, 1]]\n",
      "constraint: -180.0 <= ttheta <= 180.0\n",
      "constraint: -180.0 <= theta <= 180.0\n",
      "constraint: -180.0 <= chi <= 180.0\n",
      "constraint: -180.0 <= phi <= 180.0\n",
      "constraint: -180.0 <= psi <= 180.0\n",
      "constraint: -180.0 <= energy <= 180.0\n",
      "h=0, k=0, l=0, h2=0, k2=0, l2=0\n",
      "wavelength=1.0\n",
      "ttheta=0, theta=0, chi=0, phi=0, psi=0, energy=12.4\n"
     ]
    }
   ],
   "source": [
    "print(\"Full 'where' report:\")\n",
    "fourc.wh(full=True)"
   ]
  },
  {
   "cell_type": "markdown",
   "id": "0c4860b0",
   "metadata": {},
   "source": [
    "Use the lower level methods to compute `forward()` and `inverse()` transformations."
   ]
  },
  {
   "cell_type": "code",
   "execution_count": 4,
   "id": "bc44c255",
   "metadata": {},
   "outputs": [
    {
     "name": "stderr",
     "output_type": "stream",
     "text": [
      "/home/zorinvm/Documents/projects/prjemian/hklpy2/hklpy2/misc.py:316: UserWarning:  Extra inputs will be ignored. Expected 3. Received input=FourcPseudoPos(h=1, k=0, l=0, h2=0, k2=0, l2=0), names=['h', 'k', 'l']\n",
      "  warnings.warn(\n"
     ]
    },
    {
     "data": {
      "text/plain": [
       "FourcRealPos(ttheta=30.00000000079, theta=-4.747e-09, chi=90.00000000447, phi=60.00000000158, psi=0, energy=12.4)"
      ]
     },
     "execution_count": 4,
     "metadata": {},
     "output_type": "execute_result"
    }
   ],
   "source": [
    "fourc.forward(1, 0, 0)  # Shows the default choice."
   ]
  },
  {
   "cell_type": "code",
   "execution_count": 5,
   "id": "07e3c0fa",
   "metadata": {},
   "outputs": [
    {
     "data": {
      "text/plain": [
       "[FourcRealPos(ttheta=-30.000000181209, theta=-9.5582e-08, chi=-89.999999974224, phi=-60.000000362418, psi=0, energy=12.4),\n",
       " FourcRealPos(ttheta=30.000000181209, theta=-9.5582e-08, chi=90.000000025776, phi=60.000000362418, psi=0, energy=12.4),\n",
       " FourcRealPos(ttheta=-30.000000181209, theta=-9.5582e-08, chi=150.000000388193, phi=60.000000396423, psi=0, energy=12.4),\n",
       " FourcRealPos(ttheta=-149.999999818791, theta=-9.5582e-08, chi=29.999999663358, phi=-60.000000465387, psi=0, energy=12.4),\n",
       " FourcRealPos(ttheta=30.000000181209, theta=-9.5582e-08, chi=-150.000000336642, phi=-60.000000465387, psi=0, energy=12.4),\n",
       " FourcRealPos(ttheta=-149.999999818791, theta=-9.5582e-08, chi=-89.999999974224, phi=60.000000362418, psi=0, energy=12.4),\n",
       " FourcRealPos(ttheta=-30.000000181209, theta=-179.999999904418, chi=90.000000025776, phi=-60.000000362418, psi=0, energy=12.4),\n",
       " FourcRealPos(ttheta=30.000000181209, theta=-179.999999904418, chi=-89.999999974224, phi=60.000000362418, psi=0, energy=12.4),\n",
       " FourcRealPos(ttheta=-30.000000181209, theta=-179.999999904418, chi=-150.000000336642, phi=60.000000396423, psi=0, energy=12.4),\n",
       " FourcRealPos(ttheta=-149.999999818791, theta=-179.999999904418, chi=-29.999999611807, phi=-60.000000465387, psi=0, energy=12.4),\n",
       " FourcRealPos(ttheta=30.000000181209, theta=-179.999999904418, chi=150.000000388193, phi=-60.000000465387, psi=0, energy=12.4),\n",
       " FourcRealPos(ttheta=-149.999999818791, theta=-179.999999904418, chi=90.000000025776, phi=60.000000362418, psi=0, energy=12.4)]"
      ]
     },
     "execution_count": 5,
     "metadata": {},
     "output_type": "execute_result"
    }
   ],
   "source": [
    "fourc.core.forward(dict(h=1, k=0, l=0))  # Shows ALL the possibilities."
   ]
  },
  {
   "cell_type": "code",
   "execution_count": 6,
   "id": "ada211c3",
   "metadata": {},
   "outputs": [
    {
     "data": {
      "text/plain": [
       "{'h': -0.366025403784,\n",
       " 'k': 0.353553390593,\n",
       " 'l': 1.319479216882,\n",
       " 'h2': 0,\n",
       " 'k2': 0,\n",
       " 'l2': 0}"
      ]
     },
     "execution_count": 6,
     "metadata": {},
     "output_type": "execute_result"
    }
   ],
   "source": [
    "fourc.core.inverse(dict(ttheta=30, theta=15, chi=0, phi=90))"
   ]
  }
 ],
 "metadata": {
  "kernelspec": {
   "display_name": "hklpy2",
   "language": "python",
   "name": "python3"
  },
  "language_info": {
   "codemirror_mode": {
    "name": "ipython",
    "version": 3
   },
   "file_extension": ".py",
   "mimetype": "text/x-python",
   "name": "python",
   "nbconvert_exporter": "python",
   "pygments_lexer": "ipython3",
   "version": "3.13.2"
  }
 },
 "nbformat": 4,
 "nbformat_minor": 5
}

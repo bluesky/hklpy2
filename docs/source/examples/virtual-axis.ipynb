{
 "cells": [
  {
   "cell_type": "markdown",
   "id": "cab9a69a",
   "metadata": {},
   "source": [
    "# Virtual diffractometer axis\n",
    "\n",
    "Demonstrate a diffractometer where one of the expected axes must be computed\n",
    "from one or more additional diffractometer positioners.\n",
    "\n",
    "One case might be where a rotational axis $a$ is operated by a tangent linear\n",
    "translation $y$ at fixed distance $x$ from the center of rotation.  In this\n",
    "simple sketch, the relationships are defined: {math}`\\tan{a} = y / x`\n",
    "\n",
    "![sketch](../_static/th_tth-virt-axis-sketch.png)"
   ]
  },
  {
   "cell_type": "markdown",
   "id": "20185a38",
   "metadata": {},
   "source": [
    "## Preparation\n",
    "\n",
    "The virtual axis must be defined with the features common to the other\n",
    "diffractometer axes (all based on `ophyd.PositionerBase`).\n",
    "\n",
    "Since this is a virtual *real* axis and not a *pseudo*, the easiest way to\n",
    "ensure these features are available is to create a subclass of\n",
    "`ophyd.SoftPositioner` (based on `ophyd.PositionerBase`) and override the parts\n",
    "which are custom to the virtual axis.  A virtual *pseudo* axis should subclass\n",
    "from `hklpy2.Hklpy2PseudoAxis`.\n",
    "\n",
    "The `ophyd.DerivedSignal` is not based on `ophyd.PositionerBase` and, as such,\n",
    "is missing many features of the positioner interface."
   ]
  },
  {
   "cell_type": "markdown",
   "id": "520b6fe3",
   "metadata": {},
   "source": [
    "**Parameters**\n",
    "\n",
    "- $x$ : A constant specified when creating the diffractometer object.  Same\n",
    "  engineering units as $y$.\n",
    "- $y$ : The physical translation axis.  Specify the *name* of this diffractometer\n",
    "  Component when creating the diffractometer object.  The virtual positioner\n",
    "  class will access the named diffractometer Component.\n",
    "- $a$ : The virtual rotation angle.  When $a$ is read, its position is computed\n",
    "  from  $y$.  Any movement of $a$ is translated into a movement of $y$."
   ]
  },
  {
   "cell_type": "markdown",
   "id": "bbe33baf",
   "metadata": {},
   "source": [
    "### Virtual positioner class\n",
    "\n",
    "We'll do this in two steps.  First, create a `VirtualPositioner` class which\n",
    "could be used as a base class for any virtual axis.  The, use it as a base class\n",
    "to create a `VirtualRotationPositioner` for the geometry of the `tth` axis of\n",
    "this diffractometer.\n",
    "\n",
    "Custom class for the particular specifications of this virtual axis. Describes\n",
    "the **Parameters** above in the `__init__()` constructor method and implements\n",
    "their design in the class **Overrides** and **Additions** methods.\n",
    "\n",
    "axis type | base class\n",
    "--- | ---\n",
    "*pseudo* | `hklpy2.Hklpy2PseudoAxis`\n",
    "*real* | `ophyd.SoftPositioner`"
   ]
  },
  {
   "cell_type": "markdown",
   "id": "4d6e581d",
   "metadata": {},
   "source": [
    "**Overrides**\n",
    "\n",
    "Custom methods that *replace* base class methods.\n",
    "\n",
    "- `_setup_move()`: Moves physical axis when virtual axis is moved."
   ]
  },
  {
   "cell_type": "markdown",
   "id": "27216fb1",
   "metadata": {},
   "source": [
    "**Additions**\n",
    "\n",
    "Custom methods for this class, not provided by the base class.\n",
    "\n",
    "The virtual axis limits are computed from the translation axis limits using the\n",
    "`forward()` method.\n",
    "\n",
    "- `forward()`: Math to compute virtual rotation from physical translation.\n",
    "- `inverse()`: Math to compute physical translation from virtual rotation.\n",
    "- `_finish_setup()`: Complete the axis setup after diffractometer is built.\n",
    "- `_recompute_limits()`: Using `forward()`, compute limits of virtual axis from physical axis.\n",
    "- `_cb_update_position()`: Called when physical position is changed."
   ]
  },
  {
   "cell_type": "code",
   "execution_count": 1,
   "id": "f2ddd8e6",
   "metadata": {},
   "outputs": [],
   "source": [
    "import math\n",
    "import time\n",
    "\n",
    "from ophyd import Component\n",
    "from ophyd import SoftPositioner, EpicsMotor, PVPositioner\n",
    "\n",
    "class VirtualPositioner(SoftPositioner):\n",
    "    \"\"\"Base class for a diffractometer's virtual axis.\"\"\"\n",
    "\n",
    "    def __init__(self, *, physical_name: str = \"\", **kwargs):\n",
    "        \"\"\"Constructor.\n",
    "        \n",
    "        Subclass should override and add any additional kwargs, as needed.\n",
    "        \"\"\"\n",
    "        if len(physical_name) == 0:\n",
    "            raise ValueError(\"Must provide a value for 'physical_name'.\")\n",
    "\n",
    "        self._setup_finished: bool = False\n",
    "\n",
    "        super().__init__(**kwargs)\n",
    "\n",
    "        self.physical = getattr(self.parent, physical_name)\n",
    "\n",
    "    def _setup_move(self, position, status):\n",
    "        \"\"\"Move requested to position.\"\"\"\n",
    "        self._finish_setup()\n",
    "        self._run_subs(sub_type=self.SUB_START, timestamp=time.time())\n",
    "\n",
    "        self._started_moving = True\n",
    "        self._moving = False\n",
    "\n",
    "        if self._setup_finished:\n",
    "            self.physical._setup_move(self.inverse(position), status)\n",
    "\n",
    "        self._set_position(position)\n",
    "        self._done_moving()\n",
    "\n",
    "    def forward(self, physical: float) -> float:\n",
    "        \"\"\"\n",
    "        Return virtual position from physical position.\n",
    "        \n",
    "        Subclass should override.\n",
    "        \"\"\"\n",
    "        return physical  # Subclass should redefine.\n",
    "\n",
    "    def inverse(self, virtual: float) -> float:\n",
    "        \"\"\"\n",
    "        Return physical position from virtual position.\n",
    "        \n",
    "        Subclass should override.\n",
    "        \"\"\"\n",
    "        return virtual  # Subclass should redefine.\n",
    "\n",
    "    def _cb_update_position(self, value, **kwargs):\n",
    "        \"\"\"Called when physical position is changed.\"\"\"\n",
    "        self._finish_setup()\n",
    "        self._position = self.forward(value)\n",
    "\n",
    "        # Update our position in diffractometer's internal cache.\n",
    "        self.parent._real_cur_pos[self] = self._position\n",
    "\n",
    "    def _finish_setup(self):\n",
    "        \"\"\"\n",
    "        Complete the axis setup after diffractometer is built.\n",
    "        \n",
    "        Update our:\n",
    "        \n",
    "        * Position by subscription to readback changes.\n",
    "        * Limits from physical axis.\n",
    "        \"\"\"\n",
    "        if not self.connected or self._setup_finished:\n",
    "            return\n",
    "\n",
    "        try:\n",
    "            physical = self.physical\n",
    "        except AttributeError:\n",
    "            return  # During initialization.\n",
    "\n",
    "        # Readback signal is in different locations.\n",
    "        if isinstance(physical, SoftPositioner):\n",
    "            # Includes PseudoPositioner subclass\n",
    "            readback = physical\n",
    "        elif isinstance(physical, EpicsMotor):\n",
    "            readback = physical.user_readback\n",
    "        elif isinstance(physical, PVPositioner):\n",
    "            readback = physical.readback\n",
    "        else:\n",
    "            raise TypeError(f\"Unknown 'readback' for {physical.name}.\")\n",
    "\n",
    "        self._setup_finished = True\n",
    "        readback.subscribe(self._cb_update_position)\n",
    "        self._recompute_limits()\n",
    "\n",
    "    def _recompute_limits(self) -> None:\n",
    "        \"\"\"Compute virtual axis limits from physical axis.\"\"\"\n",
    "        if self._setup_finished:\n",
    "            self._limits = tuple(sorted(map(self.forward, self.physical.limits)))\n"
   ]
  },
  {
   "cell_type": "markdown",
   "id": "13ebb885",
   "metadata": {},
   "source": [
    "Using `VirtualPositioner` as a base class, create the custom class for our virtual rotation axis.  Here, we override these methods:\n",
    "\n",
    "- `__init__()` : Add additional `distance keyword argument.\n",
    "- `forward()` : Math to compute virtual rotation from physical translation.\n",
    "- `inverse()` : Math to compute physical translation from virtual rotation."
   ]
  },
  {
   "cell_type": "code",
   "execution_count": 2,
   "id": "78f766db",
   "metadata": {},
   "outputs": [],
   "source": [
    "class VirtualRotationPositioner(VirtualPositioner):\n",
    "    \"\"\"Compute virtual rotation from physical translation axis.\"\"\"\n",
    "\n",
    "    def __init__(self, *, distance: float = 100, **kwargs):\n",
    "        \"\"\"Distance from translation axis zero position to center of rotation.\"\"\"\n",
    "        self.distance = distance  # same units as physical\n",
    "        super().__init__(**kwargs)\n",
    "\n",
    "    def forward(self, translation: float) -> float:\n",
    "        \"\"\"Return virtual rotation angle (degrees) from physical translation.\"\"\"\n",
    "        return math.atan2(translation, self.distance) * 180 / math.pi\n",
    "\n",
    "    def inverse(self, rotation: float) -> float:\n",
    "        \"\"\"Return physical translation from virtual rotation angle (degrees).\"\"\"\n",
    "        return self.distance * math.tan(rotation * math.pi / 180)\n"
   ]
  },
  {
   "cell_type": "markdown",
   "id": "185ca49a",
   "metadata": {},
   "source": [
    "### Custom diffractometer class\n",
    "\n",
    "Here, we pick the\n",
    "[4-circle](https://blueskyproject.io/hklpy2/diffractometers.html#solver-hkl-soleil-geometry-e4cv)\n",
    "`E4CV` geometry to demonstrate a diffractometer that uses this new\n",
    "{class}`VirtualRotationPositioner` class.\n",
    "\n",
    "- `tth` (as $a$): Override the existing `tth` Component with the\n",
    "  `VirtualRotationPositioner`, supplying the additional kwargs.\n",
    "\n",
    "- `dy` (as $y$): Add a `dy` Component as a `SoftPositioner`, supplying initial\n",
    "  position and limits.\n",
    "\n",
    "- `distance` (as $x$):  Pass this constant as a keyword argument when constructing\n",
    "  the diffractometer object.\n",
    "\n",
    "Note the `kind=\"hinted\"` kwarg, which designates a Component to be included in a\n",
    "live table or plot during a scan.\n",
    "\n",
    "<details>\n",
    "<summary>Why not use <tt>hklpy2.creator()</tt>?</summary>\n",
    "\n",
    "We must write our own Python class. The `hklpy2.creator()` is not prepared\n",
    "[yet](https://github.com/bluesky/hklpy2/issues/113) to create a diffractometer\n",
    "with a custom class and keyword arguments such as this one.  \n",
    "\n",
    "<details>\n",
    "<summary>Maybe, in the future ...</summary>\n",
    "\n",
    "```python\n",
    "gonio = hklpy2.creator(\n",
    "    name=\"gonio\",\n",
    "    solver=\"hkl_soleil\",\n",
    "    geometry=\"E4CV\",\n",
    "    reals = {\n",
    "        omega: None,\n",
    "        chi: None,\n",
    "        phi: None,\n",
    "        tth: {\n",
    "            class: VirtualRotationPositioner,\n",
    "            init_pos=0,\n",
    "            t_name=\"dy\",\n",
    "            distance=1000,\n",
    "            kind=\"hinted\",\n",
    "        },\n",
    "        dy: {\n",
    "            limits=(-10, 200),\n",
    "            # all other kwargs use defaults\n",
    "        }\n",
    "    }\n",
    ")\n",
    "```\n",
    "\n",
    "</details>\n",
    "\n",
    "</details>\n",
    "<br />\n",
    "\n",
    "Using the factory function to create a base class, we define a custom class:"
   ]
  },
  {
   "cell_type": "code",
   "execution_count": 3,
   "id": "df837473",
   "metadata": {},
   "outputs": [],
   "source": [
    "import hklpy2\n",
    "\n",
    "MyBase = hklpy2.diffractometer_class_factory(\n",
    "    solver=\"hkl_soleil\",\n",
    "    geometry=\"E4CV\",\n",
    ")\n",
    "\n",
    "\n",
    "class MyGoniometer(MyBase):\n",
    "    # Replace existing axis with virtual 2Theta.\n",
    "    # Point it at the 'dy' axis (below).\n",
    "    tth = Component(\n",
    "        VirtualRotationPositioner,\n",
    "        init_pos=0,\n",
    "        physical_name=\"dy\",\n",
    "        distance=1000,\n",
    "        kind=\"hinted\",\n",
    "    )\n",
    "\n",
    "    # Add the translation axis 'dy'.\n",
    "    dy = Component(\n",
    "        SoftPositioner,\n",
    "        init_pos=0,\n",
    "        limits=(-10, 200),\n",
    "        kind=\"hinted\",\n",
    "    )\n",
    "    \n",
    "    def __init__(self, *args, **kwargs):\n",
    "        super().__init__(*args, **kwargs)\n",
    "        self.tth._finish_setup()"
   ]
  },
  {
   "cell_type": "markdown",
   "id": "c4f1b034",
   "metadata": {},
   "source": [
    "### Diffractometer object\n",
    "\n",
    "- Move `dy` (physical axis), report `tth` and `l` at each step.\n",
    "- Move `tth` (virtual axis), report `dy` and `l` at each step.\n",
    "- Move `l` (pseudo axis), report `tth` and `dy` at each step."
   ]
  },
  {
   "cell_type": "code",
   "execution_count": 4,
   "id": "1ed8c404",
   "metadata": {},
   "outputs": [
    {
     "name": "stdout",
     "output_type": "stream",
     "text": [
      "wavelength=1.0\n",
      "pseudos: h=0, k=0, l=0\n",
      "reals: omega=0, chi=0, phi=0, tth=0\n",
      "positioners: dy=0\n"
     ]
    }
   ],
   "source": [
    "gonio = MyGoniometer(name=\"gonio\")\n",
    "gonio.add_sample(\"vibranium\", 2*3.14)\n",
    "gonio.wh()"
   ]
  },
  {
   "cell_type": "markdown",
   "id": "3bac1de4",
   "metadata": {},
   "source": [
    "## Bluesky scans\n",
    "\n",
    "Demonstrate the relationships between `dy`, `tth`, and `l` through bluesky scans.\n",
    "\n",
    "- Scan `dy` (physical axis), report `tth` and `l` at each step.\n",
    "- Scan `tth` (virtual axis), report `dy` and `l` at each step.\n",
    "- Scan `l` (pseudo axis), report `tth` and `dy` at each step.\n",
    "\n",
    "Start with a simple setup, but no detectors or data collection.  Just tables and plotting."
   ]
  },
  {
   "cell_type": "code",
   "execution_count": 5,
   "id": "8120c79c",
   "metadata": {},
   "outputs": [
    {
     "data": {
      "text/plain": [
       "0"
      ]
     },
     "execution_count": 5,
     "metadata": {},
     "output_type": "execute_result"
    }
   ],
   "source": [
    "import bluesky\n",
    "from bluesky import plans as bp\n",
    "from bluesky.callbacks.best_effort import BestEffortCallback\n",
    "\n",
    "bec = BestEffortCallback()\n",
    "bec.disable_plots()\n",
    "RE = bluesky.RunEngine()\n",
    "RE.subscribe(bec)"
   ]
  },
  {
   "cell_type": "markdown",
   "id": "4630575d",
   "metadata": {},
   "source": [
    "### Scan *physical* axis `dy`"
   ]
  },
  {
   "cell_type": "code",
   "execution_count": 6,
   "id": "74c0eb0e",
   "metadata": {},
   "outputs": [
    {
     "name": "stdout",
     "output_type": "stream",
     "text": [
      "\n",
      "\n",
      "Transient Scan ID: 1     Time: 2025-07-15 15:16:33\n",
      "Persistent Unique Scan ID: 'f09d025e-3e13-4800-a267-8d29fd726f5c'\n",
      "New stream: 'primary'\n",
      "+-----------+------------+------------+------------+------------+\n",
      "|   seq_num |       time |   gonio_dy |  gonio_tth |    gonio_l |\n",
      "+-----------+------------+------------+------------+------------+\n",
      "|         1 | 15:16:33.7 |     -1.000 |     -0.057 |     -0.006 |\n",
      "|         2 | 15:16:33.7 |      0.100 |      0.006 |      0.001 |\n",
      "|         3 | 15:16:33.7 |      1.200 |      0.069 |      0.008 |\n",
      "|         4 | 15:16:33.7 |      2.300 |      0.132 |      0.014 |\n",
      "|         5 | 15:16:33.7 |      3.400 |      0.195 |      0.021 |\n",
      "|         6 | 15:16:33.7 |      4.500 |      0.258 |      0.028 |\n",
      "|         7 | 15:16:33.7 |      5.600 |      0.321 |      0.035 |\n",
      "|         8 | 15:16:33.7 |      6.700 |      0.384 |      0.042 |\n",
      "|         9 | 15:16:33.7 |      7.800 |      0.447 |      0.049 |\n",
      "|        10 | 15:16:33.7 |      8.900 |      0.510 |      0.056 |\n",
      "|        11 | 15:16:33.7 |     10.000 |      0.573 |      0.063 |\n",
      "+-----------+------------+------------+------------+------------+\n",
      "generator scan ['f09d025e'] (scan num: 1)\n",
      "\n",
      "\n",
      "\n",
      "wavelength=1.0\n",
      "pseudos: h=-0.0003, k=0, l=0.0628\n",
      "reals: omega=0, chi=0, phi=0, tth=0.5729\n",
      "positioners: dy=10.0\n"
     ]
    }
   ],
   "source": [
    "RE(bp.scan([gonio.dy, gonio.tth, gonio.l], gonio.dy, -1, 10, 11))\n",
    "gonio.wh()"
   ]
  },
  {
   "cell_type": "markdown",
   "id": "21d87365",
   "metadata": {},
   "source": [
    "### Scan *virtual* axis `tth`"
   ]
  },
  {
   "cell_type": "code",
   "execution_count": 7,
   "id": "e169dd81",
   "metadata": {},
   "outputs": [
    {
     "name": "stdout",
     "output_type": "stream",
     "text": [
      "\n",
      "\n",
      "Transient Scan ID: 2     Time: 2025-07-15 15:16:33\n",
      "Persistent Unique Scan ID: 'a21651c7-2f0d-4d86-88a5-9fac5a85c840'\n",
      "New stream: 'primary'\n",
      "+-----------+------------+------------+------------+------------+\n",
      "|   seq_num |       time |  gonio_tth |    gonio_l |   gonio_dy |\n",
      "+-----------+------------+------------+------------+------------+\n",
      "|         1 | 15:16:33.9 |     -0.100 |     -0.011 |     -1.745 |\n",
      "|         2 | 15:16:33.9 |     -0.040 |     -0.004 |     -0.698 |\n",
      "|         3 | 15:16:33.9 |      0.020 |      0.002 |      0.349 |\n",
      "|         4 | 15:16:33.9 |      0.080 |      0.009 |      1.396 |\n",
      "|         5 | 15:16:33.9 |      0.140 |      0.015 |      2.443 |\n",
      "|         6 | 15:16:33.9 |      0.200 |      0.022 |      3.491 |\n",
      "|         7 | 15:16:33.9 |      0.260 |      0.028 |      4.538 |\n",
      "|         8 | 15:16:33.9 |      0.320 |      0.035 |      5.585 |\n",
      "|         9 | 15:16:33.9 |      0.380 |      0.042 |      6.632 |\n",
      "|        10 | 15:16:33.9 |      0.440 |      0.048 |      7.680 |\n",
      "|        11 | 15:16:33.9 |      0.500 |      0.055 |      8.727 |\n",
      "+-----------+------------+------------+------------+------------+\n",
      "generator scan ['a21651c7'] (scan num: 2)\n",
      "\n",
      "\n",
      "\n",
      "wavelength=1.0\n",
      "pseudos: h=-0.0002, k=0, l=0.0548\n",
      "reals: omega=0, chi=0, phi=0, tth=0.5\n",
      "positioners: dy=8.7269\n"
     ]
    }
   ],
   "source": [
    "RE(bp.scan([gonio.dy, gonio.tth, gonio.l], gonio.tth, -0.1, 0.5, 11))\n",
    "gonio.wh()"
   ]
  },
  {
   "cell_type": "markdown",
   "id": "894a9b24",
   "metadata": {},
   "source": [
    "### Scan *pseudo* axis `l`"
   ]
  },
  {
   "cell_type": "code",
   "execution_count": 8,
   "id": "5054de14",
   "metadata": {},
   "outputs": [
    {
     "name": "stdout",
     "output_type": "stream",
     "text": [
      "\n",
      "\n",
      "Transient Scan ID: 3     Time: 2025-07-15 15:16:34\n",
      "Persistent Unique Scan ID: 'c495ee40-8dc1-48c9-a4a2-29675b2bc6e8'\n",
      "New stream: 'primary'\n",
      "+-----------+------------+------------+------------+------------+\n",
      "|   seq_num |       time |    gonio_l |  gonio_tth |   gonio_dy |\n",
      "+-----------+------------+------------+------------+------------+\n",
      "|         1 | 15:16:34.1 |      0.010 |      0.091 |      1.593 |\n",
      "|         2 | 15:16:34.1 |      0.014 |      0.128 |      2.230 |\n",
      "|         3 | 15:16:34.1 |      0.018 |      0.164 |      2.867 |\n",
      "|         4 | 15:16:34.1 |      0.022 |      0.201 |      3.503 |\n",
      "|         5 | 15:16:34.1 |      0.026 |      0.237 |      4.140 |\n",
      "|         6 | 15:16:34.1 |      0.030 |      0.274 |      4.777 |\n",
      "|         7 | 15:16:34.1 |      0.034 |      0.310 |      5.414 |\n",
      "|         8 | 15:16:34.1 |      0.038 |      0.347 |      6.051 |\n",
      "|         9 | 15:16:34.1 |      0.042 |      0.383 |      6.688 |\n",
      "|        10 | 15:16:34.1 |      0.046 |      0.420 |      7.325 |\n",
      "|        11 | 15:16:34.1 |      0.050 |      0.456 |      7.962 |\n",
      "+-----------+------------+------------+------------+------------+\n",
      "generator scan ['c495ee40'] (scan num: 3)\n",
      "\n",
      "\n",
      "\n",
      "wavelength=1.0\n",
      "pseudos: h=-0.0002, k=0, l=0.05\n",
      "reals: omega=0.2281, chi=0, phi=-0.274, tth=0.4562\n",
      "positioners: dy=7.9621\n"
     ]
    }
   ],
   "source": [
    "RE(bp.scan([gonio.dy, gonio.tth, gonio.l], gonio.l, 0.01, 0.05, 11))\n",
    "gonio.wh()"
   ]
  }
 ],
 "metadata": {
  "kernelspec": {
   "display_name": "hklpy2",
   "language": "python",
   "name": "python3"
  },
  "language_info": {
   "codemirror_mode": {
    "name": "ipython",
    "version": 3
   },
   "file_extension": ".py",
   "mimetype": "text/x-python",
   "name": "python",
   "nbconvert_exporter": "python",
   "pygments_lexer": "ipython3",
   "version": "3.13.5"
  }
 },
 "nbformat": 4,
 "nbformat_minor": 5
}

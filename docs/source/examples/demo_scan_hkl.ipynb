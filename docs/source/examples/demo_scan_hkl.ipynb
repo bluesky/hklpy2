{
 "cells": [
  {
   "cell_type": "markdown",
   "metadata": {},
   "source": [
    "# Scan in $(hkl)$ coordinates\n",
    "\n",
    "This notebook demonstrates how to scan in $(hkl)$ coordinates. It uses the\n",
    "simulated 4-circle geometry from the `\"hkl_soleil\"` solver. The wavelength and\n",
    "sample are whatever the simulator provides as defaults.\n",
    "\n",
    "**Important**:  It is possible to scan in any combination of reciprocal axes or to\n",
    "scan in any combination of real-space axes.  You are not allowed to scan in a\n",
    "mix of reciprocal and real-space axes.\n",
    "\n",
    "## Setup\n",
    "\n",
    "First, create the simulated 4-circle diffractometer object (`e4cv`)."
   ]
  },
  {
   "cell_type": "code",
   "execution_count": 1,
   "metadata": {},
   "outputs": [],
   "source": [
    "from hklpy2 import SimulatedE4CV\n",
    "\n",
    "e4cv = SimulatedE4CV(\"\", name=\"e4cv\")"
   ]
  },
  {
   "cell_type": "markdown",
   "metadata": {},
   "source": [
    "Setup Bluesky for running the scans with the `RE` object.  The `bec` object will\n",
    "show a table of the data collected for each scan.  \n",
    "\n",
    "For this simple demonstration, we won't add a databroker catalog."
   ]
  },
  {
   "cell_type": "code",
   "execution_count": 2,
   "metadata": {},
   "outputs": [],
   "source": [
    "from bluesky import RunEngine, plans as bp\n",
    "from bluesky.callbacks.best_effort import BestEffortCallback\n",
    "\n",
    "bec = BestEffortCallback()\n",
    "RE = RunEngine()\n",
    "RE.subscribe(bec)\n",
    "bec.disable_plots()"
   ]
  },
  {
   "cell_type": "markdown",
   "metadata": {},
   "source": [
    "We'll **import a simulator** (ready to use) from the `ophyd` package as a noisy detector."
   ]
  },
  {
   "cell_type": "code",
   "execution_count": 3,
   "metadata": {},
   "outputs": [],
   "source": [
    "from ophyd.sim import noisy_det"
   ]
  },
  {
   "cell_type": "markdown",
   "metadata": {},
   "source": [
    "## (h10) scan\n",
    "\n",
    "Scan the (reciprocal space) $h$ axis from -0.5 to +0.5 with $k=1$ and $l=0$.\n",
    "This is called an $(h10)$ scan.\n",
    "\n",
    "<details>\n",
    "\n",
    "The computation to convert reciprocal-space values $(h,k,l)$ into real-space\n",
    "angles ($\\omega$, $\\chi$, $\\phi$, $2\\theta$) is called the `forward()`\n",
    "transformation.  The transformation is not necessarily unique.  The most common\n",
    "way to reduce the number of *solutions* is to tell the solver which `mode` to\n",
    "use.  The `mode` adds an additional pre-designed rule that constrains the\n",
    "acceptable solutions.  The solver's geometry (in this case `E4CV`) provides the\n",
    "list of known modes.\n",
    "\n",
    "Note: Even with a chosen mode, the solution might not be unique.  In such cases,\n",
    "the first solution returned by the `forward()` transformation is chosen.  The\n",
    "user can change this by providing a different function for the diffractometer's\n",
    "`_forward_solution` attribute.  The default is the\n",
    "`hklpy2.diffract.pick_first_item()` function.\n",
    "\n",
    "</details>\n",
    "\n",
    "Here, the diffractometer starts with `\"bissector\"` mode (requires `tth = 2*omega`)."
   ]
  },
  {
   "cell_type": "code",
   "execution_count": 4,
   "metadata": {},
   "outputs": [
    {
     "name": "stdout",
     "output_type": "stream",
     "text": [
      "e4cv.operator.solver.mode='bissector'\n",
      "\n",
      "\n",
      "Transient Scan ID: 1     Time: 2024-06-22 09:52:43\n",
      "Persistent Unique Scan ID: 'f23b87bf-aa46-4c22-996b-1d4c48f3ba01'\n",
      "New stream: 'primary'\n",
      "+-----------+------------+------------+------------+\n",
      "|   seq_num |       time |     e4cv_h |  noisy_det |\n",
      "+-----------+------------+------------+------------+\n",
      "|         1 | 09:52:43.0 |     -0.500 |      0.923 |\n",
      "|         2 | 09:52:43.1 |     -0.400 |      1.033 |\n",
      "|         3 | 09:52:43.1 |     -0.300 |      0.920 |\n",
      "|         4 | 09:52:43.1 |     -0.200 |      0.987 |\n",
      "|         5 | 09:52:43.1 |     -0.100 |      1.033 |\n",
      "|         6 | 09:52:43.1 |      0.000 |      0.948 |\n",
      "|         7 | 09:52:43.1 |      0.100 |      1.028 |\n",
      "|         8 | 09:52:43.1 |      0.200 |      1.040 |\n",
      "|         9 | 09:52:43.1 |      0.300 |      1.056 |\n",
      "|        10 | 09:52:43.1 |      0.400 |      1.039 |\n",
      "|        11 | 09:52:43.1 |      0.500 |      0.927 |\n",
      "+-----------+------------+------------+------------+\n",
      "generator scan ['f23b87bf'] (scan num: 1)\n",
      "\n",
      "\n",
      "\n"
     ]
    },
    {
     "data": {
      "text/plain": [
       "('f23b87bf-aa46-4c22-996b-1d4c48f3ba01',)"
      ]
     },
     "execution_count": 4,
     "metadata": {},
     "output_type": "execute_result"
    }
   ],
   "source": [
    "print(f\"{e4cv.operator.solver.mode=!r}\")\n",
    "e4cv.k.move(1)\n",
    "e4cv.l.move(0)\n",
    "RE(bp.scan([noisy_det], e4cv.h, -0.5, 0.5, 11))"
   ]
  },
  {
   "cell_type": "markdown",
   "metadata": {},
   "source": [
    "**Clearly we see** that $h$ has been stepped across the range of -0.5 to +0.5.\n",
    "Values for the noisy detector have been reported at each step.  But we want to\n",
    "know about *all* the $hkl$ and angle values so we can observe the effects of\n",
    "`\"bissector\"` mode.\n",
    "\n",
    "### Scan again, showing all $(hkl)$ and real-space axes\n",
    "\n",
    "Repeat the scan, same as before with a slight variation.  This time, add the\n",
    "`e4cv` object as an additional detector."
   ]
  },
  {
   "cell_type": "code",
   "execution_count": 5,
   "metadata": {},
   "outputs": [
    {
     "name": "stdout",
     "output_type": "stream",
     "text": [
      "e4cv.operator.solver.mode='bissector'\n",
      "\n",
      "\n",
      "Transient Scan ID: 2     Time: 2024-06-22 09:52:43\n",
      "Persistent Unique Scan ID: 'ecb06edd-eeca-479b-ad2f-2fe1a2579a99'\n",
      "New stream: 'primary'\n",
      "+-----------+------------+------------+------------+------------+------------+------------+------------+------------+------------+\n",
      "|   seq_num |       time |     e4cv_h |  noisy_det |     e4cv_k |     e4cv_l | e4cv_omega |   e4cv_chi |   e4cv_phi |   e4cv_tth |\n",
      "+-----------+------------+------------+------------+------------+------------+------------+------------+------------+------------+\n",
      "|         1 | 09:52:43.3 |     -0.500 |      1.030 |      1.000 |      0.000 |    -33.988 |    -63.435 |     90.000 |    -67.976 |\n",
      "|         2 | 09:52:43.3 |     -0.400 |      0.996 |      1.000 |      0.000 |    -32.583 |    -68.199 |     90.000 |    -65.165 |\n",
      "|         3 | 09:52:43.4 |     -0.300 |      1.072 |      1.000 |     -0.000 |    -31.468 |    -73.301 |     90.000 |    -62.935 |\n",
      "|         4 | 09:52:43.4 |     -0.200 |      0.987 |      1.000 |     -0.000 |    -30.657 |    -78.690 |     90.000 |    -61.315 |\n",
      "|         5 | 09:52:43.4 |     -0.100 |      1.047 |      1.000 |     -0.000 |    -30.165 |    -84.289 |     90.000 |    -60.330 |\n",
      "|         6 | 09:52:43.4 |      0.000 |      1.074 |      1.000 |      0.000 |    -30.000 |    -90.000 |     90.000 |    -60.000 |\n",
      "|         7 | 09:52:43.4 |      0.100 |      1.034 |      1.000 |      0.000 |    -30.165 |    -95.711 |     90.000 |    -60.330 |\n",
      "|         8 | 09:52:43.4 |      0.200 |      1.054 |      1.000 |     -0.000 |    -30.657 |   -101.310 |     90.000 |    -61.315 |\n",
      "|         9 | 09:52:43.4 |      0.300 |      0.949 |      1.000 |     -0.000 |    -31.468 |   -106.699 |     90.000 |    -62.935 |\n",
      "|        10 | 09:52:43.4 |      0.400 |      1.056 |      1.000 |     -0.000 |    -32.583 |   -111.801 |     90.000 |    -65.165 |\n",
      "|        11 | 09:52:43.4 |      0.500 |      0.976 |      1.000 |     -0.000 |    -33.988 |   -116.565 |     90.000 |    -67.976 |\n",
      "+-----------+------------+------------+------------+------------+------------+------------+------------+------------+------------+\n",
      "generator scan ['ecb06edd'] (scan num: 2)\n",
      "\n",
      "\n",
      "\n"
     ]
    },
    {
     "data": {
      "text/plain": [
       "('ecb06edd-eeca-479b-ad2f-2fe1a2579a99',)"
      ]
     },
     "execution_count": 5,
     "metadata": {},
     "output_type": "execute_result"
    }
   ],
   "source": [
    "print(f\"{e4cv.operator.solver.mode=!r}\")\n",
    "e4cv.k.move(1)\n",
    "e4cv.l.move(0)\n",
    "RE(bp.scan([noisy_det, e4cv], e4cv.h, -0.5, 0.5, 11))"
   ]
  },
  {
   "cell_type": "markdown",
   "metadata": {},
   "source": [
    "## What other modes are available?"
   ]
  },
  {
   "cell_type": "code",
   "execution_count": 6,
   "metadata": {},
   "outputs": [
    {
     "data": {
      "text/plain": [
       "['bissector',\n",
       " 'constant_omega',\n",
       " 'constant_chi',\n",
       " 'constant_phi',\n",
       " 'double_diffraction',\n",
       " 'psi_constant']"
      ]
     },
     "execution_count": 6,
     "metadata": {},
     "output_type": "execute_result"
    }
   ],
   "source": [
    "e4cv.operator.solver.modes"
   ]
  },
  {
   "cell_type": "markdown",
   "metadata": {},
   "source": [
    "## Scan $(h10)$ holding $\\omega$ at -30 degrees\n",
    "\n",
    "Set the mode to `\"constant_omega\"`, then set $\\omega=-30$ degrees."
   ]
  },
  {
   "cell_type": "code",
   "execution_count": 7,
   "metadata": {},
   "outputs": [
    {
     "name": "stdout",
     "output_type": "stream",
     "text": [
      "e4cv.omega.position=-30\n"
     ]
    }
   ],
   "source": [
    "e4cv.operator.solver.mode = \"constant_omega\"\n",
    "e4cv.omega.move(-30)\n",
    "print(f\"{e4cv.omega.position=!r}\")"
   ]
  },
  {
   "cell_type": "markdown",
   "metadata": {},
   "source": [
    "**Run the scan again** with the same command."
   ]
  },
  {
   "cell_type": "code",
   "execution_count": 8,
   "metadata": {},
   "outputs": [
    {
     "name": "stdout",
     "output_type": "stream",
     "text": [
      "e4cv.operator.solver.mode='constant_omega'\n",
      "\n",
      "\n",
      "Transient Scan ID: 3     Time: 2024-06-22 09:52:43\n",
      "Persistent Unique Scan ID: '763a50a8-64c3-4fdf-a380-5acb17fdf909'\n",
      "New stream: 'primary'\n",
      "+-----------+------------+------------+------------+------------+------------+------------+------------+------------+------------+\n",
      "|   seq_num |       time |     e4cv_h |  noisy_det |     e4cv_k |     e4cv_l | e4cv_omega |   e4cv_chi |   e4cv_phi |   e4cv_tth |\n",
      "+-----------+------------+------------+------------+------------+------------+------------+------------+------------+------------+\n",
      "|         1 | 09:52:43.6 |     -0.500 |      1.037 |      1.000 |      0.000 |    -30.000 |    -63.714 |     81.054 |    -67.976 |\n",
      "|         2 | 09:52:43.6 |     -0.400 |      1.002 |      1.000 |     -0.000 |    -30.000 |    -68.345 |     83.031 |    -65.165 |\n",
      "|         3 | 09:52:43.7 |     -0.300 |      0.979 |      1.000 |     -0.000 |    -30.000 |    -73.364 |     84.887 |    -62.935 |\n",
      "|         4 | 09:52:43.7 |     -0.200 |      1.073 |      1.000 |     -0.000 |    -30.000 |    -78.709 |     86.647 |    -61.315 |\n",
      "|         5 | 09:52:43.7 |     -0.100 |      0.935 |      1.000 |     -0.000 |    -30.000 |    -84.292 |     88.340 |    -60.330 |\n",
      "|         6 | 09:52:43.7 |     -0.000 |      1.068 |      1.000 |     -0.000 |    -30.000 |    -90.000 |     88.340 |    -60.000 |\n",
      "|         7 | 09:52:43.7 |      0.100 |      0.918 |      1.000 |     -0.000 |    -30.000 |    -95.708 |     91.660 |    -60.330 |\n",
      "|         8 | 09:52:43.7 |      0.200 |      1.066 |      1.000 |     -0.000 |    -30.000 |   -101.291 |     93.353 |    -61.315 |\n",
      "|         9 | 09:52:43.7 |      0.300 |      0.936 |      1.000 |     -0.000 |    -30.000 |   -106.636 |     95.113 |    -62.935 |\n",
      "|        10 | 09:52:43.7 |      0.400 |      1.004 |      1.000 |     -0.000 |    -30.000 |   -111.655 |     96.969 |    -65.165 |\n",
      "|        11 | 09:52:43.7 |      0.500 |      1.029 |      1.000 |      0.000 |    -30.000 |   -116.286 |     98.946 |    -67.976 |\n",
      "+-----------+------------+------------+------------+------------+------------+------------+------------+------------+------------+\n",
      "generator scan ['763a50a8'] (scan num: 3)\n",
      "\n",
      "\n",
      "\n"
     ]
    },
    {
     "data": {
      "text/plain": [
       "('763a50a8-64c3-4fdf-a380-5acb17fdf909',)"
      ]
     },
     "execution_count": 8,
     "metadata": {},
     "output_type": "execute_result"
    }
   ],
   "source": [
    "print(f\"{e4cv.operator.solver.mode=!r}\")\n",
    "e4cv.k.move(1)\n",
    "e4cv.l.move(0)\n",
    "RE(bp.scan([noisy_det, e4cv], e4cv.h, -0.5, 0.5, 11))"
   ]
  },
  {
   "cell_type": "markdown",
   "metadata": {},
   "source": [
    "## Scan $(\\bar{1}kl)$ holding $\\omega$ at -30 degrees\n",
    "\n",
    "Keep mode as `\"constant_omega\"` and $\\omega=-30$.  Set $h=-1$ and scan $k$ & $l$."
   ]
  },
  {
   "cell_type": "code",
   "execution_count": 9,
   "metadata": {},
   "outputs": [
    {
     "name": "stdout",
     "output_type": "stream",
     "text": [
      "e4cv.operator.solver.mode='constant_omega'\n",
      "\n",
      "\n",
      "Transient Scan ID: 4     Time: 2024-06-22 09:52:43\n",
      "Persistent Unique Scan ID: 'a65729ed-4f8b-4722-a09d-974196cd9065'\n",
      "New stream: 'primary'\n",
      "+-----------+------------+------------+------------+------------+------------+------------+------------+------------+------------+\n",
      "|   seq_num |       time |     e4cv_k |     e4cv_l |  noisy_det |     e4cv_h | e4cv_omega |   e4cv_chi |   e4cv_phi |   e4cv_tth |\n",
      "+-----------+------------+------------+------------+------------+------------+------------+------------+------------+------------+\n",
      "|         1 | 09:52:43.9 |      0.900 |     -0.600 |      0.954 |     -1.000 |    -30.000 |    -39.821 |     36.793 |    -94.876 |\n",
      "|         2 | 09:52:44.0 |      0.920 |     -0.580 |      1.057 |     -1.000 |    -30.000 |    -40.796 |     37.124 |    -95.244 |\n",
      "|         3 | 09:52:44.0 |      0.940 |     -0.560 |      1.025 |     -1.000 |    -30.000 |    -41.770 |     37.424 |    -95.659 |\n",
      "|         4 | 09:52:44.0 |      0.960 |     -0.540 |      0.957 |     -1.000 |    -30.000 |    -42.745 |     37.689 |    -96.119 |\n",
      "|         5 | 09:52:44.0 |      0.980 |     -0.520 |      1.050 |     -1.000 |    -30.000 |    -43.721 |     37.920 |    -96.627 |\n",
      "|         6 | 09:52:44.0 |      1.000 |     -0.500 |      0.955 |     -1.000 |    -30.000 |    -44.698 |     38.112 |    -97.181 |\n",
      "|         7 | 09:52:44.0 |      1.020 |     -0.480 |      1.017 |     -1.000 |    -30.000 |    -45.677 |     38.265 |    -97.782 |\n",
      "|         8 | 09:52:44.0 |      1.040 |     -0.460 |      1.016 |     -1.000 |    -30.000 |    -46.660 |     38.375 |    -98.430 |\n",
      "|         9 | 09:52:44.0 |      1.060 |     -0.440 |      0.967 |     -1.000 |    -30.000 |    -47.647 |     38.440 |    -99.126 |\n",
      "|        10 | 09:52:44.0 |      1.080 |     -0.420 |      1.016 |     -1.000 |    -30.000 |    -48.640 |     38.457 |    -99.869 |\n",
      "|        11 | 09:52:44.0 |      1.100 |     -0.400 |      0.999 |     -1.000 |    -30.000 |    -49.641 |     38.422 |   -100.661 |\n",
      "+-----------+------------+------------+------------+------------+------------+------------+------------+------------+------------+\n",
      "generator scan ['a65729ed'] (scan num: 4)\n",
      "\n",
      "\n",
      "\n"
     ]
    },
    {
     "data": {
      "text/plain": [
       "('a65729ed-4f8b-4722-a09d-974196cd9065',)"
      ]
     },
     "execution_count": 9,
     "metadata": {},
     "output_type": "execute_result"
    }
   ],
   "source": [
    "e4cv.h.move(-1)\n",
    "print(f\"{e4cv.operator.solver.mode=!r}\")\n",
    "RE(bp.scan([noisy_det, e4cv], e4cv.k, 0.9, 1.1, e4cv.l, -0.6, -0.4, 11))"
   ]
  },
  {
   "cell_type": "markdown",
   "metadata": {},
   "source": [
    "## Scan $(h10)$ holding $\\psi$ at 25 degrees around $(100)$\n",
    "\n",
    "Set the mode to `\"psi_constant\"`, then set $h_2=1, k_2=0, l_2=0$ & $\\psi=25$ degrees.\n",
    "\n",
    "TODO: What is $\\psi$?  What is $(h_2, k_2, l_2)$?  Is enabled by solver yet?"
   ]
  },
  {
   "cell_type": "code",
   "execution_count": 10,
   "metadata": {},
   "outputs": [],
   "source": [
    "e4cv.operator.solver.mode = \"psi_constant\"\n",
    "\n",
    "# TODO: Can this be even easier?\n",
    "extras = {\n",
    "    \"h2\": 1,\n",
    "    \"k2\": 0,\n",
    "    \"l2\": 0,\n",
    "    \"psi\": 25,\n",
    "}\n",
    "e4cv.operator.solver.extras = extras"
   ]
  },
  {
   "cell_type": "code",
   "execution_count": 11,
   "metadata": {},
   "outputs": [
    {
     "name": "stdout",
     "output_type": "stream",
     "text": [
      "e4cv.operator.solver.mode='psi_constant'\n",
      "e4cv.operator.solver.extras={'h2': 1.0, 'k2': 0.0, 'l2': 0.0, 'psi': 25.0}\n",
      "\n",
      "\n",
      "Transient Scan ID: 5     Time: 2024-06-22 09:52:44\n",
      "Persistent Unique Scan ID: 'b908fbbc-9853-424e-8f00-3b3ba7bab9fb'\n",
      "New stream: 'primary'\n",
      "+-----------+------------+------------+------------+------------+------------+------------+------------+------------+------------+\n",
      "|   seq_num |       time |     e4cv_k |     e4cv_l |  noisy_det |     e4cv_h | e4cv_omega |   e4cv_chi |   e4cv_phi |   e4cv_tth |\n",
      "+-----------+------------+------------+------------+------------+------------+------------+------------+------------+------------+\n",
      "|         1 | 09:52:44.3 |      0.900 |     -0.600 |      0.908 |     -1.000 |      3.258 |    -74.691 |    -18.768 |    -94.876 |\n",
      "|         2 | 09:52:44.3 |      0.920 |     -0.580 |      1.057 |     -1.000 |      2.461 |    -76.033 |    -18.698 |    -95.244 |\n",
      "|         3 | 09:52:44.3 |      0.940 |     -0.560 |      1.054 |     -1.000 |      1.635 |    -77.355 |    -18.646 |    -95.659 |\n",
      "|         4 | 09:52:44.3 |      0.960 |     -0.540 |      1.021 |     -1.000 |      0.781 |    -78.654 |    -18.611 |    -96.119 |\n",
      "|         5 | 09:52:44.3 |      0.980 |     -0.520 |      0.916 |     -1.000 |     -0.104 |    -79.930 |    -18.592 |    -96.627 |\n",
      "|         6 | 09:52:44.3 |      1.000 |     -0.500 |      0.901 |     -1.000 |     -1.017 |    -81.181 |    -18.589 |    -97.181 |\n",
      "|         7 | 09:52:44.3 |      1.020 |     -0.480 |      0.967 |     -1.000 |     -1.959 |    -82.406 |    -18.599 |    -97.782 |\n",
      "|         8 | 09:52:44.3 |      1.040 |     -0.460 |      1.049 |     -1.000 |     -2.930 |    -83.605 |    -18.624 |    -98.430 |\n",
      "|         9 | 09:52:44.3 |      1.060 |     -0.440 |      0.982 |     -1.000 |     -3.930 |    -84.776 |    -18.661 |    -99.126 |\n",
      "|        10 | 09:52:44.3 |      1.080 |     -0.420 |      1.099 |     -1.000 |     -4.957 |    -85.920 |    -18.709 |    -99.869 |\n",
      "|        11 | 09:52:44.3 |      1.100 |     -0.400 |      1.004 |     -1.000 |     -6.014 |    -87.035 |    -18.769 |   -100.661 |\n",
      "+-----------+------------+------------+------------+------------+------------+------------+------------+------------+------------+\n",
      "generator scan ['b908fbbc'] (scan num: 5)\n",
      "\n",
      "\n",
      "\n"
     ]
    },
    {
     "data": {
      "text/plain": [
       "('b908fbbc-9853-424e-8f00-3b3ba7bab9fb',)"
      ]
     },
     "execution_count": 11,
     "metadata": {},
     "output_type": "execute_result"
    }
   ],
   "source": [
    "print(f\"{e4cv.operator.solver.mode=!r}\")\n",
    "print(f\"{e4cv.operator.solver.extras=!r}\")\n",
    "RE(bp.scan([noisy_det, e4cv], e4cv.k, 0.9, 1.1, e4cv.l, -0.6, -0.4, 11))"
   ]
  },
  {
   "cell_type": "markdown",
   "metadata": {},
   "source": [
    "## Scan $\\psi$ around $(100)$ with sample oriented at $(101)$\n",
    "\n",
    "Set the mode to `\"psi_constant\"`, then set $h_2=1, k_2=0, l_2=0$. Step scan\n",
    "$\\psi$ through desired range, setting before reporting at each step.\n"
   ]
  },
  {
   "cell_type": "markdown",
   "metadata": {},
   "source": [
    "need custom plan\n",
    "\n",
    "- loop through psi:\n",
    "  - set psi via extras\n",
    "  - solution = forward(1,0,1)\n",
    "  - move to solution\n",
    "  - read detectors\n"
   ]
  },
  {
   "cell_type": "code",
   "execution_count": 136,
   "metadata": {},
   "outputs": [],
   "source": [
    "import numpy\n",
    "from bluesky import plan_stubs as bps\n",
    "from bluesky import preprocessors as bpp\n",
    "from ophyd import Signal\n",
    "from hklpy2 import SolverError"
   ]
  },
  {
   "cell_type": "code",
   "execution_count": 137,
   "metadata": {},
   "outputs": [],
   "source": [
    "def scan_extra_parameter(\n",
    "    dfrct,\n",
    "    detectors:list = [],\n",
    "    axis: str = None,  # name of extra parameter to be scanned\n",
    "    start:float = None,\n",
    "    finish:float = None,\n",
    "    num: int = None,\n",
    "    pseudos: dict = None,\n",
    "    reals: dict = None,\n",
    "    extras:dict = {},  # define all but the 'axis', these will remain constant\n",
    "    md:dict=None,\n",
    "):\n",
    "    if pseudos is not None and reals is not None:\n",
    "        raise SolverError(\"Cannot define both pseudos and reals.\")\n",
    "    if pseudos is None and reals is None:\n",
    "        raise SolverError(\"Must define either pseudos or reals.\")\n",
    "    forwardTransformation = reals is None\n",
    "\n",
    "    _md = {\n",
    "        \"diffractometer\": {\n",
    "            \"name\": dfrct.name,\n",
    "            \"solver\": dfrct.operator.solver.name,\n",
    "            \"geometry\": dfrct.operator.solver.geometry,\n",
    "            \"engine\": dfrct.operator.solver.engine_name,\n",
    "            \"mode\": dfrct.operator.solver.mode,\n",
    "            \"extra_axes\": dfrct.operator.solver.extra_axis_names,\n",
    "        },\n",
    "        \"axis\": axis,\n",
    "        \"start\": start,\n",
    "        \"finish\": finish,\n",
    "        \"num\": num,\n",
    "        \"pseudos\": pseudos,\n",
    "        \"reals\": reals,\n",
    "        \"extras\": extras,\n",
    "        \"transformation\": \"forward\" if forwardTransformation else \"inverse\"\n",
    "    }\n",
    "    _md.update(md or {})\n",
    "\n",
    "    signal = Signal(name=axis, value=start)\n",
    "    controls = detectors\n",
    "    controls.append(dfrct)\n",
    "    controls.append(signal)\n",
    "    # TODO: controls.append(extras_device)  # TODO: need Device to report ALL extras\n",
    "    controls = list(set(controls))\n",
    "\n",
    "    @bpp.stage_decorator(detectors)\n",
    "    @bpp.run_decorator(md=_md)\n",
    "    def _inner():\n",
    "        dfrct.operator.solver.extras = extras\n",
    "        for value in numpy.linspace(start, finish, num=num):\n",
    "            yield from bps.mv(signal, value)\n",
    "\n",
    "            dfrct.operator.solver.extras = {axis: value}  # just the changing one\n",
    "            if forwardTransformation:\n",
    "                solution = dfrct.forward(pseudos)\n",
    "                # TODO: Could provide a test run without the moves.\n",
    "                reals = []  # convert to ophyd real positioner objects\n",
    "                for k, v in solution._asdict().items():\n",
    "                    reals.append(getattr(dfrct, k))\n",
    "                    reals.append(v)\n",
    "                yield from bps.mv(*reals)\n",
    "            else:\n",
    "                pass  # TODO: inverse\n",
    "\n",
    "            # yield from bps.trigger(detectors)\n",
    "            yield from bps.create(\"primary\")\n",
    "            for item in controls:\n",
    "                yield from bps.read(item)\n",
    "            yield from bps.save()\n",
    "\n",
    "    return (yield from _inner())"
   ]
  },
  {
   "cell_type": "code",
   "execution_count": 150,
   "metadata": {},
   "outputs": [
    {
     "name": "stdout",
     "output_type": "stream",
     "text": [
      "e4cv.operator.solver.mode='psi_constant'\n",
      "\n",
      "\n",
      "Transient Scan ID: 89     Time: 2024-06-22 11:11:20\n",
      "Persistent Unique Scan ID: '54de771b-d955-43ae-acb5-a8e36f974751'\n",
      "New stream: 'primary'\n",
      "+-----------+------------+------------+------------+------------+------------+------------+------------+------------+------------+------------+\n",
      "|   seq_num |       time |        psi |  noisy_det |     e4cv_h |     e4cv_k |     e4cv_l | e4cv_omega |   e4cv_chi |   e4cv_phi |   e4cv_tth |\n",
      "+-----------+------------+------------+------------+------------+------------+------------+------------+------------+------------+------------+\n",
      "|         1 | 11:11:20.4 |      4.000 |      1.004 |      1.000 |     -0.000 |      1.000 |   -135.000 |   -176.000 |    -45.000 |    -90.000 |\n",
      "|         2 | 11:11:20.4 |      8.000 |      1.004 |      1.000 |      0.000 |      1.000 |   -135.000 |   -172.000 |    -45.000 |    -90.000 |\n",
      "|         3 | 11:11:20.5 |     12.000 |      1.004 |      1.000 |     -0.000 |      1.000 |   -135.000 |   -168.000 |    -45.000 |    -90.000 |\n",
      "|         4 | 11:11:20.5 |     16.000 |      1.004 |      1.000 |      0.000 |      1.000 |   -135.000 |   -164.000 |    -45.000 |    -90.000 |\n",
      "|         5 | 11:11:20.5 |     20.000 |      1.004 |      1.000 |     -0.000 |      1.000 |   -135.000 |   -160.000 |    -45.000 |    -90.000 |\n",
      "|         6 | 11:11:20.5 |     24.000 |      1.004 |      1.000 |     -0.000 |      1.000 |   -135.000 |   -156.000 |    -45.000 |    -90.000 |\n",
      "|         7 | 11:11:20.5 |     28.000 |      1.004 |      1.000 |     -0.000 |      1.000 |   -135.000 |   -152.000 |    -45.000 |    -90.000 |\n",
      "|         8 | 11:11:20.5 |     32.000 |      1.004 |      1.000 |     -0.000 |      1.000 |   -135.000 |   -148.000 |    -45.000 |    -90.000 |\n",
      "|         9 | 11:11:20.5 |     36.000 |      1.004 |      1.000 |      0.000 |      1.000 |   -135.000 |   -144.000 |    -45.000 |    -90.000 |\n",
      "|        10 | 11:11:20.5 |     40.000 |      1.004 |      1.000 |      0.000 |      1.000 |   -135.000 |   -140.000 |    -45.000 |    -90.000 |\n",
      "|        11 | 11:11:20.5 |     44.000 |      1.004 |      1.000 |     -0.000 |      1.000 |   -135.000 |   -136.000 |    -45.000 |    -90.000 |\n",
      "+-----------+------------+------------+------------+------------+------------+------------+------------+------------+------------+------------+\n",
      "generator plan_b ['54de771b'] (scan num: 89)\n",
      "\n",
      "\n",
      "\n"
     ]
    },
    {
     "data": {
      "text/plain": [
       "('54de771b-d955-43ae-acb5-a8e36f974751',)"
      ]
     },
     "execution_count": 150,
     "metadata": {},
     "output_type": "execute_result"
    }
   ],
   "source": [
    "print(f\"{e4cv.operator.solver.mode=!r}\")\n",
    "RE(\n",
    "    scan_extra_parameter(\n",
    "        e4cv,\n",
    "        detectors=[noisy_det],\n",
    "        pseudos=(1, 0, 1),\n",
    "        axis=\"psi\",\n",
    "        start=4,\n",
    "        finish=44,\n",
    "        num=11,\n",
    "        extras=dict(h2=1, k2=0, l2=0),\n",
    "    ),\n",
    ")"
   ]
  }
 ],
 "metadata": {
  "kernelspec": {
   "display_name": "bluesky_2024_2",
   "language": "python",
   "name": "python3"
  },
  "language_info": {
   "codemirror_mode": {
    "name": "ipython",
    "version": 3
   },
   "file_extension": ".py",
   "mimetype": "text/x-python",
   "name": "python",
   "nbconvert_exporter": "python",
   "pygments_lexer": "ipython3",
   "version": "3.11.0"
  }
 },
 "nbformat": 4,
 "nbformat_minor": 2
}

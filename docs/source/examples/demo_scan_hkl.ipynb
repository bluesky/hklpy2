{
 "cells": [
  {
   "cell_type": "markdown",
   "metadata": {},
   "source": [
    "# Scan in $(hkl)$ coordinates\n",
    "\n",
    "This notebook demonstrates how to scan in $(hkl)$ coordinates. It uses the\n",
    "simulated 4-circle geometry from the `\"hkl_soleil\"` solver. The wavelength and\n",
    "sample are whatever the simulator provides as defaults.\n",
    "\n",
    "## Setup\n",
    "\n",
    "First, create the simulated 4-circle diffractometer object (`e4cv`)."
   ]
  },
  {
   "cell_type": "code",
   "execution_count": 1,
   "metadata": {},
   "outputs": [],
   "source": [
    "from hklpy2 import SimulatedE4CV\n",
    "\n",
    "e4cv = SimulatedE4CV(\"\", name=\"e4cv\")"
   ]
  },
  {
   "cell_type": "markdown",
   "metadata": {},
   "source": [
    "Setup Bluesky for running the scans with the `RE` object.  The `bec` object will\n",
    "show a table of the data collected for each scan.  \n",
    "\n",
    "For this simple demonstration, we won't add a databroker catalog."
   ]
  },
  {
   "cell_type": "code",
   "execution_count": 2,
   "metadata": {},
   "outputs": [],
   "source": [
    "from bluesky import RunEngine, plans as bp\n",
    "from bluesky.callbacks.best_effort import BestEffortCallback\n",
    "\n",
    "bec = BestEffortCallback()\n",
    "RE = RunEngine()\n",
    "RE.subscribe(bec)\n",
    "bec.disable_plots()"
   ]
  },
  {
   "cell_type": "markdown",
   "metadata": {},
   "source": [
    "We'll **import a simulator** (ready to use) from the `ophyd` package as a noisy detector."
   ]
  },
  {
   "cell_type": "code",
   "execution_count": 3,
   "metadata": {},
   "outputs": [],
   "source": [
    "from ophyd.sim import noisy_det"
   ]
  },
  {
   "cell_type": "markdown",
   "metadata": {},
   "source": [
    "## (h10) scan\n",
    "\n",
    "Scan the (reciprocal space) $h$ axis from -0.5 to +0.5 with $k=1$ and $l=0$.\n",
    "This is called an $(h10)$ scan.\n",
    "\n",
    "<details>\n",
    "\n",
    "The computation to convert reciprocal-space values $(h,k,l)$ into real-space\n",
    "angles ($\\omega$, $\\chi$, $\\phi$, $2\\theta$) is called the `forward()`\n",
    "transformation.  The transformation is not necessarily unique.  The most common\n",
    "way to reduce the number of *solutions* is to tell the solver which `mode` to\n",
    "use.  The `mode` adds an additional pre-designed rule that constrains the\n",
    "acceptable solutions.  The solver's geometry (in this case `E4CV`) provides the\n",
    "list of known modes.\n",
    "\n",
    "Note: Even with a chosen mode, the solution might not be unique.  In such cases,\n",
    "the first solution returned by the `forward()` transformation is chosen.  The\n",
    "user can change this by providing a different function for the diffractometer's\n",
    "`_forward_solution` attribute.  The default is the\n",
    "`hklpy2.diffract.pick_first_item()` function.\n",
    "\n",
    "</details>\n",
    "\n",
    "Here, the diffractometer starts with `\"bissector\"` mode (requires `tth = 2*omega`)."
   ]
  },
  {
   "cell_type": "code",
   "execution_count": 4,
   "metadata": {},
   "outputs": [
    {
     "name": "stdout",
     "output_type": "stream",
     "text": [
      "e4cv.operator.solver.mode='bissector'\n",
      "\n",
      "\n",
      "Transient Scan ID: 1     Time: 2024-06-18 10:21:11\n",
      "Persistent Unique Scan ID: '83362fea-6cf4-4837-859f-b9cf0317a581'\n",
      "New stream: 'primary'\n",
      "+-----------+------------+------------+------------+\n",
      "|   seq_num |       time |     e4cv_h |  noisy_det |\n",
      "+-----------+------------+------------+------------+\n",
      "|         1 | 10:21:11.2 |     -0.500 |      0.914 |\n",
      "|         2 | 10:21:11.2 |     -0.400 |      1.032 |\n",
      "|         3 | 10:21:11.2 |     -0.300 |      1.058 |\n",
      "|         4 | 10:21:11.3 |     -0.200 |      1.055 |\n",
      "|         5 | 10:21:11.3 |     -0.100 |      1.006 |\n",
      "|         6 | 10:21:11.3 |      0.000 |      1.035 |\n",
      "|         7 | 10:21:11.3 |      0.100 |      1.007 |\n",
      "|         8 | 10:21:11.3 |      0.200 |      1.018 |\n",
      "|         9 | 10:21:11.3 |      0.300 |      1.062 |\n",
      "|        10 | 10:21:11.3 |      0.400 |      1.060 |\n",
      "|        11 | 10:21:11.3 |      0.500 |      1.023 |\n",
      "+-----------+------------+------------+------------+\n",
      "generator scan ['83362fea'] (scan num: 1)\n",
      "\n",
      "\n",
      "\n"
     ]
    },
    {
     "data": {
      "text/plain": [
       "('83362fea-6cf4-4837-859f-b9cf0317a581',)"
      ]
     },
     "execution_count": 4,
     "metadata": {},
     "output_type": "execute_result"
    }
   ],
   "source": [
    "print(f\"{e4cv.operator.solver.mode=!r}\")\n",
    "e4cv.k.move(1)\n",
    "e4cv.l.move(0)\n",
    "RE(bp.scan([noisy_det], e4cv.h, -0.5, 0.5, 11))"
   ]
  },
  {
   "cell_type": "markdown",
   "metadata": {},
   "source": [
    "**Clearly we see** that $h$ has been stepped across the range of -0.5 to +0.5.\n",
    "Values for the noisy detector have been reported at each step.  But we want to\n",
    "know about *all* the $hkl$ and angle values so we can observe the effects of\n",
    "`\"bissector\"` mode.\n",
    "\n",
    "### Scan again, showing all $(hkl)$ and real-space axes\n",
    "\n",
    "Repeat the scan, same as before with a slight variation.  This time, add the\n",
    "`e4cv` object as an additional detector.  \n",
    "\n",
    "Here, we add `e4cv` *before* `noisy_det` so all diffractometer axes are listed\n",
    "first in the table."
   ]
  },
  {
   "cell_type": "code",
   "execution_count": 5,
   "metadata": {},
   "outputs": [
    {
     "name": "stdout",
     "output_type": "stream",
     "text": [
      "e4cv.operator.solver.mode='bissector'\n",
      "\n",
      "\n",
      "Transient Scan ID: 2     Time: 2024-06-18 10:21:11\n",
      "Persistent Unique Scan ID: 'c46db789-a333-4268-9b64-5362c1884274'\n",
      "New stream: 'primary'\n",
      "+-----------+------------+------------+------------+------------+------------+------------+------------+------------+------------+\n",
      "|   seq_num |       time |     e4cv_h |     e4cv_k |     e4cv_l | e4cv_omega |   e4cv_chi |   e4cv_phi |   e4cv_tth |  noisy_det |\n",
      "+-----------+------------+------------+------------+------------+------------+------------+------------+------------+------------+\n",
      "|         1 | 10:21:11.5 |     -0.500 |      1.000 |      0.000 |    -33.988 |    -63.435 |     90.000 |    -67.976 |      0.985 |\n",
      "|         2 | 10:21:11.5 |     -0.400 |      1.000 |      0.000 |    -32.583 |    -68.199 |     90.000 |    -65.165 |      0.955 |\n",
      "|         3 | 10:21:11.5 |     -0.300 |      1.000 |     -0.000 |    -31.468 |    -73.301 |     90.000 |    -62.935 |      1.059 |\n",
      "|         4 | 10:21:11.5 |     -0.200 |      1.000 |     -0.000 |    -30.657 |    -78.690 |     90.000 |    -61.315 |      0.999 |\n",
      "|         5 | 10:21:11.5 |     -0.100 |      1.000 |     -0.000 |    -30.165 |    -84.289 |     90.000 |    -60.330 |      1.093 |\n",
      "|         6 | 10:21:11.5 |      0.000 |      1.000 |      0.000 |    -30.000 |    -90.000 |     90.000 |    -60.000 |      1.070 |\n",
      "|         7 | 10:21:11.6 |      0.100 |      1.000 |      0.000 |    -30.165 |    -95.711 |     90.000 |    -60.330 |      0.935 |\n",
      "|         8 | 10:21:11.6 |      0.200 |      1.000 |     -0.000 |    -30.657 |   -101.310 |     90.000 |    -61.315 |      0.989 |\n",
      "|         9 | 10:21:11.6 |      0.300 |      1.000 |     -0.000 |    -31.468 |   -106.699 |     90.000 |    -62.935 |      1.023 |\n",
      "|        10 | 10:21:11.6 |      0.400 |      1.000 |     -0.000 |    -32.583 |   -111.801 |     90.000 |    -65.165 |      1.002 |\n",
      "|        11 | 10:21:11.6 |      0.500 |      1.000 |     -0.000 |    -33.988 |   -116.565 |     90.000 |    -67.976 |      0.953 |\n",
      "+-----------+------------+------------+------------+------------+------------+------------+------------+------------+------------+\n",
      "generator scan ['c46db789'] (scan num: 2)\n",
      "\n",
      "\n",
      "\n"
     ]
    },
    {
     "data": {
      "text/plain": [
       "('c46db789-a333-4268-9b64-5362c1884274',)"
      ]
     },
     "execution_count": 5,
     "metadata": {},
     "output_type": "execute_result"
    }
   ],
   "source": [
    "print(f\"{e4cv.operator.solver.mode=!r}\")\n",
    "e4cv.k.move(1)\n",
    "e4cv.l.move(0)\n",
    "RE(bp.scan([e4cv, noisy_det], e4cv.h, -0.5, 0.5, 11))"
   ]
  },
  {
   "cell_type": "markdown",
   "metadata": {},
   "source": [
    "## What other modes are available?"
   ]
  },
  {
   "cell_type": "code",
   "execution_count": 6,
   "metadata": {},
   "outputs": [
    {
     "data": {
      "text/plain": [
       "['bissector',\n",
       " 'constant_omega',\n",
       " 'constant_chi',\n",
       " 'constant_phi',\n",
       " 'double_diffraction',\n",
       " 'psi_constant']"
      ]
     },
     "execution_count": 6,
     "metadata": {},
     "output_type": "execute_result"
    }
   ],
   "source": [
    "e4cv.operator.solver.modes"
   ]
  },
  {
   "cell_type": "markdown",
   "metadata": {},
   "source": [
    "## Scan $(h10)$ holding $\\omega$ at -30 degrees\n",
    "\n",
    "Set the mode to `\"constant_omega\"`, then set $\\omega=-30$ degrees."
   ]
  },
  {
   "cell_type": "code",
   "execution_count": 7,
   "metadata": {},
   "outputs": [
    {
     "name": "stdout",
     "output_type": "stream",
     "text": [
      "e4cv.omega.position=-30\n"
     ]
    }
   ],
   "source": [
    "e4cv.operator.solver.mode = \"constant_omega\"\n",
    "e4cv.omega.move(-30)\n",
    "print(f\"{e4cv.omega.position=!r}\")"
   ]
  },
  {
   "cell_type": "markdown",
   "metadata": {},
   "source": [
    "**Run the scan again** with the same command."
   ]
  },
  {
   "cell_type": "code",
   "execution_count": 8,
   "metadata": {},
   "outputs": [
    {
     "name": "stdout",
     "output_type": "stream",
     "text": [
      "e4cv.operator.solver.mode='constant_omega'\n",
      "\n",
      "\n",
      "Transient Scan ID: 3     Time: 2024-06-18 10:21:11\n",
      "Persistent Unique Scan ID: 'babc7b30-4d9d-4a28-b2fa-56e4793d3281'\n",
      "New stream: 'primary'\n",
      "+-----------+------------+------------+------------+------------+------------+------------+------------+------------+------------+\n",
      "|   seq_num |       time |     e4cv_h |     e4cv_k |     e4cv_l | e4cv_omega |   e4cv_chi |   e4cv_phi |   e4cv_tth |  noisy_det |\n",
      "+-----------+------------+------------+------------+------------+------------+------------+------------+------------+------------+\n",
      "|         1 | 10:21:11.8 |     -0.500 |      1.000 |      0.000 |    -30.000 |    -63.714 |     81.054 |    -67.976 |      1.008 |\n",
      "|         2 | 10:21:11.8 |     -0.400 |      1.000 |     -0.000 |    -30.000 |    -68.345 |     83.031 |    -65.165 |      1.072 |\n",
      "|         3 | 10:21:11.8 |     -0.300 |      1.000 |     -0.000 |    -30.000 |    -73.364 |     84.887 |    -62.935 |      1.048 |\n",
      "|         4 | 10:21:11.8 |     -0.200 |      1.000 |     -0.000 |    -30.000 |    -78.709 |     86.647 |    -61.315 |      0.994 |\n",
      "|         5 | 10:21:11.8 |     -0.100 |      1.000 |     -0.000 |    -30.000 |    -84.292 |     88.340 |    -60.330 |      1.082 |\n",
      "|         6 | 10:21:11.8 |     -0.000 |      1.000 |     -0.000 |    -30.000 |    -90.000 |     88.340 |    -60.000 |      0.970 |\n",
      "|         7 | 10:21:11.8 |      0.100 |      1.000 |     -0.000 |    -30.000 |    -95.708 |     91.660 |    -60.330 |      0.986 |\n",
      "|         8 | 10:21:11.8 |      0.200 |      1.000 |     -0.000 |    -30.000 |   -101.291 |     93.353 |    -61.315 |      0.922 |\n",
      "|         9 | 10:21:11.8 |      0.300 |      1.000 |     -0.000 |    -30.000 |   -106.636 |     95.113 |    -62.935 |      0.951 |\n",
      "|        10 | 10:21:11.9 |      0.400 |      1.000 |     -0.000 |    -30.000 |   -111.655 |     96.969 |    -65.165 |      1.057 |\n",
      "|        11 | 10:21:11.9 |      0.500 |      1.000 |      0.000 |    -30.000 |   -116.286 |     98.946 |    -67.976 |      0.908 |\n",
      "+-----------+------------+------------+------------+------------+------------+------------+------------+------------+------------+\n",
      "generator scan ['babc7b30'] (scan num: 3)\n",
      "\n",
      "\n",
      "\n"
     ]
    },
    {
     "data": {
      "text/plain": [
       "('babc7b30-4d9d-4a28-b2fa-56e4793d3281',)"
      ]
     },
     "execution_count": 8,
     "metadata": {},
     "output_type": "execute_result"
    }
   ],
   "source": [
    "print(f\"{e4cv.operator.solver.mode=!r}\")\n",
    "e4cv.k.move(1)\n",
    "e4cv.l.move(0)\n",
    "RE(bp.scan([e4cv, noisy_det], e4cv.h, -0.5, 0.5, 11))"
   ]
  }
 ],
 "metadata": {
  "kernelspec": {
   "display_name": "bluesky_2024_2",
   "language": "python",
   "name": "python3"
  },
  "language_info": {
   "codemirror_mode": {
    "name": "ipython",
    "version": 3
   },
   "file_extension": ".py",
   "mimetype": "text/x-python",
   "name": "python",
   "nbconvert_exporter": "python",
   "pygments_lexer": "ipython3",
   "version": "3.11.0"
  }
 },
 "nbformat": 4,
 "nbformat_minor": 2
}

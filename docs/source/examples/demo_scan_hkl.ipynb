{
 "cells": [
  {
   "cell_type": "markdown",
   "metadata": {},
   "source": [
    "# Scan in $(hkl)$ coordinates\n",
    "\n",
    "This notebook demonstrates how to scan in $(hkl)$ coordinates. It uses the\n",
    "simulated 4-circle geometry from the `\"hkl_soleil\"` solver. The wavelength and\n",
    "sample are whatever the simulator provides as defaults.\n",
    "\n",
    "**Important**:  It is possible to scan in any combination of reciprocal axes or to\n",
    "scan in any combination of real-space axes.  You are not allowed to scan in a\n",
    "mix of reciprocal and real-space axes.\n",
    "\n",
    "## Setup\n",
    "\n",
    "First, create the simulated 4-circle diffractometer object (`e4cv`)."
   ]
  },
  {
   "cell_type": "code",
   "execution_count": 1,
   "metadata": {},
   "outputs": [],
   "source": [
    "from hklpy2 import SimulatedE4CV\n",
    "\n",
    "e4cv = SimulatedE4CV(\"\", name=\"e4cv\")"
   ]
  },
  {
   "cell_type": "markdown",
   "metadata": {},
   "source": [
    "Setup Bluesky for running the scans with the `RE` object.  The `bec` object will\n",
    "show a table of the data collected for each scan.  \n",
    "\n",
    "For this simple demonstration, we won't add a databroker catalog."
   ]
  },
  {
   "cell_type": "code",
   "execution_count": 2,
   "metadata": {},
   "outputs": [],
   "source": [
    "from bluesky import RunEngine, plans as bp\n",
    "from bluesky.callbacks.best_effort import BestEffortCallback\n",
    "\n",
    "bec = BestEffortCallback()\n",
    "RE = RunEngine()\n",
    "RE.subscribe(bec)\n",
    "bec.disable_plots()"
   ]
  },
  {
   "cell_type": "markdown",
   "metadata": {},
   "source": [
    "We'll **import a simulator** (ready to use) from the `ophyd` package as a noisy detector."
   ]
  },
  {
   "cell_type": "code",
   "execution_count": 3,
   "metadata": {},
   "outputs": [],
   "source": [
    "from ophyd.sim import noisy_det"
   ]
  },
  {
   "cell_type": "markdown",
   "metadata": {},
   "source": [
    "## (h10) scan\n",
    "\n",
    "Scan the (reciprocal space) $h$ axis from -0.5 to +0.5 with $k=1$ and $l=0$.\n",
    "This is called an $(h10)$ scan.\n",
    "\n",
    "<details>\n",
    "\n",
    "The computation to convert reciprocal-space values $(h,k,l)$ into real-space\n",
    "angles ($\\omega$, $\\chi$, $\\phi$, $2\\theta$) is called the `forward()`\n",
    "transformation.  The transformation is not necessarily unique.  The most common\n",
    "way to reduce the number of *solutions* is to tell the solver which `mode` to\n",
    "use.  The `mode` adds an additional pre-designed rule that constrains the\n",
    "acceptable solutions.  The solver's geometry (in this case `E4CV`) provides the\n",
    "list of known modes.\n",
    "\n",
    "Note: Even with a chosen mode, the solution might not be unique.  In such cases,\n",
    "the first solution returned by the `forward()` transformation is chosen.  The\n",
    "user can change this by providing a different function for the diffractometer's\n",
    "`_forward_solution` attribute.  The default is the\n",
    "`hklpy2.diffract.pick_first_item()` function.\n",
    "\n",
    "</details>\n",
    "\n",
    "Here, the diffractometer starts with `\"bissector\"` mode (requires `tth = 2*omega`)."
   ]
  },
  {
   "cell_type": "code",
   "execution_count": 4,
   "metadata": {},
   "outputs": [
    {
     "name": "stdout",
     "output_type": "stream",
     "text": [
      "e4cv.operator.solver.mode='bissector'\n",
      "\n",
      "\n",
      "Transient Scan ID: 1     Time: 2024-06-18 13:21:07\n",
      "Persistent Unique Scan ID: '413efc0e-a130-4a2c-b8c3-737fe9cc290f'\n",
      "New stream: 'primary'\n",
      "+-----------+------------+------------+------------+\n",
      "|   seq_num |       time |     e4cv_h |  noisy_det |\n",
      "+-----------+------------+------------+------------+\n",
      "|         1 | 13:21:07.2 |     -0.500 |      1.033 |\n",
      "|         2 | 13:21:07.2 |     -0.400 |      1.091 |\n",
      "|         3 | 13:21:07.2 |     -0.300 |      1.043 |\n",
      "|         4 | 13:21:07.2 |     -0.200 |      0.914 |\n",
      "|         5 | 13:21:07.2 |     -0.100 |      0.911 |\n",
      "|         6 | 13:21:07.2 |      0.000 |      1.095 |\n",
      "|         7 | 13:21:07.2 |      0.100 |      1.023 |\n",
      "|         8 | 13:21:07.2 |      0.200 |      0.927 |\n",
      "|         9 | 13:21:07.2 |      0.300 |      0.981 |\n",
      "|        10 | 13:21:07.2 |      0.400 |      1.084 |\n",
      "|        11 | 13:21:07.2 |      0.500 |      0.932 |\n",
      "+-----------+------------+------------+------------+\n",
      "generator scan ['413efc0e'] (scan num: 1)\n",
      "\n",
      "\n",
      "\n"
     ]
    },
    {
     "data": {
      "text/plain": [
       "('413efc0e-a130-4a2c-b8c3-737fe9cc290f',)"
      ]
     },
     "execution_count": 4,
     "metadata": {},
     "output_type": "execute_result"
    }
   ],
   "source": [
    "print(f\"{e4cv.operator.solver.mode=!r}\")\n",
    "e4cv.k.move(1)\n",
    "e4cv.l.move(0)\n",
    "RE(bp.scan([noisy_det], e4cv.h, -0.5, 0.5, 11))"
   ]
  },
  {
   "cell_type": "markdown",
   "metadata": {},
   "source": [
    "**Clearly we see** that $h$ has been stepped across the range of -0.5 to +0.5.\n",
    "Values for the noisy detector have been reported at each step.  But we want to\n",
    "know about *all* the $hkl$ and angle values so we can observe the effects of\n",
    "`\"bissector\"` mode.\n",
    "\n",
    "### Scan again, showing all $(hkl)$ and real-space axes\n",
    "\n",
    "Repeat the scan, same as before with a slight variation.  This time, add the\n",
    "`e4cv` object as an additional detector."
   ]
  },
  {
   "cell_type": "code",
   "execution_count": 5,
   "metadata": {},
   "outputs": [
    {
     "name": "stdout",
     "output_type": "stream",
     "text": [
      "e4cv.operator.solver.mode='bissector'\n",
      "\n",
      "\n",
      "Transient Scan ID: 2     Time: 2024-06-18 13:21:07\n",
      "Persistent Unique Scan ID: 'b95a2283-bb29-427d-a6ba-da989ef8e7fb'\n",
      "New stream: 'primary'\n",
      "+-----------+------------+------------+------------+------------+------------+------------+------------+------------+------------+\n",
      "|   seq_num |       time |     e4cv_h |  noisy_det |     e4cv_k |     e4cv_l | e4cv_omega |   e4cv_chi |   e4cv_phi |   e4cv_tth |\n",
      "+-----------+------------+------------+------------+------------+------------+------------+------------+------------+------------+\n",
      "|         1 | 13:21:07.4 |     -0.500 |      0.906 |      1.000 |      0.000 |    -33.988 |    -63.435 |     90.000 |    -67.976 |\n",
      "|         2 | 13:21:07.4 |     -0.400 |      0.969 |      1.000 |      0.000 |    -32.583 |    -68.199 |     90.000 |    -65.165 |\n",
      "|         3 | 13:21:07.4 |     -0.300 |      0.999 |      1.000 |     -0.000 |    -31.468 |    -73.301 |     90.000 |    -62.935 |\n",
      "|         4 | 13:21:07.4 |     -0.200 |      1.007 |      1.000 |     -0.000 |    -30.657 |    -78.690 |     90.000 |    -61.315 |\n",
      "|         5 | 13:21:07.4 |     -0.100 |      1.081 |      1.000 |     -0.000 |    -30.165 |    -84.289 |     90.000 |    -60.330 |\n",
      "|         6 | 13:21:07.4 |      0.000 |      1.099 |      1.000 |      0.000 |    -30.000 |    -90.000 |     90.000 |    -60.000 |\n",
      "|         7 | 13:21:07.4 |      0.100 |      1.079 |      1.000 |      0.000 |    -30.165 |    -95.711 |     90.000 |    -60.330 |\n",
      "|         8 | 13:21:07.4 |      0.200 |      0.959 |      1.000 |     -0.000 |    -30.657 |   -101.310 |     90.000 |    -61.315 |\n",
      "|         9 | 13:21:07.5 |      0.300 |      0.955 |      1.000 |     -0.000 |    -31.468 |   -106.699 |     90.000 |    -62.935 |\n",
      "|        10 | 13:21:07.5 |      0.400 |      1.020 |      1.000 |     -0.000 |    -32.583 |   -111.801 |     90.000 |    -65.165 |\n",
      "|        11 | 13:21:07.5 |      0.500 |      1.069 |      1.000 |     -0.000 |    -33.988 |   -116.565 |     90.000 |    -67.976 |\n",
      "+-----------+------------+------------+------------+------------+------------+------------+------------+------------+------------+\n",
      "generator scan ['b95a2283'] (scan num: 2)\n",
      "\n",
      "\n",
      "\n"
     ]
    },
    {
     "data": {
      "text/plain": [
       "('b95a2283-bb29-427d-a6ba-da989ef8e7fb',)"
      ]
     },
     "execution_count": 5,
     "metadata": {},
     "output_type": "execute_result"
    }
   ],
   "source": [
    "print(f\"{e4cv.operator.solver.mode=!r}\")\n",
    "e4cv.k.move(1)\n",
    "e4cv.l.move(0)\n",
    "RE(bp.scan([noisy_det, e4cv], e4cv.h, -0.5, 0.5, 11))"
   ]
  },
  {
   "cell_type": "markdown",
   "metadata": {},
   "source": [
    "## What other modes are available?"
   ]
  },
  {
   "cell_type": "code",
   "execution_count": 6,
   "metadata": {},
   "outputs": [
    {
     "data": {
      "text/plain": [
       "['bissector',\n",
       " 'constant_omega',\n",
       " 'constant_chi',\n",
       " 'constant_phi',\n",
       " 'double_diffraction',\n",
       " 'psi_constant']"
      ]
     },
     "execution_count": 6,
     "metadata": {},
     "output_type": "execute_result"
    }
   ],
   "source": [
    "e4cv.operator.solver.modes"
   ]
  },
  {
   "cell_type": "markdown",
   "metadata": {},
   "source": [
    "## Scan $(h10)$ holding $\\omega$ at -30 degrees\n",
    "\n",
    "Set the mode to `\"constant_omega\"`, then set $\\omega=-30$ degrees."
   ]
  },
  {
   "cell_type": "code",
   "execution_count": 7,
   "metadata": {},
   "outputs": [
    {
     "name": "stdout",
     "output_type": "stream",
     "text": [
      "e4cv.omega.position=-30\n"
     ]
    }
   ],
   "source": [
    "e4cv.operator.solver.mode = \"constant_omega\"\n",
    "e4cv.omega.move(-30)\n",
    "print(f\"{e4cv.omega.position=!r}\")"
   ]
  },
  {
   "cell_type": "markdown",
   "metadata": {},
   "source": [
    "**Run the scan again** with the same command."
   ]
  },
  {
   "cell_type": "code",
   "execution_count": 8,
   "metadata": {},
   "outputs": [
    {
     "name": "stdout",
     "output_type": "stream",
     "text": [
      "e4cv.operator.solver.mode='constant_omega'\n",
      "\n",
      "\n",
      "Transient Scan ID: 3     Time: 2024-06-18 13:21:07\n",
      "Persistent Unique Scan ID: 'af4cda7a-c535-47d1-bda2-0c66ac60aa77'\n",
      "New stream: 'primary'\n",
      "+-----------+------------+------------+------------+------------+------------+------------+------------+------------+------------+\n",
      "|   seq_num |       time |     e4cv_h |  noisy_det |     e4cv_k |     e4cv_l | e4cv_omega |   e4cv_chi |   e4cv_phi |   e4cv_tth |\n",
      "+-----------+------------+------------+------------+------------+------------+------------+------------+------------+------------+\n",
      "|         1 | 13:21:07.7 |     -0.500 |      0.955 |      1.000 |      0.000 |    -30.000 |    -63.714 |     81.054 |    -67.976 |\n",
      "|         2 | 13:21:07.7 |     -0.400 |      0.915 |      1.000 |     -0.000 |    -30.000 |    -68.345 |     83.031 |    -65.165 |\n",
      "|         3 | 13:21:07.7 |     -0.300 |      0.939 |      1.000 |     -0.000 |    -30.000 |    -73.364 |     84.887 |    -62.935 |\n",
      "|         4 | 13:21:07.7 |     -0.200 |      1.088 |      1.000 |     -0.000 |    -30.000 |    -78.709 |     86.647 |    -61.315 |\n",
      "|         5 | 13:21:07.7 |     -0.100 |      1.055 |      1.000 |     -0.000 |    -30.000 |    -84.292 |     88.340 |    -60.330 |\n",
      "|         6 | 13:21:07.7 |     -0.000 |      0.902 |      1.000 |     -0.000 |    -30.000 |    -90.000 |     88.340 |    -60.000 |\n",
      "|         7 | 13:21:07.7 |      0.100 |      1.060 |      1.000 |     -0.000 |    -30.000 |    -95.708 |     91.660 |    -60.330 |\n",
      "|         8 | 13:21:07.7 |      0.200 |      0.903 |      1.000 |     -0.000 |    -30.000 |   -101.291 |     93.353 |    -61.315 |\n",
      "|         9 | 13:21:07.7 |      0.300 |      0.960 |      1.000 |     -0.000 |    -30.000 |   -106.636 |     95.113 |    -62.935 |\n",
      "|        10 | 13:21:07.7 |      0.400 |      1.016 |      1.000 |     -0.000 |    -30.000 |   -111.655 |     96.969 |    -65.165 |\n",
      "|        11 | 13:21:07.8 |      0.500 |      1.086 |      1.000 |      0.000 |    -30.000 |   -116.286 |     98.946 |    -67.976 |\n",
      "+-----------+------------+------------+------------+------------+------------+------------+------------+------------+------------+\n",
      "generator scan ['af4cda7a'] (scan num: 3)\n",
      "\n",
      "\n",
      "\n"
     ]
    },
    {
     "data": {
      "text/plain": [
       "('af4cda7a-c535-47d1-bda2-0c66ac60aa77',)"
      ]
     },
     "execution_count": 8,
     "metadata": {},
     "output_type": "execute_result"
    }
   ],
   "source": [
    "print(f\"{e4cv.operator.solver.mode=!r}\")\n",
    "e4cv.k.move(1)\n",
    "e4cv.l.move(0)\n",
    "RE(bp.scan([noisy_det, e4cv], e4cv.h, -0.5, 0.5, 11))"
   ]
  },
  {
   "cell_type": "markdown",
   "metadata": {},
   "source": [
    "## Scan $(\\bar{1}kl)$ holding $\\omega$ at -30 degrees\n",
    "\n",
    "Keep mode as `\"constant_omega\"` and $\\omega=-30$.  Set $h=-1$ and scan $k$ & $l$."
   ]
  },
  {
   "cell_type": "code",
   "execution_count": 9,
   "metadata": {},
   "outputs": [
    {
     "name": "stdout",
     "output_type": "stream",
     "text": [
      "e4cv.operator.solver.mode='constant_omega'\n",
      "\n",
      "\n",
      "Transient Scan ID: 4     Time: 2024-06-18 13:21:07\n",
      "Persistent Unique Scan ID: '83b4bf4e-3d61-4321-bd7f-6378084545a9'\n",
      "New stream: 'primary'\n",
      "+-----------+------------+------------+------------+------------+------------+------------+------------+------------+------------+\n",
      "|   seq_num |       time |     e4cv_k |     e4cv_l |  noisy_det |     e4cv_h | e4cv_omega |   e4cv_chi |   e4cv_phi |   e4cv_tth |\n",
      "+-----------+------------+------------+------------+------------+------------+------------+------------+------------+------------+\n",
      "|         1 | 13:21:08.0 |      0.900 |     -0.600 |      0.967 |     -1.000 |    -30.000 |    -39.821 |     36.793 |    -94.876 |\n",
      "|         2 | 13:21:08.0 |      0.920 |     -0.580 |      1.007 |     -1.000 |    -30.000 |    -40.796 |     37.124 |    -95.244 |\n",
      "|         3 | 13:21:08.0 |      0.940 |     -0.560 |      1.077 |     -1.000 |    -30.000 |    -41.770 |     37.424 |    -95.659 |\n",
      "|         4 | 13:21:08.1 |      0.960 |     -0.540 |      0.956 |     -1.000 |    -30.000 |    -42.745 |     37.689 |    -96.119 |\n",
      "|         5 | 13:21:08.1 |      0.980 |     -0.520 |      1.062 |     -1.000 |    -30.000 |    -43.721 |     37.920 |    -96.627 |\n",
      "|         6 | 13:21:08.1 |      1.000 |     -0.500 |      1.044 |     -1.000 |    -30.000 |    -44.698 |     38.112 |    -97.181 |\n",
      "|         7 | 13:21:08.1 |      1.020 |     -0.480 |      1.050 |     -1.000 |    -30.000 |    -45.677 |     38.265 |    -97.782 |\n",
      "|         8 | 13:21:08.1 |      1.040 |     -0.460 |      1.033 |     -1.000 |    -30.000 |    -46.660 |     38.375 |    -98.430 |\n",
      "|         9 | 13:21:08.1 |      1.060 |     -0.440 |      0.960 |     -1.000 |    -30.000 |    -47.647 |     38.440 |    -99.126 |\n",
      "|        10 | 13:21:08.1 |      1.080 |     -0.420 |      0.981 |     -1.000 |    -30.000 |    -48.640 |     38.457 |    -99.869 |\n",
      "|        11 | 13:21:08.1 |      1.100 |     -0.400 |      1.052 |     -1.000 |    -30.000 |    -49.641 |     38.422 |   -100.661 |\n",
      "+-----------+------------+------------+------------+------------+------------+------------+------------+------------+------------+\n",
      "generator scan ['83b4bf4e'] (scan num: 4)\n",
      "\n",
      "\n",
      "\n"
     ]
    },
    {
     "data": {
      "text/plain": [
       "('83b4bf4e-3d61-4321-bd7f-6378084545a9',)"
      ]
     },
     "execution_count": 9,
     "metadata": {},
     "output_type": "execute_result"
    }
   ],
   "source": [
    "e4cv.h.move(-1)\n",
    "print(f\"{e4cv.operator.solver.mode=!r}\")\n",
    "RE(bp.scan([noisy_det, e4cv], e4cv.k, 0.9, 1.1, e4cv.l, -0.6, -0.4, 11))"
   ]
  },
  {
   "cell_type": "markdown",
   "metadata": {},
   "source": [
    "## Scan $(h10)$ holding $\\psi$ at 25 degrees around $(100)$\n",
    "\n",
    "Set the mode to `\"psi_constant\"`, then set $h_2=1, k_2=0, l_2=0$ & $\\psi=25$ degrees.\n",
    "\n",
    "TODO: What is $\\psi$?  What is $(h_2, k_2, l_2)$?  Is enabled by solver yet?"
   ]
  },
  {
   "cell_type": "code",
   "execution_count": 11,
   "metadata": {},
   "outputs": [],
   "source": [
    "e4cv.operator.solver.mode = \"psi_constant\"\n",
    "\n",
    "# TODO: Can this be even easier?\n",
    "extras = {\n",
    "    \"h2\": 1,\n",
    "    \"k2\": 0,\n",
    "    \"l2\": 0,\n",
    "    \"psi\": 25,\n",
    "}\n",
    "e4cv.operator.solver.extras = extras"
   ]
  },
  {
   "cell_type": "code",
   "execution_count": 12,
   "metadata": {},
   "outputs": [
    {
     "name": "stdout",
     "output_type": "stream",
     "text": [
      "e4cv.operator.solver.mode='psi_constant'\n",
      "e4cv.operator.solver.extras={'h2': 1.0, 'k2': 0.0, 'l2': 0.0, 'psi': 25.0}\n",
      "\n",
      "\n",
      "Transient Scan ID: 5     Time: 2024-06-18 13:21:08\n",
      "Persistent Unique Scan ID: 'bc179cd8-9a48-456e-b223-afb69ad715bc'\n",
      "New stream: 'primary'\n",
      "+-----------+------------+------------+------------+------------+------------+------------+------------+------------+------------+\n",
      "|   seq_num |       time |     e4cv_k |     e4cv_l |  noisy_det |     e4cv_h | e4cv_omega |   e4cv_chi |   e4cv_phi |   e4cv_tth |\n",
      "+-----------+------------+------------+------------+------------+------------+------------+------------+------------+------------+\n",
      "|         1 | 13:21:08.4 |      0.900 |     -0.600 |      1.025 |     -1.000 |      3.258 |    -74.691 |    -18.768 |    -94.876 |\n",
      "|         2 | 13:21:08.4 |      0.920 |     -0.580 |      0.983 |     -1.000 |      2.461 |    -76.033 |    -18.698 |    -95.244 |\n",
      "|         3 | 13:21:08.4 |      0.940 |     -0.560 |      0.903 |     -1.000 |      1.635 |    -77.355 |    -18.646 |    -95.659 |\n",
      "|         4 | 13:21:08.5 |      0.960 |     -0.540 |      1.089 |     -1.000 |      0.781 |    -78.654 |    -18.611 |    -96.119 |\n",
      "|         5 | 13:21:08.5 |      0.980 |     -0.520 |      1.083 |     -1.000 |     -0.104 |    -79.930 |    -18.592 |    -96.627 |\n",
      "|         6 | 13:21:08.5 |      1.000 |     -0.500 |      0.988 |     -1.000 |     -1.017 |    -81.181 |    -18.589 |    -97.181 |\n",
      "|         7 | 13:21:08.5 |      1.020 |     -0.480 |      0.916 |     -1.000 |     -1.959 |    -82.406 |    -18.599 |    -97.782 |\n",
      "|         8 | 13:21:08.5 |      1.040 |     -0.460 |      1.034 |     -1.000 |     -2.930 |    -83.605 |    -18.624 |    -98.430 |\n",
      "|         9 | 13:21:08.5 |      1.060 |     -0.440 |      1.019 |     -1.000 |     -3.930 |    -84.776 |    -18.661 |    -99.126 |\n",
      "|        10 | 13:21:08.5 |      1.080 |     -0.420 |      1.047 |     -1.000 |     -4.957 |    -85.920 |    -18.709 |    -99.869 |\n",
      "|        11 | 13:21:08.5 |      1.100 |     -0.400 |      0.903 |     -1.000 |     -6.014 |    -87.035 |    -18.769 |   -100.661 |\n",
      "+-----------+------------+------------+------------+------------+------------+------------+------------+------------+------------+\n",
      "generator scan ['bc179cd8'] (scan num: 5)\n",
      "\n",
      "\n",
      "\n"
     ]
    },
    {
     "data": {
      "text/plain": [
       "('bc179cd8-9a48-456e-b223-afb69ad715bc',)"
      ]
     },
     "execution_count": 12,
     "metadata": {},
     "output_type": "execute_result"
    }
   ],
   "source": [
    "print(f\"{e4cv.operator.solver.mode=!r}\")\n",
    "print(f\"{e4cv.operator.solver.extras=!r}\")\n",
    "RE(bp.scan([noisy_det, e4cv], e4cv.k, 0.9, 1.1, e4cv.l, -0.6, -0.4, 11))"
   ]
  },
  {
   "cell_type": "markdown",
   "metadata": {},
   "source": [
    "## Scan $\\psi$ around $(100)$ with sample oriented at $(101)$\n",
    "\n",
    "Set the mode to `\"psi_constant\"`, then set $h_2=1, k_2=0, l_2=0$."
   ]
  },
  {
   "cell_type": "markdown",
   "metadata": {},
   "source": [
    "need custom plan\n",
    "\n",
    "- loop through psi:\n",
    "  - set psi via extras\n",
    "  - pos = forward(1,1,0)\n",
    "  - move to pos\n",
    "  - read detectors"
   ]
  },
  {
   "cell_type": "code",
   "execution_count": 15,
   "metadata": {},
   "outputs": [],
   "source": [
    "# RE(\n",
    "#     bp.scan(  # TODO: need custom scan for this\n",
    "#         [noisy_det, e4cv],\n",
    "#         # psi, -90, 90,  # TODO: How to set this \"extra\"?\n",
    "#         e4cv.h, 1, 1,  # constant\n",
    "#         e4cv.k, 0, 0,  # constant\n",
    "#         e4cv.l, 1, 1,  # constant\n",
    "#         11,\n",
    "#     )\n",
    "# )"
   ]
  }
 ],
 "metadata": {
  "kernelspec": {
   "display_name": "bluesky_2024_2",
   "language": "python",
   "name": "python3"
  },
  "language_info": {
   "codemirror_mode": {
    "name": "ipython",
    "version": 3
   },
   "file_extension": ".py",
   "mimetype": "text/x-python",
   "name": "python",
   "nbconvert_exporter": "python",
   "pygments_lexer": "ipython3",
   "version": "3.11.0"
  }
 },
 "nbformat": 4,
 "nbformat_minor": 2
}

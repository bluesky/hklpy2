{
 "cells": [
  {
   "cell_type": "markdown",
   "metadata": {},
   "source": [
    "# Diffractometer Extra Motors\n",
    "\n",
    "Sometimes, it is desired to add additional motor(s) (or other components) to\n",
    "a diffractometer object.\n",
    "\n",
    "**Objective**\n",
    "\n",
    "Add one or more real positioners to the standard positioners of the 2-circle\n",
    "diffractometer (*tth_tth*, *TH TTH Q* [geometry](../geometry_tables.rst)).  Use\n",
    "simulated motors for the example (no EPICS required)."
   ]
  },
  {
   "cell_type": "markdown",
   "metadata": {},
   "source": [
    "## Standard 2-circle\n",
    "\n",
    "First, we start with the setup of a 2-circle ($\\theta:2\\theta$) diffractometer.\n",
    "\n",
    "axis | space\n",
    "--- | ---\n",
    "th | real\n",
    "tth | real\n",
    "q | pseudo"
   ]
  },
  {
   "cell_type": "markdown",
   "metadata": {},
   "source": [
    "Create the diffractometer object."
   ]
  },
  {
   "cell_type": "code",
   "execution_count": 1,
   "metadata": {},
   "outputs": [
    {
     "name": "stdout",
     "output_type": "stream",
     "text": [
      "Factory constructor.\n"
     ]
    }
   ],
   "source": [
    "import hklpy2\n",
    "\n",
    "th2th = hklpy2.creator(name=\"th2th\", geometry=\"TH TTH Q\", solver=\"th_tth\")"
   ]
  },
  {
   "cell_type": "markdown",
   "metadata": {},
   "source": [
    "Show the configuration of this diffractometer."
   ]
  },
  {
   "cell_type": "code",
   "execution_count": 2,
   "metadata": {},
   "outputs": [
    {
     "name": "stdout",
     "output_type": "stream",
     "text": [
      "q=0\n",
      "wavelength=1.0\n",
      "th=0, tth=0\n"
     ]
    }
   ],
   "source": [
    "th2th.wh()"
   ]
  },
  {
   "cell_type": "markdown",
   "metadata": {},
   "source": [
    "## Add additional positioner\n",
    "\n",
    "We can use the `hklpy2.creator()` for the additional positioner.  Since we are not using the default `reals`, we'll provide a Python dictionary that defines each real axis, in order, and whether it uses a simulated motor or an EPICS PV.  `None` means to use a simulated motor."
   ]
  },
  {
   "cell_type": "code",
   "execution_count": 3,
   "metadata": {},
   "outputs": [
    {
     "name": "stdout",
     "output_type": "stream",
     "text": [
      "Factory constructor.\n",
      "q=0\n",
      "wavelength=1.0\n",
      "th=0, tth=0\n"
     ]
    }
   ],
   "source": [
    "th2th = hklpy2.creator(\n",
    "    name=\"th2th\",\n",
    "    geometry=\"TH TTH Q\",\n",
    "    solver=\"th_tth\",\n",
    "    reals=dict(th=None, tth=None, spinner=None)\n",
    ")\n",
    "th2th.wh()"
   ]
  },
  {
   "cell_type": "markdown",
   "metadata": {},
   "source": [
    "Compare these results.  The new result adds the `spinner` axis.\n",
    "\n",
    "Set (and show) the limits on the spinner:"
   ]
  },
  {
   "cell_type": "code",
   "execution_count": 4,
   "metadata": {},
   "outputs": [
    {
     "data": {
      "text/plain": [
       "(-10000, 10000)"
      ]
     },
     "execution_count": 4,
     "metadata": {},
     "output_type": "execute_result"
    }
   ],
   "source": [
    "th2th.spinner._limits = -10_000, 10_000\n",
    "th2th.spinner.limits"
   ]
  },
  {
   "cell_type": "markdown",
   "metadata": {},
   "source": [
    "## Can we add other pseudo axes?\n",
    "\n",
    "**Q**: With this capability to add additional real positioners, can we add axes\n",
    "to the pseudo positioners?\n",
    "\n",
    "**A**: Yes.  There is a `pseudos=list()` keyword argument.  (Pseudos, as virtual\n",
    "axes, are not connected to EPICS PVs.)\n",
    "\n",
    "See this example:"
   ]
  },
  {
   "cell_type": "code",
   "execution_count": null,
   "metadata": {},
   "outputs": [
    {
     "name": "stdout",
     "output_type": "stream",
     "text": [
      "Factory constructor.\n"
     ]
    },
    {
     "ename": "AttributeError",
     "evalue": "type object 'Hklpy2Diffractometer' has no attribute 'th'",
     "output_type": "error",
     "traceback": [
      "\u001b[31m---------------------------------------------------------------------------\u001b[39m",
      "\u001b[31mAttributeError\u001b[39m                            Traceback (most recent call last)",
      "\u001b[36mCell\u001b[39m\u001b[36m \u001b[39m\u001b[32mIn[5]\u001b[39m\u001b[32m, line 1\u001b[39m\n\u001b[32m----> \u001b[39m\u001b[32m1\u001b[39m th2th = \u001b[43mhklpy2\u001b[49m\u001b[43m.\u001b[49m\u001b[43mcreator\u001b[49m\u001b[43m(\u001b[49m\n\u001b[32m      2\u001b[39m \u001b[43m    \u001b[49m\u001b[43mname\u001b[49m\u001b[43m=\u001b[49m\u001b[33;43m\"\u001b[39;49m\u001b[33;43mth2th\u001b[39;49m\u001b[33;43m\"\u001b[39;49m\u001b[43m,\u001b[49m\n\u001b[32m      3\u001b[39m \u001b[43m    \u001b[49m\u001b[43mgeometry\u001b[49m\u001b[43m=\u001b[49m\u001b[33;43m\"\u001b[39;49m\u001b[33;43mTH TTH Q\u001b[39;49m\u001b[33;43m\"\u001b[39;49m\u001b[43m,\u001b[49m\n\u001b[32m      4\u001b[39m \u001b[43m    \u001b[49m\u001b[43msolver\u001b[49m\u001b[43m=\u001b[49m\u001b[33;43m\"\u001b[39;49m\u001b[33;43mth_tth\u001b[39;49m\u001b[33;43m\"\u001b[39;49m\u001b[43m,\u001b[49m\n\u001b[32m      5\u001b[39m \u001b[43m    \u001b[49m\u001b[43mpseudos\u001b[49m\u001b[43m=\u001b[49m\u001b[43m[\u001b[49m\u001b[33;43m\"\u001b[39;49m\u001b[33;43mQ\u001b[39;49m\u001b[33;43m\"\u001b[39;49m\u001b[43m,\u001b[49m\u001b[43m \u001b[49m\u001b[33;43m\"\u001b[39;49m\u001b[33;43md\u001b[39;49m\u001b[33;43m\"\u001b[39;49m\u001b[43m]\u001b[49m\u001b[43m,\u001b[49m\n\u001b[32m      6\u001b[39m \u001b[43m    \u001b[49m\u001b[43mreals\u001b[49m\u001b[43m=\u001b[49m\u001b[38;5;28;43mdict\u001b[39;49m\u001b[43m(\u001b[49m\u001b[43msample\u001b[49m\u001b[43m=\u001b[49m\u001b[38;5;28;43;01mNone\u001b[39;49;00m\u001b[43m,\u001b[49m\u001b[43m \u001b[49m\u001b[43mdetector\u001b[49m\u001b[43m=\u001b[49m\u001b[38;5;28;43;01mNone\u001b[39;49;00m\u001b[43m,\u001b[49m\u001b[43m \u001b[49m\u001b[43mspinner\u001b[49m\u001b[43m=\u001b[49m\u001b[38;5;28;43;01mNone\u001b[39;49;00m\u001b[43m)\u001b[49m\n\u001b[32m      7\u001b[39m \u001b[43m)\u001b[49m\n\u001b[32m      8\u001b[39m th2th.wh()\n",
      "\u001b[36mFile \u001b[39m\u001b[32m~/Documents/projects/prjemian/hklpy2/hklpy2/diffract.py:724\u001b[39m, in \u001b[36mcreator\u001b[39m\u001b[34m(prefix, name, solver, geometry, solver_kwargs, pseudos, reals, assignments, motor_labels, labels, class_name, class_bases, **kwargs)\u001b[39m\n\u001b[32m    631\u001b[39m \u001b[38;5;250m\u001b[39m\u001b[33;03m\"\"\"\u001b[39;00m\n\u001b[32m    632\u001b[39m \u001b[33;03mFactory function to create a diffractometer instance.\u001b[39;00m\n\u001b[32m    633\u001b[39m \n\u001b[32m   (...)\u001b[39m\u001b[32m    711\u001b[39m \u001b[33;03m    the new diffractometer object.\u001b[39;00m\n\u001b[32m    712\u001b[39m \u001b[33;03m\"\"\"\u001b[39;00m\n\u001b[32m    713\u001b[39m DiffractometerClass = diffractometer_class_factory(\n\u001b[32m    714\u001b[39m     solver=solver,\n\u001b[32m    715\u001b[39m     geometry=geometry,\n\u001b[32m   (...)\u001b[39m\u001b[32m    722\u001b[39m     assignments=assignments,\n\u001b[32m    723\u001b[39m )\n\u001b[32m--> \u001b[39m\u001b[32m724\u001b[39m \u001b[38;5;28;01mreturn\u001b[39;00m \u001b[43mDiffractometerClass\u001b[49m\u001b[43m(\u001b[49m\u001b[43mprefix\u001b[49m\u001b[43m,\u001b[49m\u001b[43m \u001b[49m\u001b[43mname\u001b[49m\u001b[43m=\u001b[49m\u001b[43mname\u001b[49m\u001b[43m,\u001b[49m\u001b[43m \u001b[49m\u001b[43mlabels\u001b[49m\u001b[43m=\u001b[49m\u001b[43mlabels\u001b[49m\u001b[43m,\u001b[49m\u001b[43m \u001b[49m\u001b[43m*\u001b[49m\u001b[43m*\u001b[49m\u001b[43mkwargs\u001b[49m\u001b[43m)\u001b[49m\n",
      "\u001b[36mFile \u001b[39m\u001b[32m~/Documents/projects/prjemian/hklpy2/hklpy2/diffract.py:841\u001b[39m, in \u001b[36mdiffractometer_class_factory.<locals>.constructor\u001b[39m\u001b[34m(self, prefix, solver, geometry, solver_kwargs, pseudos, reals, **kwargs)\u001b[39m\n\u001b[32m    829\u001b[39m \u001b[38;5;28;01mdef\u001b[39;00m\u001b[38;5;250m \u001b[39m\u001b[34mconstructor\u001b[39m(\n\u001b[32m    830\u001b[39m     \u001b[38;5;28mself\u001b[39m,\n\u001b[32m    831\u001b[39m     prefix: \u001b[38;5;28mstr\u001b[39m = \u001b[33m\"\u001b[39m\u001b[33m\"\u001b[39m,\n\u001b[32m   (...)\u001b[39m\u001b[32m    838\u001b[39m     **kwargs,\n\u001b[32m    839\u001b[39m ):\n\u001b[32m    840\u001b[39m     \u001b[38;5;28mprint\u001b[39m(\u001b[33m\"\u001b[39m\u001b[33mFactory constructor.\u001b[39m\u001b[33m\"\u001b[39m)\n\u001b[32m--> \u001b[39m\u001b[32m841\u001b[39m     \u001b[38;5;28;43msuper\u001b[39;49m\u001b[43m(\u001b[49m\u001b[38;5;28;43mtype\u001b[39;49m\u001b[43m(\u001b[49m\u001b[38;5;28;43mself\u001b[39;49m\u001b[43m)\u001b[49m\u001b[43m,\u001b[49m\u001b[43m \u001b[49m\u001b[38;5;28;43mself\u001b[39;49m\u001b[43m)\u001b[49m\u001b[43m.\u001b[49m\u001b[34;43m__init__\u001b[39;49m\u001b[43m(\u001b[49m\n\u001b[32m    842\u001b[39m \u001b[43m        \u001b[49m\u001b[43mprefix\u001b[49m\u001b[43m=\u001b[49m\u001b[43mprefix\u001b[49m\u001b[43m,\u001b[49m\n\u001b[32m    843\u001b[39m \u001b[43m        \u001b[49m\u001b[43msolver\u001b[49m\u001b[43m=\u001b[49m\u001b[43msolver\u001b[49m\u001b[43m,\u001b[49m\n\u001b[32m    844\u001b[39m \u001b[43m        \u001b[49m\u001b[43mgeometry\u001b[49m\u001b[43m=\u001b[49m\u001b[43mgeometry\u001b[49m\u001b[43m,\u001b[49m\n\u001b[32m    845\u001b[39m \u001b[43m        \u001b[49m\u001b[43msolver_kwargs\u001b[49m\u001b[43m=\u001b[49m\u001b[43msolver_kwargs\u001b[49m\u001b[43m,\u001b[49m\n\u001b[32m    846\u001b[39m \u001b[43m        \u001b[49m\u001b[43mpseudos\u001b[49m\u001b[43m=\u001b[49m\u001b[43mpseudos\u001b[49m\u001b[43m,\u001b[49m\n\u001b[32m    847\u001b[39m \u001b[43m        \u001b[49m\u001b[43mreals\u001b[49m\u001b[43m=\u001b[49m\u001b[43mreals\u001b[49m\u001b[43m,\u001b[49m\n\u001b[32m    848\u001b[39m \u001b[43m        \u001b[49m\u001b[43m*\u001b[49m\u001b[43m*\u001b[49m\u001b[43mkwargs\u001b[49m\u001b[43m,\u001b[49m\n\u001b[32m    849\u001b[39m \u001b[43m    \u001b[49m\u001b[43m)\u001b[49m\n",
      "\u001b[36mFile \u001b[39m\u001b[32m~/Documents/projects/prjemian/hklpy2/hklpy2/diffract.py:171\u001b[39m, in \u001b[36mDiffractometerBase.__init__\u001b[39m\u001b[34m(self, prefix, solver, geometry, solver_kwargs, pseudos, reals, **kwargs)\u001b[39m\n\u001b[32m    167\u001b[39m \u001b[38;5;28mself\u001b[39m._source = MonochromaticXrayWavelength(DEFAULT_WAVELENGTH)\n\u001b[32m    169\u001b[39m \u001b[38;5;28mself\u001b[39m.core = Core(\u001b[38;5;28mself\u001b[39m)\n\u001b[32m--> \u001b[39m\u001b[32m171\u001b[39m \u001b[38;5;28;43msuper\u001b[39;49m\u001b[43m(\u001b[49m\u001b[43m)\u001b[49m\u001b[43m.\u001b[49m\u001b[34;43m__init__\u001b[39;49m\u001b[43m(\u001b[49m\u001b[43mprefix\u001b[49m\u001b[43m,\u001b[49m\u001b[43m \u001b[49m\u001b[43m*\u001b[49m\u001b[43m*\u001b[49m\u001b[43mkwargs\u001b[49m\u001b[43m)\u001b[49m\n\u001b[32m    173\u001b[39m \u001b[38;5;66;03m# After __init__, syncs solver with the diffractometer.wavelength signal.\u001b[39;00m\n\u001b[32m    174\u001b[39m \u001b[38;5;66;03m#   This code in ops.Core\u001b[39;00m\n\u001b[32m    175\u001b[39m \u001b[38;5;66;03m#   self._solver.wavelength = self.diffractometer.wavelength.get()\u001b[39;00m\n\u001b[32m    176\u001b[39m \u001b[38;5;66;03m#   TODO: #35 Refactor?\u001b[39;00m\n\u001b[32m    177\u001b[39m \u001b[38;5;28;01mif\u001b[39;00m \u001b[38;5;28misinstance\u001b[39m(solver, \u001b[38;5;28mstr\u001b[39m) \u001b[38;5;129;01mand\u001b[39;00m \u001b[38;5;28misinstance\u001b[39m(geometry, \u001b[38;5;28mstr\u001b[39m):\n",
      "\u001b[36mFile \u001b[39m\u001b[32m~/Apps/miniconda/envs/hklpy2/lib/python3.13/site-packages/ophyd/pseudopos.py:425\u001b[39m, in \u001b[36mPseudoPositioner.__init__\u001b[39m\u001b[34m(self, prefix, concurrent, read_attrs, configuration_attrs, name, egu, auto_target, **kwargs)\u001b[39m\n\u001b[32m    411\u001b[39m     \u001b[38;5;28;01mraise\u001b[39;00m \u001b[38;5;167;01mTypeError\u001b[39;00m(\n\u001b[32m    412\u001b[39m         \u001b[33m\"\u001b[39m\u001b[33mPseudoPositioner must be subclassed with the \u001b[39m\u001b[33m\"\u001b[39m\n\u001b[32m    413\u001b[39m         \u001b[33m\"\u001b[39m\u001b[33mcorrect signals set in the class definition.\u001b[39m\u001b[33m\"\u001b[39m\n\u001b[32m    414\u001b[39m     )\n\u001b[32m    416\u001b[39m \u001b[38;5;28msuper\u001b[39m().\u001b[34m__init__\u001b[39m(\n\u001b[32m    417\u001b[39m     prefix,\n\u001b[32m    418\u001b[39m     read_attrs=read_attrs,\n\u001b[32m   (...)\u001b[39m\u001b[32m    422\u001b[39m     **kwargs,\n\u001b[32m    423\u001b[39m )\n\u001b[32m--> \u001b[39m\u001b[32m425\u001b[39m \u001b[38;5;28mself\u001b[39m._real = \u001b[43m[\u001b[49m\u001b[38;5;28;43mgetattr\u001b[39;49m\u001b[43m(\u001b[49m\u001b[38;5;28;43mself\u001b[39;49m\u001b[43m,\u001b[49m\u001b[43m \u001b[49m\u001b[43mattr\u001b[49m\u001b[43m)\u001b[49m\u001b[43m \u001b[49m\u001b[38;5;28;43;01mfor\u001b[39;49;00m\u001b[43m \u001b[49m\u001b[43mattr\u001b[49m\u001b[43m,\u001b[49m\u001b[43m \u001b[49m\u001b[43mcpt\u001b[49m\u001b[43m \u001b[49m\u001b[38;5;129;43;01min\u001b[39;49;00m\u001b[43m \u001b[49m\u001b[38;5;28;43mself\u001b[39;49m\u001b[43m.\u001b[49m\u001b[43m_get_real_positioners\u001b[49m\u001b[43m(\u001b[49m\u001b[43m)\u001b[49m\u001b[43m]\u001b[49m\n\u001b[32m    426\u001b[39m \u001b[38;5;28mself\u001b[39m._pseudo = [\n\u001b[32m    427\u001b[39m     \u001b[38;5;28mgetattr\u001b[39m(\u001b[38;5;28mself\u001b[39m, attr) \u001b[38;5;28;01mfor\u001b[39;00m attr, cpt \u001b[38;5;129;01min\u001b[39;00m \u001b[38;5;28mself\u001b[39m._get_pseudo_positioners()\n\u001b[32m    428\u001b[39m ]\n\u001b[32m    430\u001b[39m \u001b[38;5;28;01mif\u001b[39;00m \u001b[38;5;129;01mnot\u001b[39;00m \u001b[38;5;28mself\u001b[39m._pseudo \u001b[38;5;129;01mor\u001b[39;00m \u001b[38;5;129;01mnot\u001b[39;00m \u001b[38;5;28mself\u001b[39m._real:\n",
      "\u001b[36mFile \u001b[39m\u001b[32m~/Apps/miniconda/envs/hklpy2/lib/python3.13/site-packages/ophyd/pseudopos.py:563\u001b[39m, in \u001b[36mPseudoPositioner._get_real_positioners\u001b[39m\u001b[34m(cls)\u001b[39m\n\u001b[32m    561\u001b[39m \u001b[38;5;28;01mif\u001b[39;00m \u001b[38;5;28mhasattr\u001b[39m(\u001b[38;5;28mcls\u001b[39m, \u001b[33m\"\u001b[39m\u001b[33m_real\u001b[39m\u001b[33m\"\u001b[39m):\n\u001b[32m    562\u001b[39m     \u001b[38;5;28;01mfor\u001b[39;00m real \u001b[38;5;129;01min\u001b[39;00m \u001b[38;5;28mcls\u001b[39m._real:\n\u001b[32m--> \u001b[39m\u001b[32m563\u001b[39m         \u001b[38;5;28;01myield\u001b[39;00m real, \u001b[38;5;28;43mgetattr\u001b[39;49m\u001b[43m(\u001b[49m\u001b[38;5;28;43mcls\u001b[39;49m\u001b[43m,\u001b[49m\u001b[43m \u001b[49m\u001b[43mreal\u001b[49m\u001b[43m)\u001b[49m\n\u001b[32m    564\u001b[39m \u001b[38;5;28;01melse\u001b[39;00m:\n\u001b[32m    565\u001b[39m     \u001b[38;5;28;01mfor\u001b[39;00m attr, cpt \u001b[38;5;129;01min\u001b[39;00m \u001b[38;5;28mcls\u001b[39m._sig_attrs.items():\n",
      "\u001b[31mAttributeError\u001b[39m: type object 'Hklpy2Diffractometer' has no attribute 'th'"
     ]
    }
   ],
   "source": [
    "th2th = hklpy2.creator(  # FIXME #51\n",
    "    name=\"th2th\",\n",
    "    geometry=\"TH TTH Q\",\n",
    "    solver=\"th_tth\",\n",
    "    pseudos=[\"Q\", \"d\"],\n",
    "    reals=dict(sample=None, detector=None, spinner=None)\n",
    ")\n",
    "th2th.wh()"
   ]
  },
  {
   "cell_type": "markdown",
   "metadata": {},
   "source": [
    "## Add additional Signals and Devices\n",
    "\n",
    "Finally, we add additional Signals and Component Devices as a demonstration.\n",
    "\n",
    "The {func}function]`~hklpy2.diffract.creator()` has its limits.  The `creator()`\n",
    "relies on a {func}function]`~hklpy2.diffract.diffractometer_class_factory()`..\n",
    "Let's skip the factory function and show how to build a structure directly.\n",
    "\n",
    "Demonstrate a variety of additional components."
   ]
  },
  {
   "cell_type": "code",
   "execution_count": null,
   "metadata": {},
   "outputs": [],
   "source": [
    "from ophyd import Component, Device, PseudoSingle, Signal, SoftPositioner\n",
    "from ophyd.signal import SignalRO\n",
    "\n",
    "\n",
    "class XYStage(Device):\n",
    "    x = Component(SoftPositioner, kind=\"hinted\", limits=(-20, 105), init_pos=0)\n",
    "    y = Component(SoftPositioner, kind=\"hinted\", limits=(-20, 105), init_pos=0)\n",
    "    solenoid_lock = Component(Signal, value=True, kind=\"normal\")\n",
    "\n",
    "\n",
    "class MyTwoCircle(hklpy2.DiffractometerBase):\n",
    "    _real = [\"th\", \"tth\"]\n",
    "\n",
    "    q = Component(PseudoSingle, \"\", kind=\"hinted\")\n",
    "    th = Component(\n",
    "        SoftPositioner, kind=\"hinted\", limits=(-180, 180), egu=\"degrees\", init_pos=0\n",
    "    )\n",
    "    tth = Component(\n",
    "        SoftPositioner, kind=\"hinted\", limits=(-180, 180), egu=\"degrees\", init_pos=0\n",
    "    )\n",
    "    spinner = Component(\n",
    "        SoftPositioner,\n",
    "        kind=\"hinted\",\n",
    "        limits=(-10000, 10000),\n",
    "        egu=\"rotations\",\n",
    "        init_pos=0,\n",
    "    )\n",
    "    atth = Component(\n",
    "        SoftPositioner, kind=\"hinted\", limits=(-180, 180), egu=\"degrees\", init_pos=0\n",
    "    )\n",
    "    temperature = Component(SignalRO, value=25, kind=\"normal\")\n",
    "    xy = Component(XYStage, kind=\"normal\")\n",
    "\n",
    "    def __init__(self, *args, **kwargs):\n",
    "        super().__init__(\n",
    "            *args,\n",
    "            solver=\"th_tth\",  # solver name\n",
    "            geometry=\"TH TTH Q\",  # solver geometry\n",
    "            **kwargs,\n",
    "        )\n",
    "\n",
    "\n",
    "th2tth = MyTwoCircle(name=\"th2tth\")\n",
    "th2tth.wh()  # brief report of diffractometer position\n",
    "# th2th.summary()  # show the full ophyd structure summary\n",
    "th2tth.read()"
   ]
  }
 ],
 "metadata": {
  "kernelspec": {
   "display_name": "hklpy2",
   "language": "python",
   "name": "python3"
  },
  "language_info": {
   "codemirror_mode": {
    "name": "ipython",
    "version": 3
   },
   "file_extension": ".py",
   "mimetype": "text/x-python",
   "name": "python",
   "nbconvert_exporter": "python",
   "pygments_lexer": "ipython3",
   "version": "3.13.2"
  }
 },
 "nbformat": 4,
 "nbformat_minor": 4
}
